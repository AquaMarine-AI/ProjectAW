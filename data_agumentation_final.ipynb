{
  "nbformat": 4,
  "nbformat_minor": 0,
  "metadata": {
    "colab": {
      "provenance": [],
      "authorship_tag": "ABX9TyNiTGd1e3Dbc/dtkYpSGiNG",
      "include_colab_link": true
    },
    "kernelspec": {
      "name": "python3",
      "display_name": "Python 3"
    },
    "language_info": {
      "name": "python"
    }
  },
  "cells": [
    {
      "cell_type": "markdown",
      "metadata": {
        "id": "view-in-github",
        "colab_type": "text"
      },
      "source": [
        "<a href=\"https://colab.research.google.com/github/ScientistLim/ProjectAW/blob/feature%2Fdata-augmentation-Hyun/data_agumentation_final.ipynb\" target=\"_parent\"><img src=\"https://colab.research.google.com/assets/colab-badge.svg\" alt=\"Open In Colab\"/></a>"
      ]
    },
    {
      "cell_type": "markdown",
      "source": [
        "기존 데이터(1week)를 가지고 1개주기(4months) 로 증강\n",
        "- 마지막 부분의 데이터의 bar 가 18까지 증가하도록 적용"
      ],
      "metadata": {
        "id": "rc38dHLSEysx"
      }
    },
    {
      "cell_type": "code",
      "execution_count": null,
      "metadata": {
        "id": "NaX0LbaCCOia"
      },
      "outputs": [],
      "source": [
        "import numpy as np\n",
        "import pandas as pd\n",
        "import matplotlib.pyplot as plt\n",
        "from datetime import datetime, timedelta\n",
        "from scipy.interpolate import interp1d\n",
        "\n",
        "# CSV 파일 불러오기 및 처리\n",
        "file_name = '(0923-0930)시간-처리수전기전도도-유입압력.csv'\n",
        "df = pd.read_csv(file_name)\n",
        "\n",
        "# E열 (처리수 전기전도도), K열 (RO유입압력) 추출\n",
        "df_selected = df[['Time', 'Permeate Conductivity', 'Feed Pressure']]\n",
        "df_selected.columns = ['Time', 'conductivity', 'feed_pressure']\n",
        "\n",
        "# Time 컬럼을 datetime 형태로 변환\n",
        "df_selected['Time'] = pd.to_datetime(df_selected['Time'])\n",
        "\n",
        "# 데이터 확인\n",
        "print(\"Original Data:\")\n",
        "print(df_selected.head())\n",
        "\n",
        "# 경향성을 기반으로 데이터를 16배로 늘리기\n",
        "# 1. 시간 간격을 1분으로 설정하며 시간 데이터를 16배로 확장\n",
        "time_min = df_selected['Time'].min()\n",
        "\n",
        "# 데이터 간격이 1분이므로, 전체 데이터의 길이를 16배로 늘린 후 마지막 시간을 10월 1일로 맞춤\n",
        "time_new = pd.date_range(start=time_min, periods=len(df_selected) * 16, freq='T')\n",
        "\n",
        "# 2. 각 특성 데이터를 보간해서 16배로 확장\n",
        "conductivity_interp = interp1d(np.arange(len(df_selected)), df_selected['conductivity'], kind='linear')\n",
        "feed_pressure_interp = interp1d(np.arange(len(df_selected)), df_selected['feed_pressure'], kind='linear')\n",
        "\n",
        "# 새로운 시간에 맞춰 데이터를 16배로 늘림\n",
        "x_new = np.linspace(0, len(df_selected) - 1, len(df_selected) * 16)\n",
        "conductivity_new = conductivity_interp(x_new)\n",
        "feed_pressure_new = feed_pressure_interp(x_new)\n",
        "\n",
        "# 3. feed_pressure 데이터를 점진적으로 18에 가깝게 증가시키기 위한 처리\n",
        "# feed_pressure 값이 점점 증가하여 18에 수렴하도록 비율을 적용\n",
        "target_value = 18\n",
        "current_max = feed_pressure_new.max()\n",
        "feed_pressure_new = feed_pressure_new + (target_value - current_max) * (np.linspace(0, 1, len(feed_pressure_new)))\n",
        "\n",
        "# 확장된 데이터를 새로운 데이터프레임에 저장\n",
        "df_expanded = pd.DataFrame({\n",
        "    'Time': time_new,\n",
        "    'conductivity': conductivity_new,\n",
        "    'feed_pressure': feed_pressure_new\n",
        "})\n",
        "\n",
        "# 마지막 시간을 10월 1일로 맞추기 위한 처리\n",
        "time_difference = pd.to_datetime('2024-10-01') - df_expanded['Time'].iloc[-1]\n",
        "df_expanded['Time'] = df_expanded['Time'] + time_difference\n",
        "\n",
        "# 결과 확인\n",
        "print(\"\\nExpanded Data:\")\n",
        "print(df_expanded.head())\n",
        "\n",
        "# 증강된 데이터를 엑셀 파일로 저장\n",
        "output_file = 'one-cycle-4months.xlsx'\n",
        "df_expanded.to_excel(output_file, index=False)\n",
        "print(f\"Expanded data saved to {output_file}\")\n",
        "\n",
        "# 데이터 시각화\n",
        "plt.figure(figsize=(10, 5))\n",
        "plt.plot(df_selected['Time'], df_selected['conductivity'], label='Conductivity (Original)')\n",
        "plt.plot(df_selected['Time'], df_selected['feed_pressure'], label='Feed Pressure (Original)', linestyle='--')\n",
        "\n",
        "plt.plot(df_expanded['Time'], df_expanded['conductivity'], label='Conductivity (Expanded)', marker='o')\n",
        "plt.plot(df_expanded['Time'], df_expanded['feed_pressure'], label='Feed Pressure (Expanded to 18)', marker='x')\n",
        "\n",
        "plt.xlabel('Time')\n",
        "plt.ylabel('Value')\n",
        "plt.title('Data Expansion with 1 Minute Interval and Time Adjusted to End on Oct 1st')\n",
        "plt.legend()\n",
        "plt.xticks(rotation=45)\n",
        "plt.tight_layout()\n",
        "plt.show()\n"
      ]
    },
    {
      "cell_type": "markdown",
      "source": [
        "1년 6개월 치 데이터 증강(16months)\n",
        "- 위에서 생성한 1개주기(4months) 를 4배로 증강하여 앞쪽에 추가한 것"
      ],
      "metadata": {
        "id": "c9fsj2b4FESy"
      }
    },
    {
      "cell_type": "code",
      "source": [
        "import numpy as np\n",
        "import pandas as pd\n",
        "import matplotlib.pyplot as plt\n",
        "from datetime import datetime, timedelta\n",
        "\n",
        "# 이전에 생성한 엑셀 파일 불러오기\n",
        "file_name = 'one-cycle-4months.xlsx'\n",
        "df_expanded = pd.read_excel(file_name)\n",
        "\n",
        "# 증강된 데이터를 3번 복사하여 앞에 추가\n",
        "num_copies = 3\n",
        "augmented_data_list = []\n",
        "\n",
        "for i in range(1, num_copies + 1):\n",
        "    temp_data = df_expanded.copy()\n",
        "    # Time 데이터를 각 복사본마다 1분씩 감소\n",
        "    temp_data['Time'] = temp_data['Time'] - pd.to_timedelta(i * len(df_expanded), unit='m')\n",
        "    augmented_data_list.append(temp_data)\n",
        "\n",
        "# 복사된 데이터를 기존 데이터 앞에 붙이기\n",
        "df_final = pd.concat(augmented_data_list + [df_expanded]).reset_index(drop=True)\n",
        "\n",
        "# 결과 확인\n",
        "print(\"\\nFinal Data with 3 Copies Added:\")\n",
        "print(df_final.head())\n",
        "\n",
        "# 최종 데이터를 엑셀 파일로 저장\n",
        "output_file = 'four-cycle-16months.xlsx'\n",
        "df_final.to_excel(output_file, index=False)\n",
        "print(f\"Final data with copies saved to {output_file}\")\n",
        "\n",
        "# 데이터 시각화\n",
        "plt.figure(figsize=(10, 5))\n",
        "plt.plot(df_expanded['Time'], df_expanded['conductivity'], label='Conductivity (Original)', marker='o')\n",
        "plt.plot(df_expanded['Time'], df_expanded['feed_pressure'], label='Feed Pressure (Original)', linestyle='--')\n",
        "\n",
        "plt.plot(df_final['Time'], df_final['conductivity'], label='Conductivity (Final with Copies)', marker='x')\n",
        "plt.plot(df_final['Time'], df_final['feed_pressure'], label='Feed Pressure (Final with Copies)', marker='s')\n",
        "\n",
        "plt.xlabel('Time')\n",
        "plt.ylabel('Value')\n",
        "plt.title('Final Data with 3 Copies Added')\n",
        "plt.legend()\n",
        "plt.xticks(rotation=45)\n",
        "plt.tight_layout()\n",
        "plt.show()\n"
      ],
      "metadata": {
        "id": "ytDceT64Ex6B"
      },
      "execution_count": null,
      "outputs": []
    }
  ]
}