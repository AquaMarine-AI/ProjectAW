{
  "cells": [
    {
      "cell_type": "markdown",
      "metadata": {
        "id": "view-in-github",
        "colab_type": "text"
      },
      "source": [
        "<a href=\"https://colab.research.google.com/github/ScientistLim/ProjectAW/blob/feature%2Ftft-model-Hyun/tft_v3.ipynb\" target=\"_parent\"><img src=\"https://colab.research.google.com/assets/colab-badge.svg\" alt=\"Open In Colab\"/></a>"
      ]
    },
    {
      "cell_type": "code",
      "execution_count": 33,
      "metadata": {
        "colab": {
          "base_uri": "https://localhost:8080/"
        },
        "id": "5BFtEqFPemxS",
        "outputId": "9cd9c4b7-c488-43e4-e409-39568a918d0c"
      },
      "outputs": [
        {
          "output_type": "stream",
          "name": "stdout",
          "text": [
            "Drive already mounted at /content/drive; to attempt to forcibly remount, call drive.mount(\"/content/drive\", force_remount=True).\n"
          ]
        }
      ],
      "source": [
        "from google.colab import drive\n",
        "drive.mount('/content/drive')"
      ]
    },
    {
      "cell_type": "code",
      "execution_count": 34,
      "metadata": {
        "colab": {
          "base_uri": "https://localhost:8080/"
        },
        "id": "uWXgUYD5cFHh",
        "outputId": "4e4d2785-0c60-4e57-c7e0-bad01a794e12"
      },
      "outputs": [
        {
          "output_type": "stream",
          "name": "stdout",
          "text": [
            "Requirement already satisfied: pytorch-forecasting in /usr/local/lib/python3.10/dist-packages (1.1.1)\n",
            "Requirement already satisfied: numpy<2.0.0 in /usr/local/lib/python3.10/dist-packages (from pytorch-forecasting) (1.26.4)\n",
            "Requirement already satisfied: torch!=2.0.1,<3.0.0,>=2.0.0 in /usr/local/lib/python3.10/dist-packages (from pytorch-forecasting) (2.5.0+cu121)\n",
            "Requirement already satisfied: lightning<3.0.0,>=2.0.0 in /usr/local/lib/python3.10/dist-packages (from pytorch-forecasting) (2.4.0)\n",
            "Requirement already satisfied: scipy<2.0,>=1.8 in /usr/local/lib/python3.10/dist-packages (from pytorch-forecasting) (1.13.1)\n",
            "Requirement already satisfied: pandas<3.0.0,>=1.3.0 in /usr/local/lib/python3.10/dist-packages (from pytorch-forecasting) (2.2.2)\n",
            "Requirement already satisfied: scikit-learn<2.0,>=1.2 in /usr/local/lib/python3.10/dist-packages (from pytorch-forecasting) (1.5.2)\n",
            "Requirement already satisfied: PyYAML<8.0,>=5.4 in /usr/local/lib/python3.10/dist-packages (from lightning<3.0.0,>=2.0.0->pytorch-forecasting) (6.0.2)\n",
            "Requirement already satisfied: fsspec<2026.0,>=2022.5.0 in /usr/local/lib/python3.10/dist-packages (from fsspec[http]<2026.0,>=2022.5.0->lightning<3.0.0,>=2.0.0->pytorch-forecasting) (2024.6.1)\n",
            "Requirement already satisfied: lightning-utilities<2.0,>=0.10.0 in /usr/local/lib/python3.10/dist-packages (from lightning<3.0.0,>=2.0.0->pytorch-forecasting) (0.11.8)\n",
            "Requirement already satisfied: packaging<25.0,>=20.0 in /usr/local/lib/python3.10/dist-packages (from lightning<3.0.0,>=2.0.0->pytorch-forecasting) (24.1)\n",
            "Requirement already satisfied: torchmetrics<3.0,>=0.7.0 in /usr/local/lib/python3.10/dist-packages (from lightning<3.0.0,>=2.0.0->pytorch-forecasting) (1.5.1)\n",
            "Requirement already satisfied: tqdm<6.0,>=4.57.0 in /usr/local/lib/python3.10/dist-packages (from lightning<3.0.0,>=2.0.0->pytorch-forecasting) (4.66.5)\n",
            "Requirement already satisfied: typing-extensions<6.0,>=4.4.0 in /usr/local/lib/python3.10/dist-packages (from lightning<3.0.0,>=2.0.0->pytorch-forecasting) (4.12.2)\n",
            "Requirement already satisfied: pytorch-lightning in /usr/local/lib/python3.10/dist-packages (from lightning<3.0.0,>=2.0.0->pytorch-forecasting) (2.4.0)\n",
            "Requirement already satisfied: python-dateutil>=2.8.2 in /usr/local/lib/python3.10/dist-packages (from pandas<3.0.0,>=1.3.0->pytorch-forecasting) (2.8.2)\n",
            "Requirement already satisfied: pytz>=2020.1 in /usr/local/lib/python3.10/dist-packages (from pandas<3.0.0,>=1.3.0->pytorch-forecasting) (2024.2)\n",
            "Requirement already satisfied: tzdata>=2022.7 in /usr/local/lib/python3.10/dist-packages (from pandas<3.0.0,>=1.3.0->pytorch-forecasting) (2024.2)\n",
            "Requirement already satisfied: joblib>=1.2.0 in /usr/local/lib/python3.10/dist-packages (from scikit-learn<2.0,>=1.2->pytorch-forecasting) (1.4.2)\n",
            "Requirement already satisfied: threadpoolctl>=3.1.0 in /usr/local/lib/python3.10/dist-packages (from scikit-learn<2.0,>=1.2->pytorch-forecasting) (3.5.0)\n",
            "Requirement already satisfied: filelock in /usr/local/lib/python3.10/dist-packages (from torch!=2.0.1,<3.0.0,>=2.0.0->pytorch-forecasting) (3.16.1)\n",
            "Requirement already satisfied: networkx in /usr/local/lib/python3.10/dist-packages (from torch!=2.0.1,<3.0.0,>=2.0.0->pytorch-forecasting) (3.4.2)\n",
            "Requirement already satisfied: jinja2 in /usr/local/lib/python3.10/dist-packages (from torch!=2.0.1,<3.0.0,>=2.0.0->pytorch-forecasting) (3.1.4)\n",
            "Requirement already satisfied: sympy==1.13.1 in /usr/local/lib/python3.10/dist-packages (from torch!=2.0.1,<3.0.0,>=2.0.0->pytorch-forecasting) (1.13.1)\n",
            "Requirement already satisfied: mpmath<1.4,>=1.1.0 in /usr/local/lib/python3.10/dist-packages (from sympy==1.13.1->torch!=2.0.1,<3.0.0,>=2.0.0->pytorch-forecasting) (1.3.0)\n",
            "Requirement already satisfied: aiohttp!=4.0.0a0,!=4.0.0a1 in /usr/local/lib/python3.10/dist-packages (from fsspec[http]<2026.0,>=2022.5.0->lightning<3.0.0,>=2.0.0->pytorch-forecasting) (3.10.10)\n",
            "Requirement already satisfied: setuptools in /usr/local/lib/python3.10/dist-packages (from lightning-utilities<2.0,>=0.10.0->lightning<3.0.0,>=2.0.0->pytorch-forecasting) (75.1.0)\n",
            "Requirement already satisfied: six>=1.5 in /usr/local/lib/python3.10/dist-packages (from python-dateutil>=2.8.2->pandas<3.0.0,>=1.3.0->pytorch-forecasting) (1.16.0)\n",
            "Requirement already satisfied: MarkupSafe>=2.0 in /usr/local/lib/python3.10/dist-packages (from jinja2->torch!=2.0.1,<3.0.0,>=2.0.0->pytorch-forecasting) (3.0.2)\n",
            "Requirement already satisfied: aiohappyeyeballs>=2.3.0 in /usr/local/lib/python3.10/dist-packages (from aiohttp!=4.0.0a0,!=4.0.0a1->fsspec[http]<2026.0,>=2022.5.0->lightning<3.0.0,>=2.0.0->pytorch-forecasting) (2.4.3)\n",
            "Requirement already satisfied: aiosignal>=1.1.2 in /usr/local/lib/python3.10/dist-packages (from aiohttp!=4.0.0a0,!=4.0.0a1->fsspec[http]<2026.0,>=2022.5.0->lightning<3.0.0,>=2.0.0->pytorch-forecasting) (1.3.1)\n",
            "Requirement already satisfied: attrs>=17.3.0 in /usr/local/lib/python3.10/dist-packages (from aiohttp!=4.0.0a0,!=4.0.0a1->fsspec[http]<2026.0,>=2022.5.0->lightning<3.0.0,>=2.0.0->pytorch-forecasting) (24.2.0)\n",
            "Requirement already satisfied: frozenlist>=1.1.1 in /usr/local/lib/python3.10/dist-packages (from aiohttp!=4.0.0a0,!=4.0.0a1->fsspec[http]<2026.0,>=2022.5.0->lightning<3.0.0,>=2.0.0->pytorch-forecasting) (1.4.1)\n",
            "Requirement already satisfied: multidict<7.0,>=4.5 in /usr/local/lib/python3.10/dist-packages (from aiohttp!=4.0.0a0,!=4.0.0a1->fsspec[http]<2026.0,>=2022.5.0->lightning<3.0.0,>=2.0.0->pytorch-forecasting) (6.1.0)\n",
            "Requirement already satisfied: yarl<2.0,>=1.12.0 in /usr/local/lib/python3.10/dist-packages (from aiohttp!=4.0.0a0,!=4.0.0a1->fsspec[http]<2026.0,>=2022.5.0->lightning<3.0.0,>=2.0.0->pytorch-forecasting) (1.16.0)\n",
            "Requirement already satisfied: async-timeout<5.0,>=4.0 in /usr/local/lib/python3.10/dist-packages (from aiohttp!=4.0.0a0,!=4.0.0a1->fsspec[http]<2026.0,>=2022.5.0->lightning<3.0.0,>=2.0.0->pytorch-forecasting) (4.0.3)\n",
            "Requirement already satisfied: idna>=2.0 in /usr/local/lib/python3.10/dist-packages (from yarl<2.0,>=1.12.0->aiohttp!=4.0.0a0,!=4.0.0a1->fsspec[http]<2026.0,>=2022.5.0->lightning<3.0.0,>=2.0.0->pytorch-forecasting) (3.10)\n",
            "Requirement already satisfied: propcache>=0.2.0 in /usr/local/lib/python3.10/dist-packages (from yarl<2.0,>=1.12.0->aiohttp!=4.0.0a0,!=4.0.0a1->fsspec[http]<2026.0,>=2022.5.0->lightning<3.0.0,>=2.0.0->pytorch-forecasting) (0.2.0)\n",
            "ERROR: unknown command \"instsall\" - maybe you meant \"install\"\n"
          ]
        }
      ],
      "source": [
        "!pip install pytorch-forecasting\n",
        "!pip instsall"
      ]
    },
    {
      "cell_type": "code",
      "execution_count": 35,
      "metadata": {
        "id": "gD_kZCPKLQFG",
        "colab": {
          "base_uri": "https://localhost:8080/"
        },
        "outputId": "fdfe40a4-f752-4214-e36f-e1aeff28778a"
      },
      "outputs": [
        {
          "output_type": "stream",
          "name": "stdout",
          "text": [
            "The tensorboard extension is already loaded. To reload it, use:\n",
            "  %reload_ext tensorboard\n"
          ]
        }
      ],
      "source": [
        "%load_ext tensorboard"
      ]
    },
    {
      "cell_type": "code",
      "execution_count": 36,
      "metadata": {
        "id": "WR3rTVtlOj_1"
      },
      "outputs": [],
      "source": [
        "from tensorflow.keras.callbacks import TensorBoard, ModelCheckpoint, EarlyStopping, ReduceLROnPlateau\n",
        "import datetime  # datetime 모듈 임포트\n",
        "import os\n",
        "import numpy as np\n",
        "from tensorflow.keras.models import load_model\n",
        "from tensorflow.keras.optimizers import Adam\n",
        "import pandas as pd\n",
        "import torch\n",
        "from pytorch_forecasting import TimeSeriesDataSet, TemporalFusionTransformer\n",
        "from pytorch_forecasting.data import GroupNormalizer\n",
        "from pytorch_forecasting.metrics import RMSE\n",
        "from pytorch_lightning import Trainer, LightningModule\n",
        "from pytorch_lightning.callbacks import EarlyStopping\n",
        "import matplotlib.pyplot as plt\n",
        "from pytorch_forecasting.models.temporal_fusion_transformer.sub_modules import VariableSelectionNetwork\n",
        "from torch import nn\n",
        "from pytorch_lightning.callbacks import LearningRateMonitor\n",
        "from pytorch_lightning.callbacks import ModelCheckpoint\n",
        "from sklearn.metrics import mean_squared_error, mean_absolute_percentage_error, r2_score\n"
      ]
    },
    {
      "cell_type": "code",
      "source": [
        "file_path = '/content/drive/MyDrive/종설프1_5팀/전처리.ipynb/[final] four-cycle-16months.xlsx'\n",
        "df = pd.read_excel(file_path)"
      ],
      "metadata": {
        "id": "nmXbI7yTUw-w"
      },
      "execution_count": 37,
      "outputs": []
    },
    {
      "cell_type": "code",
      "source": [
        "# 데이터 확인\n",
        "print(df.head())"
      ],
      "metadata": {
        "colab": {
          "base_uri": "https://localhost:8080/"
        },
        "id": "9P0VdNX-Olt1",
        "outputId": "c1eafb13-78ef-46a6-dca6-8d3003daa5a9"
      },
      "execution_count": 38,
      "outputs": [
        {
          "output_type": "stream",
          "name": "stdout",
          "text": [
            "                 Time  feed_pressure\n",
            "0 2023-06-16 13:30:00       9.050625\n",
            "1 2023-06-16 13:40:00       9.051000\n",
            "2 2023-06-16 13:50:00       9.051374\n",
            "3 2023-06-16 14:00:00       9.051749\n",
            "4 2023-06-16 14:10:00       9.052123\n"
          ]
        }
      ]
    },
    {
      "cell_type": "code",
      "execution_count": 39,
      "metadata": {
        "colab": {
          "base_uri": "https://localhost:8080/"
        },
        "id": "4N3FRguGfmEi",
        "outputId": "5029d0be-8879-44cc-f7a6-4002f3443203"
      },
      "outputs": [
        {
          "output_type": "stream",
          "name": "stdout",
          "text": [
            "Total data length: 71488 rows\n"
          ]
        }
      ],
      "source": [
        "# 데이터 전처리: 필요한 컬럼 설정 (Time, feed_pressure)\n",
        "df['time'] = pd.to_datetime(df['Time'])\n",
        "df['time_idx'] = ((df['time'] - df['time'].min()).dt.total_seconds() // 60).astype(int)  # 5분 간격의 시간 인덱스 생성\n",
        "df['group'] = \"feed_pressure\"  # 그룹화 컬럼 추가\n",
        "\n",
        "# 데이터 길이 확인\n",
        "total_length = len(df)\n",
        "print(f\"Total data length: {total_length} rows\")"
      ]
    },
    {
      "cell_type": "markdown",
      "metadata": {
        "id": "PoFmjhBEh4N0"
      },
      "source": [
        "### 데이터 준비 및 설정\n",
        "우선 max_encoder_length와 max_prediction_length를 설정하여 데이터의 인코더 및 예측 길이를 정의합니다."
      ]
    },
    {
      "cell_type": "code",
      "execution_count": 86,
      "metadata": {
        "colab": {
          "base_uri": "https://localhost:8080/"
        },
        "id": "3YQs6UADiCoO",
        "outputId": "0b89de43-8428-4c66-a49a-e3270b436b4a"
      },
      "outputs": [
        {
          "output_type": "stream",
          "name": "stdout",
          "text": [
            "Max encoder length: 1000 entries\n",
            "Max prediction length: 100 entries\n",
            "Min_encoder_length: 100 entries\n"
          ]
        }
      ],
      "source": [
        "# max_encoder_length와 max_prediction_length 설정\n",
        "max_encoder_length = 1000\n",
        "max_prediction_length = 100\n",
        "min_encoder_length = 100\n",
        "\n",
        "print(f\"Max encoder length: {max_encoder_length} entries\")\n",
        "print(f\"Max prediction length: {max_prediction_length} entries\")\n",
        "print(f\"Min_encoder_length: {min_encoder_length} entries\")"
      ]
    },
    {
      "cell_type": "code",
      "source": [
        "# 전체 데이터를 4개의 반복 패턴으로 나누기 (16주씩 4번 반복)\n",
        "cycle_length = len(df) // 4\n",
        "\n",
        "# 각 패턴을 데이터셋으로 나누기\n",
        "train_data = pd.concat([df.iloc[:cycle_length * 3]])  # 처음 3개의 반복 패턴을 훈련 데이터로 사용\n",
        "val_data = df.iloc[cycle_length * 3:]  # 마지막 반복 패턴을 검증 데이터로 사용"
      ],
      "metadata": {
        "id": "ksrT1MePbptU"
      },
      "execution_count": 87,
      "outputs": []
    },
    {
      "cell_type": "markdown",
      "metadata": {
        "id": "mkCDU7vhiD-K"
      },
      "source": [
        "### TimeSeriesDataSet 생성\n",
        "TimeSeriesDataSet을 사용해 데이터를 생성합니다. 여기에는 타겟, 그룹화 방식, 그리고 변동하는 시계열 컬럼을 정의합니다.\n"
      ]
    },
    {
      "cell_type": "code",
      "execution_count": 88,
      "metadata": {
        "id": "Yn_pCUPwiNFS",
        "colab": {
          "base_uri": "https://localhost:8080/"
        },
        "outputId": "d23c14b9-e6d6-424a-9b19-0f3af58de84f"
      },
      "outputs": [
        {
          "output_type": "stream",
          "name": "stdout",
          "text": [
            "Normalizer parameters (mean, std): [13.74567639  2.36048209]\n"
          ]
        }
      ],
      "source": [
        "normalizer = GroupNormalizer(groups=[\"group\"], transformation=\"softplus\")\n",
        "\n",
        "# 학습용 및 검증용 TimeSeriesDataSet 생성\n",
        "training = TimeSeriesDataSet(\n",
        "    train_data,\n",
        "    time_idx=\"time_idx\",\n",
        "    target=\"feed_pressure\",\n",
        "    group_ids=[\"group\"],\n",
        "    max_encoder_length=max_encoder_length,\n",
        "    max_prediction_length=max_prediction_length,\n",
        "    min_encoder_length=min_encoder_length,\n",
        "    time_varying_unknown_reals=[\"feed_pressure\"],\n",
        "    time_varying_known_reals=[\"time_idx\"],\n",
        "    target_normalizer=normalizer,\n",
        "    allow_missing_timesteps=True\n",
        ")\n",
        "\n",
        "validation = TimeSeriesDataSet(\n",
        "    val_data,\n",
        "    time_idx=\"time_idx\",\n",
        "    target=\"feed_pressure\",\n",
        "    group_ids=[\"group\"],\n",
        "    max_encoder_length=max_encoder_length,\n",
        "    max_prediction_length=max_prediction_length,\n",
        "    min_encoder_length=min_encoder_length,\n",
        "    time_varying_unknown_reals=[\"feed_pressure\"],\n",
        "    time_varying_known_reals=[\"time_idx\"],\n",
        "    target_normalizer=normalizer,\n",
        "    allow_missing_timesteps=True\n",
        ")\n",
        "\n",
        "# normalizer 매개변수 출력\n",
        "normalizer_stats = normalizer.get_parameters(groups=df[\"group\"])\n",
        "print(f\"Normalizer parameters (mean, std): {normalizer_stats}\")"
      ]
    },
    {
      "cell_type": "markdown",
      "metadata": {
        "id": "eTwKJzZniNw3"
      },
      "source": [
        "### DataLoader 생성\n",
        "DataLoader를 생성하여 모델이 데이터를 학습할 수 있도록 준비합니다."
      ]
    },
    {
      "cell_type": "code",
      "execution_count": 90,
      "metadata": {
        "id": "KCaB3cO6iOEu"
      },
      "outputs": [],
      "source": [
        "# DataLoader 생성\n",
        "batch_size = 16\n",
        "train_dataloader = training.to_dataloader(train=True, batch_size=batch_size, shuffle=False, num_workers=0)\n",
        "\n",
        "# Validation DataLoader 생성\n",
        "val_dataloader = training.to_dataloader(train=False, batch_size=batch_size, num_workers=0)"
      ]
    },
    {
      "cell_type": "markdown",
      "metadata": {
        "id": "V0RI59DsiOSK"
      },
      "source": [
        "### Temporal Fusion Transformer 모델 생성\n",
        "Temporal Fusion Transformer 모델을 생성하여 데이터셋을 학습할 준비를 합니다."
      ]
    },
    {
      "cell_type": "code",
      "execution_count": 91,
      "metadata": {
        "id": "5E-rXp1Tbisv",
        "colab": {
          "base_uri": "https://localhost:8080/"
        },
        "outputId": "8c66e41c-f285-4078-ff4a-dc5686cc19a5"
      },
      "outputs": [
        {
          "output_type": "stream",
          "name": "stderr",
          "text": [
            "/usr/local/lib/python3.10/dist-packages/lightning/pytorch/utilities/parsing.py:208: Attribute 'loss' is an instance of `nn.Module` and is already saved during checkpointing. It is recommended to ignore them using `self.save_hyperparameters(ignore=['loss'])`.\n",
            "/usr/local/lib/python3.10/dist-packages/lightning/pytorch/utilities/parsing.py:208: Attribute 'logging_metrics' is an instance of `nn.Module` and is already saved during checkpointing. It is recommended to ignore them using `self.save_hyperparameters(ignore=['logging_metrics'])`.\n",
            "/usr/local/lib/python3.10/dist-packages/pytorch_forecasting/models/temporal_fusion_transformer/__init__.py:143: UserWarning: In pytorch-forecasting models, on versions 1.1.X, the default optimizer defaults to 'adam', if pytorch_optimizer is not installed, otherwise it defaults to 'ranger' from pytorch_optimizer. From version 1.2.0, the default optimizer will be 'adam' regardless of whether pytorch_optimizer is installed, in order to minimize the number of dependencies in default parameter settings. Users who wish to ensure their code continues using 'ranger' as optimizer should ensure that pytorch_optimizer is installed, and set the optimizer parameter explicitly to 'ranger'.\n",
            "  super().__init__(loss=loss, logging_metrics=logging_metrics, **kwargs)\n"
          ]
        }
      ],
      "source": [
        "# Temporal Fusion Transformer 모델 생성\n",
        "tft = TemporalFusionTransformer.from_dataset(\n",
        "    training,\n",
        "    learning_rate=0.005,\n",
        "    hidden_size=16,\n",
        "    attention_head_size=1,\n",
        "    dropout=0.1,\n",
        "    hidden_continuous_size=16,\n",
        "    loss=RMSE(),\n",
        "    log_interval=10,\n",
        "    reduce_on_plateau_patience=3,\n",
        ")"
      ]
    },
    {
      "cell_type": "markdown",
      "metadata": {
        "id": "OutkHVMSifBw"
      },
      "source": [
        "### LightningModule 정의 및 Trainer 설정\n",
        "PyTorch Lightning을 이용하여 모델 학습을 보다 쉽게 관리할 수 있도록 합니다.\n"
      ]
    },
    {
      "cell_type": "code",
      "execution_count": 92,
      "metadata": {
        "id": "LhI7kRKO2If3"
      },
      "outputs": [],
      "source": [
        "# LightningModule 정의\n",
        "class TFTLightningModule(LightningModule):\n",
        "    def __init__(self, tft_model):\n",
        "        super().__init__()\n",
        "        self.tft_model = tft_model.cuda()\n",
        "\n",
        "    def forward(self, x):\n",
        "        return self.tft_model(x)\n",
        "\n",
        "    def training_step(self, batch, batch_idx):\n",
        "        x, y = batch\n",
        "        x = {key: val.cuda().contiguous() for key, val in x.items()}\n",
        "        y = y[0].cuda().contiguous() if isinstance(y, tuple) else y.cuda().contiguous()\n",
        "        y_hat = self(x)\n",
        "        loss = self.tft_model.loss(y_hat[\"prediction\"], y)\n",
        "        self.log(\"train_loss\", loss, batch_size=len(x['encoder_cont'].squeeze()))\n",
        "        return loss\n",
        "\n",
        "    def validation_step(self, batch, batch_idx):\n",
        "        x, y = batch\n",
        "        x = {key: val.cuda().contiguous() for key, val in x.items()}\n",
        "        y = y[0].cuda().contiguous() if isinstance(y, tuple) else y.cuda().contiguous()\n",
        "        y_hat = self(x)\n",
        "        loss = self.tft_model.loss(y_hat[\"prediction\"], y)\n",
        "        self.log(\"val_loss\", loss, batch_size=len(x['encoder_cont'].squeeze()))\n",
        "        return loss\n",
        "\n",
        "    def configure_optimizers(self):\n",
        "        optimizer = torch.optim.Adam(self.tft_model.parameters(), lr=0.01, weight_decay=1e-5)\n",
        "        return optimizer\n"
      ]
    },
    {
      "cell_type": "markdown",
      "metadata": {
        "id": "IkpA1oDVkfn1"
      },
      "source": [
        "## 모델 학습"
      ]
    },
    {
      "cell_type": "code",
      "source": [
        "from pytorch_lightning import Trainer\n",
        "\n",
        "# Google Drive에 체크포인트 저장 경로 설정\n",
        "checkpoint_dir = \"/content/drive/MyDrive/종설프1_5팀/checkpoints/\"\n",
        "os.makedirs(checkpoint_dir, exist_ok=True)\n",
        "\n",
        "# TFT 모델을 LightningModule로 감싸기\n",
        "tft_module = TFTLightningModule(tft)\n",
        "\n",
        "# 학습을 위한 EarlyStopping 설정\n",
        "early_stop_callback = EarlyStopping(monitor=\"val_loss\", patience=3, min_delta=1e-4)\n",
        "\n",
        "\n",
        "# 체크포인트 설정\n",
        "checkpoint_callback = ModelCheckpoint(\n",
        "    dirpath=checkpoint_dir,\n",
        "    filename=\"tft-best-checkpoint\",\n",
        "    save_top_k=1,\n",
        "    verbose=True,\n",
        "    monitor=\"val_loss\",\n",
        "    mode=\"min\"\n",
        ")\n",
        "\n",
        "# Trainer 설정\n",
        "trainer = Trainer(\n",
        "    max_epochs=20,\n",
        "    accelerator='gpu',\n",
        "    devices=1,\n",
        "    gradient_clip_val=0.2,\n",
        "    callbacks=[early_stop_callback, checkpoint_callback],\n",
        "    accumulate_grad_batches=2,\n",
        "    precision=32\n",
        ")\n"
      ],
      "metadata": {
        "colab": {
          "base_uri": "https://localhost:8080/"
        },
        "id": "hFcUIJT3VweA",
        "outputId": "57b5197b-1e93-4e3b-9ca7-57cf6e8157c8"
      },
      "execution_count": 93,
      "outputs": [
        {
          "output_type": "stream",
          "name": "stderr",
          "text": [
            "INFO:pytorch_lightning.utilities.rank_zero:GPU available: True (cuda), used: True\n",
            "INFO:pytorch_lightning.utilities.rank_zero:TPU available: False, using: 0 TPU cores\n",
            "INFO:pytorch_lightning.utilities.rank_zero:HPU available: False, using: 0 HPUs\n"
          ]
        }
      ]
    },
    {
      "cell_type": "markdown",
      "source": [
        "<span style=\"color:red;\">주의: 체크포인트 삭제!</span>"
      ],
      "metadata": {
        "id": "Au7kynAoSbtA"
      }
    },
    {
      "cell_type": "code",
      "source": [
        "# 체크포인트 경로 설정 (callback의 파일명과 일치)\n",
        "checkpoint_path = os.path.join(checkpoint_dir, \"tft-best-checkpoint.ckpt\")\n",
        "\n",
        "# 체크포인트 파일 삭제\n",
        "if os.path.exists(checkpoint_path):\n",
        "    os.remove(checkpoint_path)\n",
        "    print(f\"{checkpoint_path} 파일이 삭제되었습니다.\")\n",
        "else:\n",
        "    print(f\"{checkpoint_path} 파일이 존재하지 않습니다.\")"
      ],
      "metadata": {
        "colab": {
          "base_uri": "https://localhost:8080/"
        },
        "id": "hk3rbB9gplWr",
        "outputId": "efa3e58c-f744-4a2b-de4e-093575e595fc"
      },
      "execution_count": 47,
      "outputs": [
        {
          "output_type": "stream",
          "name": "stdout",
          "text": [
            "/content/drive/MyDrive/종설프1_5팀/checkpoints/tft-best-checkpoint.ckpt 파일이 삭제되었습니다.\n"
          ]
        }
      ]
    },
    {
      "cell_type": "code",
      "source": [
        "# 체크포인트 경로 설정 (callback의 파일명과 일치)\n",
        "checkpoint_path = os.path.join(checkpoint_dir, \"tft-best-checkpoint.ckpt\")\n",
        "\n",
        "# 이전 체크포인트가 있으면 로드\n",
        "if os.path.exists(checkpoint_path):\n",
        "    print(\"이전 체크포인트에서 학습을 이어갑니다.\")\n",
        "    trainer.fit(tft_module, train_dataloaders=train_dataloader, val_dataloaders=val_dataloader, ckpt_path=checkpoint_path)\n",
        "else:\n",
        "    print(\"새로 학습을 시작합니다.\")\n",
        "    trainer.fit(tft_module, train_dataloaders=train_dataloader, val_dataloaders=val_dataloader)"
      ],
      "metadata": {
        "colab": {
          "base_uri": "https://localhost:8080/",
          "height": 455,
          "referenced_widgets": [
            "639d612eb2bc4412abd954470ae14dd1",
            "cd9eeac5d90344d2ac5be31fd33f4992",
            "517699761ee74754ae81def1725f9865",
            "68646ecf54df49c4a461480806fed4d2",
            "608d45f7964d4acca988b6fce8860b97",
            "c6fb41e288e64ca4a63f2b2eb3b69226",
            "be0555dac87f40429b1a43f9f9ae5d48",
            "8d4af757713b4af7bf0eda0a266ff428",
            "d982e808edb041959e90df1889cebd4e",
            "dc77313a0fd647178d225eb77e8098df",
            "b3b42357b7744c1e9ecb466cc72cea1d",
            "6eef57f999e44a17b112c0166b21f81d",
            "f747421fb50e453d9233b194867dfab2",
            "2ca0c4339a0e46b4b34ef0d30d635f97",
            "a981b63c45fd47ab8ee6fc13c7b4d357",
            "25fb6dcdd5af40f9826296616b4f3d1e",
            "ec555f44a68941a68310fa73536278e5",
            "6598782791954551b94b027e1a843009",
            "55748966aa3a4008b8e1217f941f1cc8",
            "f5a38d4f11a640f0b9a213a857ffa983",
            "25c9d548df1b4c7d99bbe8e69ecb351e",
            "fb4e002110e0441a9f991b0faafe4a3f",
            "fd4df242198d40568527e2952036ff22",
            "294ba026b8814483bae3aacf0ea38069",
            "45d2efe360ab47d39c01e0175f4c7f8a",
            "0f08c53322ad4476b2bf20a4dd6aeb0a",
            "2298e0dd9c2b47e489f5ee12173c3761",
            "b9258f509eb748ac8096022fd5f0a227",
            "7ca921edc20c437e9e048e542cedc69a",
            "49c4032b3c8343d8a749e7153c20ca8f",
            "f8edd0052b1e4a879b49b097aed2d641",
            "c995a10a18f54cf0bc1547b4fce5ede4",
            "b1986948329c4f19ac2ff14f737b47d2",
            "304cfbe8eda54a7ca61b1de22b98fdf0",
            "e6496ec7c308486c9f6b7d7c2d00d60a",
            "e941011ead5c48a2b215a6a04d8853f8",
            "05e8a64a01cf4d85887c1f6291ef948a",
            "90b84322f4ab478aa167db8ed12aeb88",
            "033234ae6eeb46148529bc605a0e03a4",
            "1d9956e22a564713996057267035217c",
            "b16b2b5a029142a2b2a647eb88967414",
            "405adde8d0704baa90542dd9935b11c4",
            "32b8fc39633b4039ae7c8d08b851f642",
            "b6b0f2586d2f4999865a9d48875d07b5",
            "4e888e9b2f7140039fd50a874130e26c",
            "5e5dfafb1f824784a8bf5495aa36f7c8",
            "c823bc9f86d7434581562fbe1d6e3675",
            "d2ba649e523241d5aff0af65f416129b",
            "40cfb50fc9a045bc8a82e8b88b41c978",
            "6ade9074f15b4e6095fe82c831725ddf",
            "f7d280b2545a40b898edb3257d4ad771",
            "fac987155b624f61a0bb94b475b1c3d2",
            "5fafaabfc453440eb3a57683872cc729",
            "416a710a6ce94489a7343920e4b075a5",
            "5921d9232f8448c3a0ababdc53bfa10a"
          ]
        },
        "id": "0JCy95qmpmSu",
        "outputId": "231d7f8a-fd08-4808-e94f-431fa91aa4ae"
      },
      "execution_count": 94,
      "outputs": [
        {
          "output_type": "stream",
          "name": "stderr",
          "text": [
            "/usr/local/lib/python3.10/dist-packages/pytorch_lightning/callbacks/model_checkpoint.py:654: Checkpoint directory /content/drive/MyDrive/종설프1_5팀/checkpoints exists and is not empty.\n",
            "INFO:pytorch_lightning.utilities.rank_zero:Restoring states from the checkpoint path at /content/drive/MyDrive/종설프1_5팀/checkpoints/tft-best-checkpoint.ckpt\n",
            "INFO:pytorch_lightning.accelerators.cuda:LOCAL_RANK: 0 - CUDA_VISIBLE_DEVICES: [0]\n",
            "INFO:pytorch_lightning.callbacks.model_summary:\n",
            "  | Name      | Type                      | Params | Mode \n",
            "----------------------------------------------------------------\n",
            "0 | tft_model | TemporalFusionTransformer | 18.8 K | train\n",
            "----------------------------------------------------------------\n",
            "18.8 K    Trainable params\n",
            "0         Non-trainable params\n",
            "18.8 K    Total params\n",
            "0.075     Total estimated model params size (MB)\n",
            "170       Modules in train mode\n",
            "0         Modules in eval mode\n",
            "INFO:pytorch_lightning.utilities.rank_zero:Restored all states from the checkpoint at /content/drive/MyDrive/종설프1_5팀/checkpoints/tft-best-checkpoint.ckpt\n"
          ]
        },
        {
          "output_type": "stream",
          "name": "stdout",
          "text": [
            "이전 체크포인트에서 학습을 이어갑니다.\n"
          ]
        },
        {
          "output_type": "display_data",
          "data": {
            "text/plain": [
              "Sanity Checking: |          | 0/? [00:00<?, ?it/s]"
            ],
            "application/vnd.jupyter.widget-view+json": {
              "version_major": 2,
              "version_minor": 0,
              "model_id": "639d612eb2bc4412abd954470ae14dd1"
            }
          },
          "metadata": {}
        },
        {
          "output_type": "stream",
          "name": "stderr",
          "text": [
            "/usr/local/lib/python3.10/dist-packages/pytorch_lightning/trainer/connectors/data_connector.py:424: The 'val_dataloader' does not have many workers which may be a bottleneck. Consider increasing the value of the `num_workers` argument` to `num_workers=7` in the `DataLoader` to improve performance.\n",
            "/usr/local/lib/python3.10/dist-packages/pytorch_lightning/trainer/connectors/data_connector.py:424: The 'train_dataloader' does not have many workers which may be a bottleneck. Consider increasing the value of the `num_workers` argument` to `num_workers=7` in the `DataLoader` to improve performance.\n"
          ]
        },
        {
          "output_type": "display_data",
          "data": {
            "text/plain": [
              "Training: |          | 0/? [00:00<?, ?it/s]"
            ],
            "application/vnd.jupyter.widget-view+json": {
              "version_major": 2,
              "version_minor": 0,
              "model_id": "6eef57f999e44a17b112c0166b21f81d"
            }
          },
          "metadata": {}
        },
        {
          "output_type": "display_data",
          "data": {
            "text/plain": [
              "Validation: |          | 0/? [00:00<?, ?it/s]"
            ],
            "application/vnd.jupyter.widget-view+json": {
              "version_major": 2,
              "version_minor": 0,
              "model_id": "fd4df242198d40568527e2952036ff22"
            }
          },
          "metadata": {}
        },
        {
          "output_type": "stream",
          "name": "stderr",
          "text": [
            "INFO:pytorch_lightning.utilities.rank_zero:Epoch 6, global step 6730: 'val_loss' was not in top 1\n"
          ]
        },
        {
          "output_type": "display_data",
          "data": {
            "text/plain": [
              "Validation: |          | 0/? [00:00<?, ?it/s]"
            ],
            "application/vnd.jupyter.widget-view+json": {
              "version_major": 2,
              "version_minor": 0,
              "model_id": "304cfbe8eda54a7ca61b1de22b98fdf0"
            }
          },
          "metadata": {}
        },
        {
          "output_type": "stream",
          "name": "stderr",
          "text": [
            "INFO:pytorch_lightning.utilities.rank_zero:Epoch 7, global step 8408: 'val_loss' was not in top 1\n"
          ]
        },
        {
          "output_type": "display_data",
          "data": {
            "text/plain": [
              "Validation: |          | 0/? [00:00<?, ?it/s]"
            ],
            "application/vnd.jupyter.widget-view+json": {
              "version_major": 2,
              "version_minor": 0,
              "model_id": "4e888e9b2f7140039fd50a874130e26c"
            }
          },
          "metadata": {}
        },
        {
          "output_type": "stream",
          "name": "stderr",
          "text": [
            "INFO:pytorch_lightning.utilities.rank_zero:Epoch 8, global step 10086: 'val_loss' was not in top 1\n"
          ]
        }
      ]
    },
    {
      "cell_type": "markdown",
      "source": [
        "## 모델 다시 로드"
      ],
      "metadata": {
        "id": "HCFQ8hvvpogS"
      }
    },
    {
      "cell_type": "code",
      "source": [
        "# Google Drive에 저장된 체크포인트 경로 설정\n",
        "checkpoint_dir = \"/content/drive/MyDrive/종설프1_5팀/checkpoints/\"\n",
        "checkpoint_path = os.path.join(checkpoint_dir, \"tft-best-checkpoint.ckpt\")\n",
        "\n",
        "# 저장된 체크포인트로부터 모델 로드\n",
        "if os.path.exists(checkpoint_path):\n",
        "    print(\"저장된 체크포인트에서 모델을 로드합니다.\")\n",
        "    tft_module = TFTLightningModule.load_from_checkpoint(checkpoint_path, tft_model=tft)\n",
        "    tft_module.eval()  # 모델을 평가 모드로 전환\n",
        "else:\n",
        "    raise FileNotFoundError(\"체크포인트 파일을 찾을 수 없습니다.\")"
      ],
      "metadata": {
        "colab": {
          "base_uri": "https://localhost:8080/"
        },
        "id": "enVEGklUpn5m",
        "outputId": "d057838e-86f7-48a8-b046-586ecdac042f"
      },
      "execution_count": null,
      "outputs": [
        {
          "output_type": "stream",
          "name": "stdout",
          "text": [
            "저장된 체크포인트에서 모델을 로드합니다.\n"
          ]
        }
      ]
    },
    {
      "cell_type": "markdown",
      "source": [
        "## 예측"
      ],
      "metadata": {
        "id": "fb2lrhdEvx7I"
      }
    },
    {
      "cell_type": "code",
      "source": [
        "# 기존 데이터의 처음 4주치 데이터만 가져오기\n",
        "num_rows_4_weeks = len(df) // 16  # 전체 데이터의 1/16만큼 가져옴\n",
        "encoder_data = df.iloc[:num_rows_4_weeks]\n",
        "encoder_data_length = len(encoder_data)\n",
        "print(f\"encoder data length: {encoder_data_length} rows\")"
      ],
      "metadata": {
        "colab": {
          "base_uri": "https://localhost:8080/"
        },
        "id": "Z-jnvQ_y1sGV",
        "outputId": "5a170d24-c9c8-46ed-d87e-6a1e39ab708f"
      },
      "execution_count": 60,
      "outputs": [
        {
          "output_type": "stream",
          "name": "stdout",
          "text": [
            "encoder data length: 4468 rows\n"
          ]
        }
      ]
    },
    {
      "cell_type": "code",
      "source": [
        "# 기존 데이터의 마지막 time 및 time_idx 확인\n",
        "last_time = encoder_data[\"time\"].max()\n",
        "last_time_idx = encoder_data[\"time_idx\"].max()\n",
        "\n",
        "print(f\"Last time in encoder data: {last_time}\")\n",
        "print(f\"Last time_idx in encoder data: {last_time_idx}\")\n",
        "\n",
        "# 12주 예측을 위해 필요한 빈 예측 데이터 생성\n",
        "new_prediction_data = pd.DataFrame({\n",
        "    \"time\": pd.date_range(last_time + pd.Timedelta(minutes=10), periods=12 * 7 * 24 * 6, freq=\"10min\"),\n",
        "    \"feed_pressure\": [np.nan] * (12 * 7 * 24 * 6),  # 예측 부분은 모두 NaN으로 설정\n",
        "    \"time_idx\": range(last_time_idx + 1, last_time_idx + 1 + 12 * 7 * 24 * 6),\n",
        "    \"group\": [\"feed_pressure\"] * (12 * 7 * 24 * 6),\n",
        "})\n",
        "\n",
        "# NaN 값을 기존 데이터의 마지막 값으로 채우기 (예측용으로 대체값 설정)\n",
        "new_prediction_data[\"feed_pressure\"].fillna(encoder_data[\"feed_pressure\"].iloc[-1], inplace=True)\n",
        "\n",
        "# 인코더 데이터와 예측 데이터를 병합하여 최종 예측용 데이터 생성\n",
        "new_data = pd.concat([encoder_data, new_prediction_data]).reset_index(drop=True)\n",
        "new_data_length = len(new_data)\n",
        "print(f\"Total new data length for prediction: {new_data_length} rows\")"
      ],
      "metadata": {
        "colab": {
          "base_uri": "https://localhost:8080/"
        },
        "id": "JvM1AYiQ2DxL",
        "outputId": "7f2aa6c6-a0e9-4b4f-c148-a53b932375c6"
      },
      "execution_count": 74,
      "outputs": [
        {
          "output_type": "stream",
          "name": "stdout",
          "text": [
            "Last time in encoder data: 2023-07-17 14:00:00\n",
            "Last time_idx in encoder data: 44670\n",
            "Total new data length for prediction: 16564 rows\n"
          ]
        },
        {
          "output_type": "stream",
          "name": "stderr",
          "text": [
            "<ipython-input-74-aa3bac000b56>:17: FutureWarning: A value is trying to be set on a copy of a DataFrame or Series through chained assignment using an inplace method.\n",
            "The behavior will change in pandas 3.0. This inplace method will never work because the intermediate object on which we are setting values always behaves as a copy.\n",
            "\n",
            "For example, when doing 'df[col].method(value, inplace=True)', try using 'df.method({col: value}, inplace=True)' or df[col] = df[col].method(value) instead, to perform the operation inplace on the original object.\n",
            "\n",
            "\n",
            "  new_prediction_data[\"feed_pressure\"].fillna(encoder_data[\"feed_pressure\"].iloc[-1], inplace=True)\n"
          ]
        }
      ]
    },
    {
      "cell_type": "code",
      "source": [
        "# 새로운 특성 추가\n",
        "new_data[\"hour\"] = new_data[\"time\"].dt.hour\n",
        "new_data[\"day_of_week\"] = new_data[\"time\"].dt.dayofweek\n",
        "\n",
        "# 필요한 입력 특성들을 다시 확인하고 포함하기\n",
        "time_varying_known_reals = [\"time_idx\", \"hour\", \"day_of_week\"]  # 모델에서 이미 알고 있는 입력 값\n",
        "time_varying_unknown_reals = [\"feed_pressure\"]  # 모델이 예측해야 하는 값\n",
        "\n",
        "# 새로운 TimeSeriesDataSet 생성 (예측용)\n",
        "prediction_data = TimeSeriesDataSet(\n",
        "    new_data,\n",
        "    time_idx=\"time_idx\",\n",
        "    target=\"feed_pressure\",\n",
        "    group_ids=[\"group\"],\n",
        "    max_encoder_length=max_encoder_length,\n",
        "    max_prediction_length=max_prediction_length,\n",
        "    time_varying_known_reals=time_varying_known_reals,\n",
        "    time_varying_unknown_reals=time_varying_unknown_reals,\n",
        "    target_normalizer=normalizer,\n",
        "    allow_missing_timesteps=True\n",
        ")"
      ],
      "metadata": {
        "id": "MqoiS8Sz83PQ"
      },
      "execution_count": 79,
      "outputs": []
    },
    {
      "cell_type": "code",
      "source": [
        "# 예측용 DataLoader 생성\n",
        "prediction_dataloader = prediction_data.to_dataloader(train=False, batch_size=64, num_workers=0)\n",
        "\n",
        "# 모델을 CUDA로 이동 (필요한 경우)\n",
        "tft_module = tft_module.cuda() if torch.cuda.is_available() else tft_module\n",
        "\n",
        "# 예측 수행\n",
        "predictions = []\n",
        "for batch in prediction_dataloader:\n",
        "    # TimeSeriesDataSet에서는 (inputs, targets) 형태로 반환되며 예측에서는 targets가 None\n",
        "    x, _ = batch\n",
        "    x = {key: val.cuda() if torch.cuda.is_available() else val for key, val in x.items()}\n",
        "\n",
        "    # 모델 예측\n",
        "    with torch.no_grad():\n",
        "        output = tft_module(x)\n",
        "        prediction = output[\"prediction\"].cpu().numpy().squeeze()\n",
        "\n",
        "        # 예측 값 저장\n",
        "        predictions.append(prediction)"
      ],
      "metadata": {
        "id": "z3j9-sUpoTo0"
      },
      "execution_count": 96,
      "outputs": []
    },
    {
      "cell_type": "code",
      "source": [
        "# 리스트를 배열로 변환하기 전에 모든 예측의 차원을 확인하고 맞추기\n",
        "for idx, pred in enumerate(predictions):\n",
        "    if pred.ndim == 1:  # 마지막 배치의 경우 (200,) 형태로 되어 있음\n",
        "        predictions[idx] = np.expand_dims(pred, axis=0)  # 차원을 (1, 200)으로 확장\n",
        "\n",
        "# 리스트를 배열로 변환\n",
        "predictions = np.concatenate(predictions, axis=0)"
      ],
      "metadata": {
        "id": "r9_0cIVqAtq_"
      },
      "execution_count": 97,
      "outputs": []
    },
    {
      "cell_type": "code",
      "source": [
        "# 예측 데이터의 일부를 선택해서 실제 데이터와 비교 (예를 들어, 첫 번째 100개 시퀀스만 사용)\n",
        "selected_predictions = predictions[:100]  # 첫 번째 100개 시퀀스 선택\n",
        "required_length = selected_predictions.shape[0] * selected_predictions.shape[1]  # 필요 데이터 길이 계산\n",
        "\n",
        "# 실제 데이터도 필요한 길이만큼 선택\n",
        "actual_data_16 = df.iloc[num_rows_4_weeks:num_rows_4_weeks + required_length]\n",
        "actuals = actual_data_16[\"feed_pressure\"].values.reshape(selected_predictions.shape[0], selected_predictions.shape[1])\n",
        "\n",
        "# 선택된 실제 데이터와 예측 데이터의 형태 확인\n",
        "print(f\"Shape of actuals: {actuals.shape}\")\n",
        "print(f\"Shape of selected_predictions: {selected_predictions.shape}\")\n",
        "\n",
        "# 평가 지표 계산\n",
        "rmse = mean_squared_error(actuals, selected_predictions, squared=False)\n",
        "mape = mean_absolute_percentage_error(actuals, selected_predictions) * 100\n",
        "r2 = r2_score(actuals, selected_predictions)\n",
        "\n",
        "# 평가 지표 출력\n",
        "print(f\"RMSE: {rmse}\")\n",
        "print(f\"MAPE: {mape}%\")\n",
        "print(f\"R²: {r2}\")\n"
      ],
      "metadata": {
        "colab": {
          "base_uri": "https://localhost:8080/"
        },
        "id": "kM3nmQSzI3Pn",
        "outputId": "38d939e9-c85e-4ab7-9c7c-b450dae5f303"
      },
      "execution_count": 108,
      "outputs": [
        {
          "output_type": "stream",
          "name": "stdout",
          "text": [
            "Shape of actuals: (100, 200)\n",
            "Shape of selected_predictions: (100, 200)\n",
            "RMSE: 4.444095177799543\n",
            "MAPE: 31.93466587869118%\n",
            "R²: -2.7930683646622323\n"
          ]
        },
        {
          "output_type": "stream",
          "name": "stderr",
          "text": [
            "/usr/local/lib/python3.10/dist-packages/sklearn/metrics/_regression.py:492: FutureWarning: 'squared' is deprecated in version 1.4 and will be removed in 1.6. To calculate the root mean squared error, use the function'root_mean_squared_error'.\n",
            "  warnings.warn(\n"
          ]
        }
      ]
    },
    {
      "cell_type": "code",
      "source": [
        "import matplotlib.pyplot as plt\n",
        "\n",
        "# 예측과 실제 값을 비교하는 그래프 생성\n",
        "plt.figure(figsize=(15, 6))\n",
        "\n",
        "# 선택된 예측 값과 실제 값 중 첫 번째 시퀀스(시각적으로 잘 보이기 위해 첫 시퀀스만 표시)\n",
        "time_axis = range(len(selected_predictions[0]))\n",
        "\n",
        "plt.plot(time_axis, actuals[0], label=\"Actual Feed Pressure\", color=\"blue\", linewidth=1.5)\n",
        "plt.plot(time_axis, selected_predictions[0], label=\"Predicted Feed Pressure\", color=\"orange\", linewidth=1.5, linestyle=\"--\")\n",
        "\n",
        "plt.xlabel(\"Time Step\")\n",
        "plt.ylabel(\"Feed Pressure\")\n",
        "plt.title(\"Feed Pressure Prediction vs Actual (First Sequence)\")\n",
        "plt.legend()\n",
        "plt.grid(True)\n",
        "plt.show()\n"
      ],
      "metadata": {
        "colab": {
          "base_uri": "https://localhost:8080/",
          "height": 518
        },
        "id": "bAZVmTMnrSiY",
        "outputId": "050f9b17-aa64-4c44-afc4-882cc1a4995c"
      },
      "execution_count": 111,
      "outputs": [
        {
          "output_type": "display_data",
          "data": {
            "text/plain": [
              "<Figure size 1500x600 with 1 Axes>"
            ],
            "image/png": "[encoded data removed]"
          },
          "metadata": {}
        }
      ]
    }
  ],
  "metadata": {
    "accelerator": "GPU",
    "colab": {
      "gpuType": "T4",
      "provenance": [],
      "machine_shape": "hm",
      "include_colab_link": true
    },
    "kernelspec": {
      "display_name": "Python 3",
      "name": "python3"
    },
    "language_info": {
      "name": "python"
    },
    "widgets": {
      "application/vnd.jupyter.widget-state+json": {
        "639d612eb2bc4412abd954470ae14dd1": {
          "model_module": "@jupyter-widgets/controls",
          "model_name": "HBoxModel",
          "model_module_version": "1.5.0",
          "state": {
            "_dom_classes": [],
            "_model_module": "@jupyter-widgets/controls",
            "_model_module_version": "1.5.0",
            "_model_name": "HBoxModel",
            "_view_count": null,
            "_view_module": "@jupyter-widgets/controls",
            "_view_module_version": "1.5.0",
            "_view_name": "HBoxView",
            "box_style": "",
            "children": [
              "IPY_MODEL_cd9eeac5d90344d2ac5be31fd33f4992",
              "IPY_MODEL_517699761ee74754ae81def1725f9865",
              "IPY_MODEL_68646ecf54df49c4a461480806fed4d2"
            ],
            "layout": "IPY_MODEL_608d45f7964d4acca988b6fce8860b97"
          }
        },
        "cd9eeac5d90344d2ac5be31fd33f4992": {
          "model_module": "@jupyter-widgets/controls",
          "model_name": "HTMLModel",
          "model_module_version": "1.5.0",
          "state": {
            "_dom_classes": [],
            "_model_module": "@jupyter-widgets/controls",
            "_model_module_version": "1.5.0",
            "_model_name": "HTMLModel",
            "_view_count": null,
            "_view_module": "@jupyter-widgets/controls",
            "_view_module_version": "1.5.0",
            "_view_name": "HTMLView",
            "description": "",
            "description_tooltip": null,
            "layout": "IPY_MODEL_c6fb41e288e64ca4a63f2b2eb3b69226",
            "placeholder": "​",
            "style": "IPY_MODEL_be0555dac87f40429b1a43f9f9ae5d48",
            "value": "Sanity Checking DataLoader 0: 100%"
          }
        },
        "517699761ee74754ae81def1725f9865": {
          "model_module": "@jupyter-widgets/controls",
          "model_name": "FloatProgressModel",
          "model_module_version": "1.5.0",
          "state": {
            "_dom_classes": [],
            "_model_module": "@jupyter-widgets/controls",
            "_model_module_version": "1.5.0",
            "_model_name": "FloatProgressModel",
            "_view_count": null,
            "_view_module": "@jupyter-widgets/controls",
            "_view_module_version": "1.5.0",
            "_view_name": "ProgressView",
            "bar_style": "",
            "description": "",
            "description_tooltip": null,
            "layout": "IPY_MODEL_8d4af757713b4af7bf0eda0a266ff428",
            "max": 2,
            "min": 0,
            "orientation": "horizontal",
            "style": "IPY_MODEL_d982e808edb041959e90df1889cebd4e",
            "value": 2
          }
        },
        "68646ecf54df49c4a461480806fed4d2": {
          "model_module": "@jupyter-widgets/controls",
          "model_name": "HTMLModel",
          "model_module_version": "1.5.0",
          "state": {
            "_dom_classes": [],
            "_model_module": "@jupyter-widgets/controls",
            "_model_module_version": "1.5.0",
            "_model_name": "HTMLModel",
            "_view_count": null,
            "_view_module": "@jupyter-widgets/controls",
            "_view_module_version": "1.5.0",
            "_view_name": "HTMLView",
            "description": "",
            "description_tooltip": null,
            "layout": "IPY_MODEL_dc77313a0fd647178d225eb77e8098df",
            "placeholder": "​",
            "style": "IPY_MODEL_b3b42357b7744c1e9ecb466cc72cea1d",
            "value": " 2/2 [00:00&lt;00:00, 20.74it/s]"
          }
        },
        "608d45f7964d4acca988b6fce8860b97": {
          "model_module": "@jupyter-widgets/base",
          "model_name": "LayoutModel",
          "model_module_version": "1.2.0",
          "state": {
            "_model_module": "@jupyter-widgets/base",
            "_model_module_version": "1.2.0",
            "_model_name": "LayoutModel",
            "_view_count": null,
            "_view_module": "@jupyter-widgets/base",
            "_view_module_version": "1.2.0",
            "_view_name": "LayoutView",
            "align_content": null,
            "align_items": null,
            "align_self": null,
            "border": null,
            "bottom": null,
            "display": "inline-flex",
            "flex": null,
            "flex_flow": "row wrap",
            "grid_area": null,
            "grid_auto_columns": null,
            "grid_auto_flow": null,
            "grid_auto_rows": null,
            "grid_column": null,
            "grid_gap": null,
            "grid_row": null,
            "grid_template_areas": null,
            "grid_template_columns": null,
            "grid_template_rows": null,
            "height": null,
            "justify_content": null,
            "justify_items": null,
            "left": null,
            "margin": null,
            "max_height": null,
            "max_width": null,
            "min_height": null,
            "min_width": null,
            "object_fit": null,
            "object_position": null,
            "order": null,
            "overflow": null,
            "overflow_x": null,
            "overflow_y": null,
            "padding": null,
            "right": null,
            "top": null,
            "visibility": "hidden",
            "width": "100%"
          }
        },
        "c6fb41e288e64ca4a63f2b2eb3b69226": {
          "model_module": "@jupyter-widgets/base",
          "model_name": "LayoutModel",
          "model_module_version": "1.2.0",
          "state": {
            "_model_module": "@jupyter-widgets/base",
            "_model_module_version": "1.2.0",
            "_model_name": "LayoutModel",
            "_view_count": null,
            "_view_module": "@jupyter-widgets/base",
            "_view_module_version": "1.2.0",
            "_view_name": "LayoutView",
            "align_content": null,
            "align_items": null,
            "align_self": null,
            "border": null,
            "bottom": null,
            "display": null,
            "flex": null,
            "flex_flow": null,
            "grid_area": null,
            "grid_auto_columns": null,
            "grid_auto_flow": null,
            "grid_auto_rows": null,
            "grid_column": null,
            "grid_gap": null,
            "grid_row": null,
            "grid_template_areas": null,
            "grid_template_columns": null,
            "grid_template_rows": null,
            "height": null,
            "justify_content": null,
            "justify_items": null,
            "left": null,
            "margin": null,
            "max_height": null,
            "max_width": null,
            "min_height": null,
            "min_width": null,
            "object_fit": null,
            "object_position": null,
            "order": null,
            "overflow": null,
            "overflow_x": null,
            "overflow_y": null,
            "padding": null,
            "right": null,
            "top": null,
            "visibility": null,
            "width": null
          }
        },
        "be0555dac87f40429b1a43f9f9ae5d48": {
          "model_module": "@jupyter-widgets/controls",
          "model_name": "DescriptionStyleModel",
          "model_module_version": "1.5.0",
          "state": {
            "_model_module": "@jupyter-widgets/controls",
            "_model_module_version": "1.5.0",
            "_model_name": "DescriptionStyleModel",
            "_view_count": null,
            "_view_module": "@jupyter-widgets/base",
            "_view_module_version": "1.2.0",
            "_view_name": "StyleView",
            "description_width": ""
          }
        },
        "8d4af757713b4af7bf0eda0a266ff428": {
          "model_module": "@jupyter-widgets/base",
          "model_name": "LayoutModel",
          "model_module_version": "1.2.0",
          "state": {
            "_model_module": "@jupyter-widgets/base",
            "_model_module_version": "1.2.0",
            "_model_name": "LayoutModel",
            "_view_count": null,
            "_view_module": "@jupyter-widgets/base",
            "_view_module_version": "1.2.0",
            "_view_name": "LayoutView",
            "align_content": null,
            "align_items": null,
            "align_self": null,
            "border": null,
            "bottom": null,
            "display": null,
            "flex": "2",
            "flex_flow": null,
            "grid_area": null,
            "grid_auto_columns": null,
            "grid_auto_flow": null,
            "grid_auto_rows": null,
            "grid_column": null,
            "grid_gap": null,
            "grid_row": null,
            "grid_template_areas": null,
            "grid_template_columns": null,
            "grid_template_rows": null,
            "height": null,
            "justify_content": null,
            "justify_items": null,
            "left": null,
            "margin": null,
            "max_height": null,
            "max_width": null,
            "min_height": null,
            "min_width": null,
            "object_fit": null,
            "object_position": null,
            "order": null,
            "overflow": null,
            "overflow_x": null,
            "overflow_y": null,
            "padding": null,
            "right": null,
            "top": null,
            "visibility": null,
            "width": null
          }
        },
        "d982e808edb041959e90df1889cebd4e": {
          "model_module": "@jupyter-widgets/controls",
          "model_name": "ProgressStyleModel",
          "model_module_version": "1.5.0",
          "state": {
            "_model_module": "@jupyter-widgets/controls",
            "_model_module_version": "1.5.0",
            "_model_name": "ProgressStyleModel",
            "_view_count": null,
            "_view_module": "@jupyter-widgets/base",
            "_view_module_version": "1.2.0",
            "_view_name": "StyleView",
            "bar_color": null,
            "description_width": ""
          }
        },
        "dc77313a0fd647178d225eb77e8098df": {
          "model_module": "@jupyter-widgets/base",
          "model_name": "LayoutModel",
          "model_module_version": "1.2.0",
          "state": {
            "_model_module": "@jupyter-widgets/base",
            "_model_module_version": "1.2.0",
            "_model_name": "LayoutModel",
            "_view_count": null,
            "_view_module": "@jupyter-widgets/base",
            "_view_module_version": "1.2.0",
            "_view_name": "LayoutView",
            "align_content": null,
            "align_items": null,
            "align_self": null,
            "border": null,
            "bottom": null,
            "display": null,
            "flex": null,
            "flex_flow": null,
            "grid_area": null,
            "grid_auto_columns": null,
            "grid_auto_flow": null,
            "grid_auto_rows": null,
            "grid_column": null,
            "grid_gap": null,
            "grid_row": null,
            "grid_template_areas": null,
            "grid_template_columns": null,
            "grid_template_rows": null,
            "height": null,
            "justify_content": null,
            "justify_items": null,
            "left": null,
            "margin": null,
            "max_height": null,
            "max_width": null,
            "min_height": null,
            "min_width": null,
            "object_fit": null,
            "object_position": null,
            "order": null,
            "overflow": null,
            "overflow_x": null,
            "overflow_y": null,
            "padding": null,
            "right": null,
            "top": null,
            "visibility": null,
            "width": null
          }
        },
        "b3b42357b7744c1e9ecb466cc72cea1d": {
          "model_module": "@jupyter-widgets/controls",
          "model_name": "DescriptionStyleModel",
          "model_module_version": "1.5.0",
          "state": {
            "_model_module": "@jupyter-widgets/controls",
            "_model_module_version": "1.5.0",
            "_model_name": "DescriptionStyleModel",
            "_view_count": null,
            "_view_module": "@jupyter-widgets/base",
            "_view_module_version": "1.2.0",
            "_view_name": "StyleView",
            "description_width": ""
          }
        },
        "6eef57f999e44a17b112c0166b21f81d": {
          "model_module": "@jupyter-widgets/controls",
          "model_name": "HBoxModel",
          "model_module_version": "1.5.0",
          "state": {
            "_dom_classes": [],
            "_model_module": "@jupyter-widgets/controls",
            "_model_module_version": "1.5.0",
            "_model_name": "HBoxModel",
            "_view_count": null,
            "_view_module": "@jupyter-widgets/controls",
            "_view_module_version": "1.5.0",
            "_view_name": "HBoxView",
            "box_style": "",
            "children": [
              "IPY_MODEL_f747421fb50e453d9233b194867dfab2",
              "IPY_MODEL_2ca0c4339a0e46b4b34ef0d30d635f97",
              "IPY_MODEL_a981b63c45fd47ab8ee6fc13c7b4d357"
            ],
            "layout": "IPY_MODEL_25fb6dcdd5af40f9826296616b4f3d1e"
          }
        },
        "f747421fb50e453d9233b194867dfab2": {
          "model_module": "@jupyter-widgets/controls",
          "model_name": "HTMLModel",
          "model_module_version": "1.5.0",
          "state": {
            "_dom_classes": [],
            "_model_module": "@jupyter-widgets/controls",
            "_model_module_version": "1.5.0",
            "_model_name": "HTMLModel",
            "_view_count": null,
            "_view_module": "@jupyter-widgets/controls",
            "_view_module_version": "1.5.0",
            "_view_name": "HTMLView",
            "description": "",
            "description_tooltip": null,
            "layout": "IPY_MODEL_ec555f44a68941a68310fa73536278e5",
            "placeholder": "​",
            "style": "IPY_MODEL_6598782791954551b94b027e1a843009",
            "value": "Epoch 8: 100%"
          }
        },
        "2ca0c4339a0e46b4b34ef0d30d635f97": {
          "model_module": "@jupyter-widgets/controls",
          "model_name": "FloatProgressModel",
          "model_module_version": "1.5.0",
          "state": {
            "_dom_classes": [],
            "_model_module": "@jupyter-widgets/controls",
            "_model_module_version": "1.5.0",
            "_model_name": "FloatProgressModel",
            "_view_count": null,
            "_view_module": "@jupyter-widgets/controls",
            "_view_module_version": "1.5.0",
            "_view_name": "ProgressView",
            "bar_style": "success",
            "description": "",
            "description_tooltip": null,
            "layout": "IPY_MODEL_55748966aa3a4008b8e1217f941f1cc8",
            "max": 3355,
            "min": 0,
            "orientation": "horizontal",
            "style": "IPY_MODEL_f5a38d4f11a640f0b9a213a857ffa983",
            "value": 3355
          }
        },
        "a981b63c45fd47ab8ee6fc13c7b4d357": {
          "model_module": "@jupyter-widgets/controls",
          "model_name": "HTMLModel",
          "model_module_version": "1.5.0",
          "state": {
            "_dom_classes": [],
            "_model_module": "@jupyter-widgets/controls",
            "_model_module_version": "1.5.0",
            "_model_name": "HTMLModel",
            "_view_count": null,
            "_view_module": "@jupyter-widgets/controls",
            "_view_module_version": "1.5.0",
            "_view_name": "HTMLView",
            "description": "",
            "description_tooltip": null,
            "layout": "IPY_MODEL_25c9d548df1b4c7d99bbe8e69ecb351e",
            "placeholder": "​",
            "style": "IPY_MODEL_fb4e002110e0441a9f991b0faafe4a3f",
            "value": " 3355/3355 [06:35&lt;00:00,  8.48it/s, v_num=2]"
          }
        },
        "25fb6dcdd5af40f9826296616b4f3d1e": {
          "model_module": "@jupyter-widgets/base",
          "model_name": "LayoutModel",
          "model_module_version": "1.2.0",
          "state": {
            "_model_module": "@jupyter-widgets/base",
            "_model_module_version": "1.2.0",
            "_model_name": "LayoutModel",
            "_view_count": null,
            "_view_module": "@jupyter-widgets/base",
            "_view_module_version": "1.2.0",
            "_view_name": "LayoutView",
            "align_content": null,
            "align_items": null,
            "align_self": null,
            "border": null,
            "bottom": null,
            "display": "inline-flex",
            "flex": null,
            "flex_flow": "row wrap",
            "grid_area": null,
            "grid_auto_columns": null,
            "grid_auto_flow": null,
            "grid_auto_rows": null,
            "grid_column": null,
            "grid_gap": null,
            "grid_row": null,
            "grid_template_areas": null,
            "grid_template_columns": null,
            "grid_template_rows": null,
            "height": null,
            "justify_content": null,
            "justify_items": null,
            "left": null,
            "margin": null,
            "max_height": null,
            "max_width": null,
            "min_height": null,
            "min_width": null,
            "object_fit": null,
            "object_position": null,
            "order": null,
            "overflow": null,
            "overflow_x": null,
            "overflow_y": null,
            "padding": null,
            "right": null,
            "top": null,
            "visibility": null,
            "width": "100%"
          }
        },
        "ec555f44a68941a68310fa73536278e5": {
          "model_module": "@jupyter-widgets/base",
          "model_name": "LayoutModel",
          "model_module_version": "1.2.0",
          "state": {
            "_model_module": "@jupyter-widgets/base",
            "_model_module_version": "1.2.0",
            "_model_name": "LayoutModel",
            "_view_count": null,
            "_view_module": "@jupyter-widgets/base",
            "_view_module_version": "1.2.0",
            "_view_name": "LayoutView",
            "align_content": null,
            "align_items": null,
            "align_self": null,
            "border": null,
            "bottom": null,
            "display": null,
            "flex": null,
            "flex_flow": null,
            "grid_area": null,
            "grid_auto_columns": null,
            "grid_auto_flow": null,
            "grid_auto_rows": null,
            "grid_column": null,
            "grid_gap": null,
            "grid_row": null,
            "grid_template_areas": null,
            "grid_template_columns": null,
            "grid_template_rows": null,
            "height": null,
            "justify_content": null,
            "justify_items": null,
            "left": null,
            "margin": null,
            "max_height": null,
            "max_width": null,
            "min_height": null,
            "min_width": null,
            "object_fit": null,
            "object_position": null,
            "order": null,
            "overflow": null,
            "overflow_x": null,
            "overflow_y": null,
            "padding": null,
            "right": null,
            "top": null,
            "visibility": null,
            "width": null
          }
        },
        "6598782791954551b94b027e1a843009": {
          "model_module": "@jupyter-widgets/controls",
          "model_name": "DescriptionStyleModel",
          "model_module_version": "1.5.0",
          "state": {
            "_model_module": "@jupyter-widgets/controls",
            "_model_module_version": "1.5.0",
            "_model_name": "DescriptionStyleModel",
            "_view_count": null,
            "_view_module": "@jupyter-widgets/base",
            "_view_module_version": "1.2.0",
            "_view_name": "StyleView",
            "description_width": ""
          }
        },
        "55748966aa3a4008b8e1217f941f1cc8": {
          "model_module": "@jupyter-widgets/base",
          "model_name": "LayoutModel",
          "model_module_version": "1.2.0",
          "state": {
            "_model_module": "@jupyter-widgets/base",
            "_model_module_version": "1.2.0",
            "_model_name": "LayoutModel",
            "_view_count": null,
            "_view_module": "@jupyter-widgets/base",
            "_view_module_version": "1.2.0",
            "_view_name": "LayoutView",
            "align_content": null,
            "align_items": null,
            "align_self": null,
            "border": null,
            "bottom": null,
            "display": null,
            "flex": "2",
            "flex_flow": null,
            "grid_area": null,
            "grid_auto_columns": null,
            "grid_auto_flow": null,
            "grid_auto_rows": null,
            "grid_column": null,
            "grid_gap": null,
            "grid_row": null,
            "grid_template_areas": null,
            "grid_template_columns": null,
            "grid_template_rows": null,
            "height": null,
            "justify_content": null,
            "justify_items": null,
            "left": null,
            "margin": null,
            "max_height": null,
            "max_width": null,
            "min_height": null,
            "min_width": null,
            "object_fit": null,
            "object_position": null,
            "order": null,
            "overflow": null,
            "overflow_x": null,
            "overflow_y": null,
            "padding": null,
            "right": null,
            "top": null,
            "visibility": null,
            "width": null
          }
        },
        "f5a38d4f11a640f0b9a213a857ffa983": {
          "model_module": "@jupyter-widgets/controls",
          "model_name": "ProgressStyleModel",
          "model_module_version": "1.5.0",
          "state": {
            "_model_module": "@jupyter-widgets/controls",
            "_model_module_version": "1.5.0",
            "_model_name": "ProgressStyleModel",
            "_view_count": null,
            "_view_module": "@jupyter-widgets/base",
            "_view_module_version": "1.2.0",
            "_view_name": "StyleView",
            "bar_color": null,
            "description_width": ""
          }
        },
        "25c9d548df1b4c7d99bbe8e69ecb351e": {
          "model_module": "@jupyter-widgets/base",
          "model_name": "LayoutModel",
          "model_module_version": "1.2.0",
          "state": {
            "_model_module": "@jupyter-widgets/base",
            "_model_module_version": "1.2.0",
            "_model_name": "LayoutModel",
            "_view_count": null,
            "_view_module": "@jupyter-widgets/base",
            "_view_module_version": "1.2.0",
            "_view_name": "LayoutView",
            "align_content": null,
            "align_items": null,
            "align_self": null,
            "border": null,
            "bottom": null,
            "display": null,
            "flex": null,
            "flex_flow": null,
            "grid_area": null,
            "grid_auto_columns": null,
            "grid_auto_flow": null,
            "grid_auto_rows": null,
            "grid_column": null,
            "grid_gap": null,
            "grid_row": null,
            "grid_template_areas": null,
            "grid_template_columns": null,
            "grid_template_rows": null,
            "height": null,
            "justify_content": null,
            "justify_items": null,
            "left": null,
            "margin": null,
            "max_height": null,
            "max_width": null,
            "min_height": null,
            "min_width": null,
            "object_fit": null,
            "object_position": null,
            "order": null,
            "overflow": null,
            "overflow_x": null,
            "overflow_y": null,
            "padding": null,
            "right": null,
            "top": null,
            "visibility": null,
            "width": null
          }
        },
        "fb4e002110e0441a9f991b0faafe4a3f": {
          "model_module": "@jupyter-widgets/controls",
          "model_name": "DescriptionStyleModel",
          "model_module_version": "1.5.0",
          "state": {
            "_model_module": "@jupyter-widgets/controls",
            "_model_module_version": "1.5.0",
            "_model_name": "DescriptionStyleModel",
            "_view_count": null,
            "_view_module": "@jupyter-widgets/base",
            "_view_module_version": "1.2.0",
            "_view_name": "StyleView",
            "description_width": ""
          }
        },
        "fd4df242198d40568527e2952036ff22": {
          "model_module": "@jupyter-widgets/controls",
          "model_name": "HBoxModel",
          "model_module_version": "1.5.0",
          "state": {
            "_dom_classes": [],
            "_model_module": "@jupyter-widgets/controls",
            "_model_module_version": "1.5.0",
            "_model_name": "HBoxModel",
            "_view_count": null,
            "_view_module": "@jupyter-widgets/controls",
            "_view_module_version": "1.5.0",
            "_view_name": "HBoxView",
            "box_style": "",
            "children": [
              "IPY_MODEL_294ba026b8814483bae3aacf0ea38069",
              "IPY_MODEL_45d2efe360ab47d39c01e0175f4c7f8a",
              "IPY_MODEL_0f08c53322ad4476b2bf20a4dd6aeb0a"
            ],
            "layout": "IPY_MODEL_2298e0dd9c2b47e489f5ee12173c3761"
          }
        },
        "294ba026b8814483bae3aacf0ea38069": {
          "model_module": "@jupyter-widgets/controls",
          "model_name": "HTMLModel",
          "model_module_version": "1.5.0",
          "state": {
            "_dom_classes": [],
            "_model_module": "@jupyter-widgets/controls",
            "_model_module_version": "1.5.0",
            "_model_name": "HTMLModel",
            "_view_count": null,
            "_view_module": "@jupyter-widgets/controls",
            "_view_module_version": "1.5.0",
            "_view_name": "HTMLView",
            "description": "",
            "description_tooltip": null,
            "layout": "IPY_MODEL_b9258f509eb748ac8096022fd5f0a227",
            "placeholder": "​",
            "style": "IPY_MODEL_7ca921edc20c437e9e048e542cedc69a",
            "value": "Validation DataLoader 0: 100%"
          }
        },
        "45d2efe360ab47d39c01e0175f4c7f8a": {
          "model_module": "@jupyter-widgets/controls",
          "model_name": "FloatProgressModel",
          "model_module_version": "1.5.0",
          "state": {
            "_dom_classes": [],
            "_model_module": "@jupyter-widgets/controls",
            "_model_module_version": "1.5.0",
            "_model_name": "FloatProgressModel",
            "_view_count": null,
            "_view_module": "@jupyter-widgets/controls",
            "_view_module_version": "1.5.0",
            "_view_name": "ProgressView",
            "bar_style": "",
            "description": "",
            "description_tooltip": null,
            "layout": "IPY_MODEL_49c4032b3c8343d8a749e7153c20ca8f",
            "max": 3356,
            "min": 0,
            "orientation": "horizontal",
            "style": "IPY_MODEL_f8edd0052b1e4a879b49b097aed2d641",
            "value": 3356
          }
        },
        "0f08c53322ad4476b2bf20a4dd6aeb0a": {
          "model_module": "@jupyter-widgets/controls",
          "model_name": "HTMLModel",
          "model_module_version": "1.5.0",
          "state": {
            "_dom_classes": [],
            "_model_module": "@jupyter-widgets/controls",
            "_model_module_version": "1.5.0",
            "_model_name": "HTMLModel",
            "_view_count": null,
            "_view_module": "@jupyter-widgets/controls",
            "_view_module_version": "1.5.0",
            "_view_name": "HTMLView",
            "description": "",
            "description_tooltip": null,
            "layout": "IPY_MODEL_c995a10a18f54cf0bc1547b4fce5ede4",
            "placeholder": "​",
            "style": "IPY_MODEL_b1986948329c4f19ac2ff14f737b47d2",
            "value": " 3356/3356 [02:14&lt;00:00, 24.94it/s]"
          }
        },
        "2298e0dd9c2b47e489f5ee12173c3761": {
          "model_module": "@jupyter-widgets/base",
          "model_name": "LayoutModel",
          "model_module_version": "1.2.0",
          "state": {
            "_model_module": "@jupyter-widgets/base",
            "_model_module_version": "1.2.0",
            "_model_name": "LayoutModel",
            "_view_count": null,
            "_view_module": "@jupyter-widgets/base",
            "_view_module_version": "1.2.0",
            "_view_name": "LayoutView",
            "align_content": null,
            "align_items": null,
            "align_self": null,
            "border": null,
            "bottom": null,
            "display": "inline-flex",
            "flex": null,
            "flex_flow": "row wrap",
            "grid_area": null,
            "grid_auto_columns": null,
            "grid_auto_flow": null,
            "grid_auto_rows": null,
            "grid_column": null,
            "grid_gap": null,
            "grid_row": null,
            "grid_template_areas": null,
            "grid_template_columns": null,
            "grid_template_rows": null,
            "height": null,
            "justify_content": null,
            "justify_items": null,
            "left": null,
            "margin": null,
            "max_height": null,
            "max_width": null,
            "min_height": null,
            "min_width": null,
            "object_fit": null,
            "object_position": null,
            "order": null,
            "overflow": null,
            "overflow_x": null,
            "overflow_y": null,
            "padding": null,
            "right": null,
            "top": null,
            "visibility": "hidden",
            "width": "100%"
          }
        },
        "b9258f509eb748ac8096022fd5f0a227": {
          "model_module": "@jupyter-widgets/base",
          "model_name": "LayoutModel",
          "model_module_version": "1.2.0",
          "state": {
            "_model_module": "@jupyter-widgets/base",
            "_model_module_version": "1.2.0",
            "_model_name": "LayoutModel",
            "_view_count": null,
            "_view_module": "@jupyter-widgets/base",
            "_view_module_version": "1.2.0",
            "_view_name": "LayoutView",
            "align_content": null,
            "align_items": null,
            "align_self": null,
            "border": null,
            "bottom": null,
            "display": null,
            "flex": null,
            "flex_flow": null,
            "grid_area": null,
            "grid_auto_columns": null,
            "grid_auto_flow": null,
            "grid_auto_rows": null,
            "grid_column": null,
            "grid_gap": null,
            "grid_row": null,
            "grid_template_areas": null,
            "grid_template_columns": null,
            "grid_template_rows": null,
            "height": null,
            "justify_content": null,
            "justify_items": null,
            "left": null,
            "margin": null,
            "max_height": null,
            "max_width": null,
            "min_height": null,
            "min_width": null,
            "object_fit": null,
            "object_position": null,
            "order": null,
            "overflow": null,
            "overflow_x": null,
            "overflow_y": null,
            "padding": null,
            "right": null,
            "top": null,
            "visibility": null,
            "width": null
          }
        },
        "7ca921edc20c437e9e048e542cedc69a": {
          "model_module": "@jupyter-widgets/controls",
          "model_name": "DescriptionStyleModel",
          "model_module_version": "1.5.0",
          "state": {
            "_model_module": "@jupyter-widgets/controls",
            "_model_module_version": "1.5.0",
            "_model_name": "DescriptionStyleModel",
            "_view_count": null,
            "_view_module": "@jupyter-widgets/base",
            "_view_module_version": "1.2.0",
            "_view_name": "StyleView",
            "description_width": ""
          }
        },
        "49c4032b3c8343d8a749e7153c20ca8f": {
          "model_module": "@jupyter-widgets/base",
          "model_name": "LayoutModel",
          "model_module_version": "1.2.0",
          "state": {
            "_model_module": "@jupyter-widgets/base",
            "_model_module_version": "1.2.0",
            "_model_name": "LayoutModel",
            "_view_count": null,
            "_view_module": "@jupyter-widgets/base",
            "_view_module_version": "1.2.0",
            "_view_name": "LayoutView",
            "align_content": null,
            "align_items": null,
            "align_self": null,
            "border": null,
            "bottom": null,
            "display": null,
            "flex": "2",
            "flex_flow": null,
            "grid_area": null,
            "grid_auto_columns": null,
            "grid_auto_flow": null,
            "grid_auto_rows": null,
            "grid_column": null,
            "grid_gap": null,
            "grid_row": null,
            "grid_template_areas": null,
            "grid_template_columns": null,
            "grid_template_rows": null,
            "height": null,
            "justify_content": null,
            "justify_items": null,
            "left": null,
            "margin": null,
            "max_height": null,
            "max_width": null,
            "min_height": null,
            "min_width": null,
            "object_fit": null,
            "object_position": null,
            "order": null,
            "overflow": null,
            "overflow_x": null,
            "overflow_y": null,
            "padding": null,
            "right": null,
            "top": null,
            "visibility": null,
            "width": null
          }
        },
        "f8edd0052b1e4a879b49b097aed2d641": {
          "model_module": "@jupyter-widgets/controls",
          "model_name": "ProgressStyleModel",
          "model_module_version": "1.5.0",
          "state": {
            "_model_module": "@jupyter-widgets/controls",
            "_model_module_version": "1.5.0",
            "_model_name": "ProgressStyleModel",
            "_view_count": null,
            "_view_module": "@jupyter-widgets/base",
            "_view_module_version": "1.2.0",
            "_view_name": "StyleView",
            "bar_color": null,
            "description_width": ""
          }
        },
        "c995a10a18f54cf0bc1547b4fce5ede4": {
          "model_module": "@jupyter-widgets/base",
          "model_name": "LayoutModel",
          "model_module_version": "1.2.0",
          "state": {
            "_model_module": "@jupyter-widgets/base",
            "_model_module_version": "1.2.0",
            "_model_name": "LayoutModel",
            "_view_count": null,
            "_view_module": "@jupyter-widgets/base",
            "_view_module_version": "1.2.0",
            "_view_name": "LayoutView",
            "align_content": null,
            "align_items": null,
            "align_self": null,
            "border": null,
            "bottom": null,
            "display": null,
            "flex": null,
            "flex_flow": null,
            "grid_area": null,
            "grid_auto_columns": null,
            "grid_auto_flow": null,
            "grid_auto_rows": null,
            "grid_column": null,
            "grid_gap": null,
            "grid_row": null,
            "grid_template_areas": null,
            "grid_template_columns": null,
            "grid_template_rows": null,
            "height": null,
            "justify_content": null,
            "justify_items": null,
            "left": null,
            "margin": null,
            "max_height": null,
            "max_width": null,
            "min_height": null,
            "min_width": null,
            "object_fit": null,
            "object_position": null,
            "order": null,
            "overflow": null,
            "overflow_x": null,
            "overflow_y": null,
            "padding": null,
            "right": null,
            "top": null,
            "visibility": null,
            "width": null
          }
        },
        "b1986948329c4f19ac2ff14f737b47d2": {
          "model_module": "@jupyter-widgets/controls",
          "model_name": "DescriptionStyleModel",
          "model_module_version": "1.5.0",
          "state": {
            "_model_module": "@jupyter-widgets/controls",
            "_model_module_version": "1.5.0",
            "_model_name": "DescriptionStyleModel",
            "_view_count": null,
            "_view_module": "@jupyter-widgets/base",
            "_view_module_version": "1.2.0",
            "_view_name": "StyleView",
            "description_width": ""
          }
        },
        "304cfbe8eda54a7ca61b1de22b98fdf0": {
          "model_module": "@jupyter-widgets/controls",
          "model_name": "HBoxModel",
          "model_module_version": "1.5.0",
          "state": {
            "_dom_classes": [],
            "_model_module": "@jupyter-widgets/controls",
            "_model_module_version": "1.5.0",
            "_model_name": "HBoxModel",
            "_view_count": null,
            "_view_module": "@jupyter-widgets/controls",
            "_view_module_version": "1.5.0",
            "_view_name": "HBoxView",
            "box_style": "",
            "children": [
              "IPY_MODEL_e6496ec7c308486c9f6b7d7c2d00d60a",
              "IPY_MODEL_e941011ead5c48a2b215a6a04d8853f8",
              "IPY_MODEL_05e8a64a01cf4d85887c1f6291ef948a"
            ],
            "layout": "IPY_MODEL_90b84322f4ab478aa167db8ed12aeb88"
          }
        },
        "e6496ec7c308486c9f6b7d7c2d00d60a": {
          "model_module": "@jupyter-widgets/controls",
          "model_name": "HTMLModel",
          "model_module_version": "1.5.0",
          "state": {
            "_dom_classes": [],
            "_model_module": "@jupyter-widgets/controls",
            "_model_module_version": "1.5.0",
            "_model_name": "HTMLModel",
            "_view_count": null,
            "_view_module": "@jupyter-widgets/controls",
            "_view_module_version": "1.5.0",
            "_view_name": "HTMLView",
            "description": "",
            "description_tooltip": null,
            "layout": "IPY_MODEL_033234ae6eeb46148529bc605a0e03a4",
            "placeholder": "​",
            "style": "IPY_MODEL_1d9956e22a564713996057267035217c",
            "value": "Validation DataLoader 0: 100%"
          }
        },
        "e941011ead5c48a2b215a6a04d8853f8": {
          "model_module": "@jupyter-widgets/controls",
          "model_name": "FloatProgressModel",
          "model_module_version": "1.5.0",
          "state": {
            "_dom_classes": [],
            "_model_module": "@jupyter-widgets/controls",
            "_model_module_version": "1.5.0",
            "_model_name": "FloatProgressModel",
            "_view_count": null,
            "_view_module": "@jupyter-widgets/controls",
            "_view_module_version": "1.5.0",
            "_view_name": "ProgressView",
            "bar_style": "",
            "description": "",
            "description_tooltip": null,
            "layout": "IPY_MODEL_b16b2b5a029142a2b2a647eb88967414",
            "max": 3356,
            "min": 0,
            "orientation": "horizontal",
            "style": "IPY_MODEL_405adde8d0704baa90542dd9935b11c4",
            "value": 3356
          }
        },
        "05e8a64a01cf4d85887c1f6291ef948a": {
          "model_module": "@jupyter-widgets/controls",
          "model_name": "HTMLModel",
          "model_module_version": "1.5.0",
          "state": {
            "_dom_classes": [],
            "_model_module": "@jupyter-widgets/controls",
            "_model_module_version": "1.5.0",
            "_model_name": "HTMLModel",
            "_view_count": null,
            "_view_module": "@jupyter-widgets/controls",
            "_view_module_version": "1.5.0",
            "_view_name": "HTMLView",
            "description": "",
            "description_tooltip": null,
            "layout": "IPY_MODEL_32b8fc39633b4039ae7c8d08b851f642",
            "placeholder": "​",
            "style": "IPY_MODEL_b6b0f2586d2f4999865a9d48875d07b5",
            "value": " 3356/3356 [02:15&lt;00:00, 24.78it/s]"
          }
        },
        "90b84322f4ab478aa167db8ed12aeb88": {
          "model_module": "@jupyter-widgets/base",
          "model_name": "LayoutModel",
          "model_module_version": "1.2.0",
          "state": {
            "_model_module": "@jupyter-widgets/base",
            "_model_module_version": "1.2.0",
            "_model_name": "LayoutModel",
            "_view_count": null,
            "_view_module": "@jupyter-widgets/base",
            "_view_module_version": "1.2.0",
            "_view_name": "LayoutView",
            "align_content": null,
            "align_items": null,
            "align_self": null,
            "border": null,
            "bottom": null,
            "display": "inline-flex",
            "flex": null,
            "flex_flow": "row wrap",
            "grid_area": null,
            "grid_auto_columns": null,
            "grid_auto_flow": null,
            "grid_auto_rows": null,
            "grid_column": null,
            "grid_gap": null,
            "grid_row": null,
            "grid_template_areas": null,
            "grid_template_columns": null,
            "grid_template_rows": null,
            "height": null,
            "justify_content": null,
            "justify_items": null,
            "left": null,
            "margin": null,
            "max_height": null,
            "max_width": null,
            "min_height": null,
            "min_width": null,
            "object_fit": null,
            "object_position": null,
            "order": null,
            "overflow": null,
            "overflow_x": null,
            "overflow_y": null,
            "padding": null,
            "right": null,
            "top": null,
            "visibility": "hidden",
            "width": "100%"
          }
        },
        "033234ae6eeb46148529bc605a0e03a4": {
          "model_module": "@jupyter-widgets/base",
          "model_name": "LayoutModel",
          "model_module_version": "1.2.0",
          "state": {
            "_model_module": "@jupyter-widgets/base",
            "_model_module_version": "1.2.0",
            "_model_name": "LayoutModel",
            "_view_count": null,
            "_view_module": "@jupyter-widgets/base",
            "_view_module_version": "1.2.0",
            "_view_name": "LayoutView",
            "align_content": null,
            "align_items": null,
            "align_self": null,
            "border": null,
            "bottom": null,
            "display": null,
            "flex": null,
            "flex_flow": null,
            "grid_area": null,
            "grid_auto_columns": null,
            "grid_auto_flow": null,
            "grid_auto_rows": null,
            "grid_column": null,
            "grid_gap": null,
            "grid_row": null,
            "grid_template_areas": null,
            "grid_template_columns": null,
            "grid_template_rows": null,
            "height": null,
            "justify_content": null,
            "justify_items": null,
            "left": null,
            "margin": null,
            "max_height": null,
            "max_width": null,
            "min_height": null,
            "min_width": null,
            "object_fit": null,
            "object_position": null,
            "order": null,
            "overflow": null,
            "overflow_x": null,
            "overflow_y": null,
            "padding": null,
            "right": null,
            "top": null,
            "visibility": null,
            "width": null
          }
        },
        "1d9956e22a564713996057267035217c": {
          "model_module": "@jupyter-widgets/controls",
          "model_name": "DescriptionStyleModel",
          "model_module_version": "1.5.0",
          "state": {
            "_model_module": "@jupyter-widgets/controls",
            "_model_module_version": "1.5.0",
            "_model_name": "DescriptionStyleModel",
            "_view_count": null,
            "_view_module": "@jupyter-widgets/base",
            "_view_module_version": "1.2.0",
            "_view_name": "StyleView",
            "description_width": ""
          }
        },
        "b16b2b5a029142a2b2a647eb88967414": {
          "model_module": "@jupyter-widgets/base",
          "model_name": "LayoutModel",
          "model_module_version": "1.2.0",
          "state": {
            "_model_module": "@jupyter-widgets/base",
            "_model_module_version": "1.2.0",
            "_model_name": "LayoutModel",
            "_view_count": null,
            "_view_module": "@jupyter-widgets/base",
            "_view_module_version": "1.2.0",
            "_view_name": "LayoutView",
            "align_content": null,
            "align_items": null,
            "align_self": null,
            "border": null,
            "bottom": null,
            "display": null,
            "flex": "2",
            "flex_flow": null,
            "grid_area": null,
            "grid_auto_columns": null,
            "grid_auto_flow": null,
            "grid_auto_rows": null,
            "grid_column": null,
            "grid_gap": null,
            "grid_row": null,
            "grid_template_areas": null,
            "grid_template_columns": null,
            "grid_template_rows": null,
            "height": null,
            "justify_content": null,
            "justify_items": null,
            "left": null,
            "margin": null,
            "max_height": null,
            "max_width": null,
            "min_height": null,
            "min_width": null,
            "object_fit": null,
            "object_position": null,
            "order": null,
            "overflow": null,
            "overflow_x": null,
            "overflow_y": null,
            "padding": null,
            "right": null,
            "top": null,
            "visibility": null,
            "width": null
          }
        },
        "405adde8d0704baa90542dd9935b11c4": {
          "model_module": "@jupyter-widgets/controls",
          "model_name": "ProgressStyleModel",
          "model_module_version": "1.5.0",
          "state": {
            "_model_module": "@jupyter-widgets/controls",
            "_model_module_version": "1.5.0",
            "_model_name": "ProgressStyleModel",
            "_view_count": null,
            "_view_module": "@jupyter-widgets/base",
            "_view_module_version": "1.2.0",
            "_view_name": "StyleView",
            "bar_color": null,
            "description_width": ""
          }
        },
        "32b8fc39633b4039ae7c8d08b851f642": {
          "model_module": "@jupyter-widgets/base",
          "model_name": "LayoutModel",
          "model_module_version": "1.2.0",
          "state": {
            "_model_module": "@jupyter-widgets/base",
            "_model_module_version": "1.2.0",
            "_model_name": "LayoutModel",
            "_view_count": null,
            "_view_module": "@jupyter-widgets/base",
            "_view_module_version": "1.2.0",
            "_view_name": "LayoutView",
            "align_content": null,
            "align_items": null,
            "align_self": null,
            "border": null,
            "bottom": null,
            "display": null,
            "flex": null,
            "flex_flow": null,
            "grid_area": null,
            "grid_auto_columns": null,
            "grid_auto_flow": null,
            "grid_auto_rows": null,
            "grid_column": null,
            "grid_gap": null,
            "grid_row": null,
            "grid_template_areas": null,
            "grid_template_columns": null,
            "grid_template_rows": null,
            "height": null,
            "justify_content": null,
            "justify_items": null,
            "left": null,
            "margin": null,
            "max_height": null,
            "max_width": null,
            "min_height": null,
            "min_width": null,
            "object_fit": null,
            "object_position": null,
            "order": null,
            "overflow": null,
            "overflow_x": null,
            "overflow_y": null,
            "padding": null,
            "right": null,
            "top": null,
            "visibility": null,
            "width": null
          }
        },
        "b6b0f2586d2f4999865a9d48875d07b5": {
          "model_module": "@jupyter-widgets/controls",
          "model_name": "DescriptionStyleModel",
          "model_module_version": "1.5.0",
          "state": {
            "_model_module": "@jupyter-widgets/controls",
            "_model_module_version": "1.5.0",
            "_model_name": "DescriptionStyleModel",
            "_view_count": null,
            "_view_module": "@jupyter-widgets/base",
            "_view_module_version": "1.2.0",
            "_view_name": "StyleView",
            "description_width": ""
          }
        },
        "4e888e9b2f7140039fd50a874130e26c": {
          "model_module": "@jupyter-widgets/controls",
          "model_name": "HBoxModel",
          "model_module_version": "1.5.0",
          "state": {
            "_dom_classes": [],
            "_model_module": "@jupyter-widgets/controls",
            "_model_module_version": "1.5.0",
            "_model_name": "HBoxModel",
            "_view_count": null,
            "_view_module": "@jupyter-widgets/controls",
            "_view_module_version": "1.5.0",
            "_view_name": "HBoxView",
            "box_style": "",
            "children": [
              "IPY_MODEL_5e5dfafb1f824784a8bf5495aa36f7c8",
              "IPY_MODEL_c823bc9f86d7434581562fbe1d6e3675",
              "IPY_MODEL_d2ba649e523241d5aff0af65f416129b"
            ],
            "layout": "IPY_MODEL_40cfb50fc9a045bc8a82e8b88b41c978"
          }
        },
        "5e5dfafb1f824784a8bf5495aa36f7c8": {
          "model_module": "@jupyter-widgets/controls",
          "model_name": "HTMLModel",
          "model_module_version": "1.5.0",
          "state": {
            "_dom_classes": [],
            "_model_module": "@jupyter-widgets/controls",
            "_model_module_version": "1.5.0",
            "_model_name": "HTMLModel",
            "_view_count": null,
            "_view_module": "@jupyter-widgets/controls",
            "_view_module_version": "1.5.0",
            "_view_name": "HTMLView",
            "description": "",
            "description_tooltip": null,
            "layout": "IPY_MODEL_6ade9074f15b4e6095fe82c831725ddf",
            "placeholder": "​",
            "style": "IPY_MODEL_f7d280b2545a40b898edb3257d4ad771",
            "value": "Validation DataLoader 0: 100%"
          }
        },
        "c823bc9f86d7434581562fbe1d6e3675": {
          "model_module": "@jupyter-widgets/controls",
          "model_name": "FloatProgressModel",
          "model_module_version": "1.5.0",
          "state": {
            "_dom_classes": [],
            "_model_module": "@jupyter-widgets/controls",
            "_model_module_version": "1.5.0",
            "_model_name": "FloatProgressModel",
            "_view_count": null,
            "_view_module": "@jupyter-widgets/controls",
            "_view_module_version": "1.5.0",
            "_view_name": "ProgressView",
            "bar_style": "",
            "description": "",
            "description_tooltip": null,
            "layout": "IPY_MODEL_fac987155b624f61a0bb94b475b1c3d2",
            "max": 3356,
            "min": 0,
            "orientation": "horizontal",
            "style": "IPY_MODEL_5fafaabfc453440eb3a57683872cc729",
            "value": 3356
          }
        },
        "d2ba649e523241d5aff0af65f416129b": {
          "model_module": "@jupyter-widgets/controls",
          "model_name": "HTMLModel",
          "model_module_version": "1.5.0",
          "state": {
            "_dom_classes": [],
            "_model_module": "@jupyter-widgets/controls",
            "_model_module_version": "1.5.0",
            "_model_name": "HTMLModel",
            "_view_count": null,
            "_view_module": "@jupyter-widgets/controls",
            "_view_module_version": "1.5.0",
            "_view_name": "HTMLView",
            "description": "",
            "description_tooltip": null,
            "layout": "IPY_MODEL_416a710a6ce94489a7343920e4b075a5",
            "placeholder": "​",
            "style": "IPY_MODEL_5921d9232f8448c3a0ababdc53bfa10a",
            "value": " 3356/3356 [02:15&lt;00:00, 24.79it/s]"
          }
        },
        "40cfb50fc9a045bc8a82e8b88b41c978": {
          "model_module": "@jupyter-widgets/base",
          "model_name": "LayoutModel",
          "model_module_version": "1.2.0",
          "state": {
            "_model_module": "@jupyter-widgets/base",
            "_model_module_version": "1.2.0",
            "_model_name": "LayoutModel",
            "_view_count": null,
            "_view_module": "@jupyter-widgets/base",
            "_view_module_version": "1.2.0",
            "_view_name": "LayoutView",
            "align_content": null,
            "align_items": null,
            "align_self": null,
            "border": null,
            "bottom": null,
            "display": "inline-flex",
            "flex": null,
            "flex_flow": "row wrap",
            "grid_area": null,
            "grid_auto_columns": null,
            "grid_auto_flow": null,
            "grid_auto_rows": null,
            "grid_column": null,
            "grid_gap": null,
            "grid_row": null,
            "grid_template_areas": null,
            "grid_template_columns": null,
            "grid_template_rows": null,
            "height": null,
            "justify_content": null,
            "justify_items": null,
            "left": null,
            "margin": null,
            "max_height": null,
            "max_width": null,
            "min_height": null,
            "min_width": null,
            "object_fit": null,
            "object_position": null,
            "order": null,
            "overflow": null,
            "overflow_x": null,
            "overflow_y": null,
            "padding": null,
            "right": null,
            "top": null,
            "visibility": "hidden",
            "width": "100%"
          }
        },
        "6ade9074f15b4e6095fe82c831725ddf": {
          "model_module": "@jupyter-widgets/base",
          "model_name": "LayoutModel",
          "model_module_version": "1.2.0",
          "state": {
            "_model_module": "@jupyter-widgets/base",
            "_model_module_version": "1.2.0",
            "_model_name": "LayoutModel",
            "_view_count": null,
            "_view_module": "@jupyter-widgets/base",
            "_view_module_version": "1.2.0",
            "_view_name": "LayoutView",
            "align_content": null,
            "align_items": null,
            "align_self": null,
            "border": null,
            "bottom": null,
            "display": null,
            "flex": null,
            "flex_flow": null,
            "grid_area": null,
            "grid_auto_columns": null,
            "grid_auto_flow": null,
            "grid_auto_rows": null,
            "grid_column": null,
            "grid_gap": null,
            "grid_row": null,
            "grid_template_areas": null,
            "grid_template_columns": null,
            "grid_template_rows": null,
            "height": null,
            "justify_content": null,
            "justify_items": null,
            "left": null,
            "margin": null,
            "max_height": null,
            "max_width": null,
            "min_height": null,
            "min_width": null,
            "object_fit": null,
            "object_position": null,
            "order": null,
            "overflow": null,
            "overflow_x": null,
            "overflow_y": null,
            "padding": null,
            "right": null,
            "top": null,
            "visibility": null,
            "width": null
          }
        },
        "f7d280b2545a40b898edb3257d4ad771": {
          "model_module": "@jupyter-widgets/controls",
          "model_name": "DescriptionStyleModel",
          "model_module_version": "1.5.0",
          "state": {
            "_model_module": "@jupyter-widgets/controls",
            "_model_module_version": "1.5.0",
            "_model_name": "DescriptionStyleModel",
            "_view_count": null,
            "_view_module": "@jupyter-widgets/base",
            "_view_module_version": "1.2.0",
            "_view_name": "StyleView",
            "description_width": ""
          }
        },
        "fac987155b624f61a0bb94b475b1c3d2": {
          "model_module": "@jupyter-widgets/base",
          "model_name": "LayoutModel",
          "model_module_version": "1.2.0",
          "state": {
            "_model_module": "@jupyter-widgets/base",
            "_model_module_version": "1.2.0",
            "_model_name": "LayoutModel",
            "_view_count": null,
            "_view_module": "@jupyter-widgets/base",
            "_view_module_version": "1.2.0",
            "_view_name": "LayoutView",
            "align_content": null,
            "align_items": null,
            "align_self": null,
            "border": null,
            "bottom": null,
            "display": null,
            "flex": "2",
            "flex_flow": null,
            "grid_area": null,
            "grid_auto_columns": null,
            "grid_auto_flow": null,
            "grid_auto_rows": null,
            "grid_column": null,
            "grid_gap": null,
            "grid_row": null,
            "grid_template_areas": null,
            "grid_template_columns": null,
            "grid_template_rows": null,
            "height": null,
            "justify_content": null,
            "justify_items": null,
            "left": null,
            "margin": null,
            "max_height": null,
            "max_width": null,
            "min_height": null,
            "min_width": null,
            "object_fit": null,
            "object_position": null,
            "order": null,
            "overflow": null,
            "overflow_x": null,
            "overflow_y": null,
            "padding": null,
            "right": null,
            "top": null,
            "visibility": null,
            "width": null
          }
        },
        "5fafaabfc453440eb3a57683872cc729": {
          "model_module": "@jupyter-widgets/controls",
          "model_name": "ProgressStyleModel",
          "model_module_version": "1.5.0",
          "state": {
            "_model_module": "@jupyter-widgets/controls",
            "_model_module_version": "1.5.0",
            "_model_name": "ProgressStyleModel",
            "_view_count": null,
            "_view_module": "@jupyter-widgets/base",
            "_view_module_version": "1.2.0",
            "_view_name": "StyleView",
            "bar_color": null,
            "description_width": ""
          }
        },
        "416a710a6ce94489a7343920e4b075a5": {
          "model_module": "@jupyter-widgets/base",
          "model_name": "LayoutModel",
          "model_module_version": "1.2.0",
          "state": {
            "_model_module": "@jupyter-widgets/base",
            "_model_module_version": "1.2.0",
            "_model_name": "LayoutModel",
            "_view_count": null,
            "_view_module": "@jupyter-widgets/base",
            "_view_module_version": "1.2.0",
            "_view_name": "LayoutView",
            "align_content": null,
            "align_items": null,
            "align_self": null,
            "border": null,
            "bottom": null,
            "display": null,
            "flex": null,
            "flex_flow": null,
            "grid_area": null,
            "grid_auto_columns": null,
            "grid_auto_flow": null,
            "grid_auto_rows": null,
            "grid_column": null,
            "grid_gap": null,
            "grid_row": null,
            "grid_template_areas": null,
            "grid_template_columns": null,
            "grid_template_rows": null,
            "height": null,
            "justify_content": null,
            "justify_items": null,
            "left": null,
            "margin": null,
            "max_height": null,
            "max_width": null,
            "min_height": null,
            "min_width": null,
            "object_fit": null,
            "object_position": null,
            "order": null,
            "overflow": null,
            "overflow_x": null,
            "overflow_y": null,
            "padding": null,
            "right": null,
            "top": null,
            "visibility": null,
            "width": null
          }
        },
        "5921d9232f8448c3a0ababdc53bfa10a": {
          "model_module": "@jupyter-widgets/controls",
          "model_name": "DescriptionStyleModel",
          "model_module_version": "1.5.0",
          "state": {
            "_model_module": "@jupyter-widgets/controls",
            "_model_module_version": "1.5.0",
            "_model_name": "DescriptionStyleModel",
            "_view_count": null,
            "_view_module": "@jupyter-widgets/base",
            "_view_module_version": "1.2.0",
            "_view_name": "StyleView",
            "description_width": ""
          }
        }
      }
    }
  },
  "nbformat": 4,
  "nbformat_minor": 0
}