{
  "cells": [
    {
      "cell_type": "markdown",
      "metadata": {
        "id": "view-in-github",
        "colab_type": "text"
      },
      "source": [
        "<a href=\"https://colab.research.google.com/github/ScientistLim/ProjectAW/blob/feature%2Fmodel%2Flstm-transformer/tft_v3.ipynb\" target=\"_parent\"><img src=\"https://colab.research.google.com/assets/colab-badge.svg\" alt=\"Open In Colab\"/></a>"
      ]
    },
    {
      "cell_type": "code",
      "source": [
        "import os\n",
        "os.environ[\"PYTORCH_CUDA_ALLOC_CONF\"] = \"expandable_segments:True\""
      ],
      "metadata": {
        "id": "VhxP89ea3bQL"
      },
      "execution_count": 1,
      "outputs": []
    },
    {
      "cell_type": "code",
      "execution_count": 2,
      "metadata": {
        "colab": {
          "base_uri": "https://localhost:8080/"
        },
        "id": "5BFtEqFPemxS",
        "outputId": "4067c57a-368b-4f49-e741-38a3420d2ed7"
      },
      "outputs": [
        {
          "output_type": "stream",
          "name": "stdout",
          "text": [
            "Mounted at /content/drive\n"
          ]
        }
      ],
      "source": [
        "from google.colab import drive\n",
        "drive.mount('/content/drive')"
      ]
    },
    {
      "cell_type": "code",
      "execution_count": 5,
      "metadata": {
        "colab": {
          "base_uri": "https://localhost:8080/"
        },
        "id": "uWXgUYD5cFHh",
        "outputId": "2c126de7-12ec-4063-ea95-9c7e544e2951"
      },
      "outputs": [
        {
          "output_type": "stream",
          "name": "stdout",
          "text": [
            "Collecting pytorch-forecasting\n",
            "  Downloading pytorch_forecasting-1.1.1-py3-none-any.whl.metadata (13 kB)\n",
            "Requirement already satisfied: numpy<2.0.0 in /usr/local/lib/python3.10/dist-packages (from pytorch-forecasting) (1.26.4)\n",
            "Requirement already satisfied: torch!=2.0.1,<3.0.0,>=2.0.0 in /usr/local/lib/python3.10/dist-packages (from pytorch-forecasting) (2.4.1+cu121)\n",
            "Collecting lightning<3.0.0,>=2.0.0 (from pytorch-forecasting)\n",
            "  Downloading lightning-2.4.0-py3-none-any.whl.metadata (38 kB)\n",
            "Requirement already satisfied: scipy<2.0,>=1.8 in /usr/local/lib/python3.10/dist-packages (from pytorch-forecasting) (1.13.1)\n",
            "Requirement already satisfied: pandas<3.0.0,>=1.3.0 in /usr/local/lib/python3.10/dist-packages (from pytorch-forecasting) (2.1.4)\n",
            "Requirement already satisfied: scikit-learn<2.0,>=1.2 in /usr/local/lib/python3.10/dist-packages (from pytorch-forecasting) (1.5.2)\n",
            "Requirement already satisfied: PyYAML<8.0,>=5.4 in /usr/local/lib/python3.10/dist-packages (from lightning<3.0.0,>=2.0.0->pytorch-forecasting) (6.0.2)\n",
            "Requirement already satisfied: fsspec<2026.0,>=2022.5.0 in /usr/local/lib/python3.10/dist-packages (from fsspec[http]<2026.0,>=2022.5.0->lightning<3.0.0,>=2.0.0->pytorch-forecasting) (2024.6.1)\n",
            "Collecting lightning-utilities<2.0,>=0.10.0 (from lightning<3.0.0,>=2.0.0->pytorch-forecasting)\n",
            "  Downloading lightning_utilities-0.11.8-py3-none-any.whl.metadata (5.2 kB)\n",
            "Requirement already satisfied: packaging<25.0,>=20.0 in /usr/local/lib/python3.10/dist-packages (from lightning<3.0.0,>=2.0.0->pytorch-forecasting) (24.1)\n",
            "Collecting torchmetrics<3.0,>=0.7.0 (from lightning<3.0.0,>=2.0.0->pytorch-forecasting)\n",
            "  Downloading torchmetrics-1.5.1-py3-none-any.whl.metadata (20 kB)\n",
            "Requirement already satisfied: tqdm<6.0,>=4.57.0 in /usr/local/lib/python3.10/dist-packages (from lightning<3.0.0,>=2.0.0->pytorch-forecasting) (4.66.5)\n",
            "Requirement already satisfied: typing-extensions<6.0,>=4.4.0 in /usr/local/lib/python3.10/dist-packages (from lightning<3.0.0,>=2.0.0->pytorch-forecasting) (4.12.2)\n",
            "Collecting pytorch-lightning (from lightning<3.0.0,>=2.0.0->pytorch-forecasting)\n",
            "  Downloading pytorch_lightning-2.4.0-py3-none-any.whl.metadata (21 kB)\n",
            "Requirement already satisfied: python-dateutil>=2.8.2 in /usr/local/lib/python3.10/dist-packages (from pandas<3.0.0,>=1.3.0->pytorch-forecasting) (2.8.2)\n",
            "Requirement already satisfied: pytz>=2020.1 in /usr/local/lib/python3.10/dist-packages (from pandas<3.0.0,>=1.3.0->pytorch-forecasting) (2024.2)\n",
            "Requirement already satisfied: tzdata>=2022.1 in /usr/local/lib/python3.10/dist-packages (from pandas<3.0.0,>=1.3.0->pytorch-forecasting) (2024.1)\n",
            "Requirement already satisfied: joblib>=1.2.0 in /usr/local/lib/python3.10/dist-packages (from scikit-learn<2.0,>=1.2->pytorch-forecasting) (1.4.2)\n",
            "Requirement already satisfied: threadpoolctl>=3.1.0 in /usr/local/lib/python3.10/dist-packages (from scikit-learn<2.0,>=1.2->pytorch-forecasting) (3.5.0)\n",
            "Requirement already satisfied: filelock in /usr/local/lib/python3.10/dist-packages (from torch!=2.0.1,<3.0.0,>=2.0.0->pytorch-forecasting) (3.16.1)\n",
            "Requirement already satisfied: sympy in /usr/local/lib/python3.10/dist-packages (from torch!=2.0.1,<3.0.0,>=2.0.0->pytorch-forecasting) (1.13.3)\n",
            "Requirement already satisfied: networkx in /usr/local/lib/python3.10/dist-packages (from torch!=2.0.1,<3.0.0,>=2.0.0->pytorch-forecasting) (3.3)\n",
            "Requirement already satisfied: jinja2 in /usr/local/lib/python3.10/dist-packages (from torch!=2.0.1,<3.0.0,>=2.0.0->pytorch-forecasting) (3.1.4)\n",
            "Requirement already satisfied: aiohttp!=4.0.0a0,!=4.0.0a1 in /usr/local/lib/python3.10/dist-packages (from fsspec[http]<2026.0,>=2022.5.0->lightning<3.0.0,>=2.0.0->pytorch-forecasting) (3.10.5)\n",
            "Requirement already satisfied: setuptools in /usr/local/lib/python3.10/dist-packages (from lightning-utilities<2.0,>=0.10.0->lightning<3.0.0,>=2.0.0->pytorch-forecasting) (71.0.4)\n",
            "Requirement already satisfied: six>=1.5 in /usr/local/lib/python3.10/dist-packages (from python-dateutil>=2.8.2->pandas<3.0.0,>=1.3.0->pytorch-forecasting) (1.16.0)\n",
            "Requirement already satisfied: MarkupSafe>=2.0 in /usr/local/lib/python3.10/dist-packages (from jinja2->torch!=2.0.1,<3.0.0,>=2.0.0->pytorch-forecasting) (2.1.5)\n",
            "Requirement already satisfied: mpmath<1.4,>=1.1.0 in /usr/local/lib/python3.10/dist-packages (from sympy->torch!=2.0.1,<3.0.0,>=2.0.0->pytorch-forecasting) (1.3.0)\n",
            "Requirement already satisfied: aiohappyeyeballs>=2.3.0 in /usr/local/lib/python3.10/dist-packages (from aiohttp!=4.0.0a0,!=4.0.0a1->fsspec[http]<2026.0,>=2022.5.0->lightning<3.0.0,>=2.0.0->pytorch-forecasting) (2.4.0)\n",
            "Requirement already satisfied: aiosignal>=1.1.2 in /usr/local/lib/python3.10/dist-packages (from aiohttp!=4.0.0a0,!=4.0.0a1->fsspec[http]<2026.0,>=2022.5.0->lightning<3.0.0,>=2.0.0->pytorch-forecasting) (1.3.1)\n",
            "Requirement already satisfied: attrs>=17.3.0 in /usr/local/lib/python3.10/dist-packages (from aiohttp!=4.0.0a0,!=4.0.0a1->fsspec[http]<2026.0,>=2022.5.0->lightning<3.0.0,>=2.0.0->pytorch-forecasting) (24.2.0)\n",
            "Requirement already satisfied: frozenlist>=1.1.1 in /usr/local/lib/python3.10/dist-packages (from aiohttp!=4.0.0a0,!=4.0.0a1->fsspec[http]<2026.0,>=2022.5.0->lightning<3.0.0,>=2.0.0->pytorch-forecasting) (1.4.1)\n",
            "Requirement already satisfied: multidict<7.0,>=4.5 in /usr/local/lib/python3.10/dist-packages (from aiohttp!=4.0.0a0,!=4.0.0a1->fsspec[http]<2026.0,>=2022.5.0->lightning<3.0.0,>=2.0.0->pytorch-forecasting) (6.1.0)\n",
            "Requirement already satisfied: yarl<2.0,>=1.0 in /usr/local/lib/python3.10/dist-packages (from aiohttp!=4.0.0a0,!=4.0.0a1->fsspec[http]<2026.0,>=2022.5.0->lightning<3.0.0,>=2.0.0->pytorch-forecasting) (1.11.1)\n",
            "Requirement already satisfied: async-timeout<5.0,>=4.0 in /usr/local/lib/python3.10/dist-packages (from aiohttp!=4.0.0a0,!=4.0.0a1->fsspec[http]<2026.0,>=2022.5.0->lightning<3.0.0,>=2.0.0->pytorch-forecasting) (4.0.3)\n",
            "Requirement already satisfied: idna>=2.0 in /usr/local/lib/python3.10/dist-packages (from yarl<2.0,>=1.0->aiohttp!=4.0.0a0,!=4.0.0a1->fsspec[http]<2026.0,>=2022.5.0->lightning<3.0.0,>=2.0.0->pytorch-forecasting) (3.10)\n",
            "Downloading pytorch_forecasting-1.1.1-py3-none-any.whl (177 kB)\n",
            "\u001b[2K   \u001b[90m━━━━━━━━━━━━━━━━━━━━━━━━━━━━━━━━━━━━━━━━\u001b[0m \u001b[32m177.6/177.6 kB\u001b[0m \u001b[31m6.5 MB/s\u001b[0m eta \u001b[36m0:00:00\u001b[0m\n",
            "\u001b[?25hDownloading lightning-2.4.0-py3-none-any.whl (810 kB)\n",
            "\u001b[2K   \u001b[90m━━━━━━━━━━━━━━━━━━━━━━━━━━━━━━━━━━━━━━━━\u001b[0m \u001b[32m811.0/811.0 kB\u001b[0m \u001b[31m20.9 MB/s\u001b[0m eta \u001b[36m0:00:00\u001b[0m\n",
            "\u001b[?25hDownloading lightning_utilities-0.11.8-py3-none-any.whl (26 kB)\n",
            "Downloading torchmetrics-1.5.1-py3-none-any.whl (890 kB)\n",
            "\u001b[2K   \u001b[90m━━━━━━━━━━━━━━━━━━━━━━━━━━━━━━━━━━━━━━━━\u001b[0m \u001b[32m890.6/890.6 kB\u001b[0m \u001b[31m53.2 MB/s\u001b[0m eta \u001b[36m0:00:00\u001b[0m\n",
            "\u001b[?25hDownloading pytorch_lightning-2.4.0-py3-none-any.whl (815 kB)\n",
            "\u001b[2K   \u001b[90m━━━━━━━━━━━━━━━━━━━━━━━━━━━━━━━━━━━━━━━━\u001b[0m \u001b[32m815.2/815.2 kB\u001b[0m \u001b[31m53.1 MB/s\u001b[0m eta \u001b[36m0:00:00\u001b[0m\n",
            "\u001b[?25hInstalling collected packages: lightning-utilities, torchmetrics, pytorch-lightning, lightning, pytorch-forecasting\n",
            "Successfully installed lightning-2.4.0 lightning-utilities-0.11.8 pytorch-forecasting-1.1.1 pytorch-lightning-2.4.0 torchmetrics-1.5.1\n"
          ]
        }
      ],
      "source": [
        "!pip install pytorch-forecasting"
      ]
    },
    {
      "cell_type": "code",
      "execution_count": 6,
      "metadata": {
        "id": "gD_kZCPKLQFG"
      },
      "outputs": [],
      "source": [
        "%load_ext tensorboard"
      ]
    },
    {
      "cell_type": "code",
      "execution_count": 7,
      "metadata": {
        "id": "WR3rTVtlOj_1"
      },
      "outputs": [],
      "source": [
        "from tensorflow.keras.callbacks import TensorBoard, ModelCheckpoint, EarlyStopping, ReduceLROnPlateau\n",
        "import datetime  # datetime 모듈 임포트\n",
        "import os\n",
        "import numpy as np\n",
        "from tensorflow.keras.models import load_model\n",
        "from tensorflow.keras.optimizers import Adam\n",
        "import pandas as pd\n",
        "import torch\n",
        "from pytorch_forecasting import TimeSeriesDataSet, TemporalFusionTransformer\n",
        "from pytorch_forecasting.data import GroupNormalizer\n",
        "from pytorch_forecasting.metrics import MAE\n",
        "from pytorch_lightning import Trainer, LightningModule\n",
        "from pytorch_lightning.callbacks import EarlyStopping\n",
        "import matplotlib.pyplot as plt\n",
        "from pytorch_forecasting.models.temporal_fusion_transformer.sub_modules import VariableSelectionNetwork\n",
        "from torch import nn\n",
        "from pytorch_lightning.callbacks import LearningRateMonitor\n",
        "from pytorch_lightning.callbacks import ModelCheckpoint\n",
        "from sklearn.metrics import mean_squared_error, mean_absolute_percentage_error, r2_score\n"
      ]
    },
    {
      "cell_type": "code",
      "source": [
        "file_path = '/content/drive/MyDrive/종설프1_5팀/전처리.ipynb/[final] four-cycle-16months.xlsx'\n",
        "df = pd.read_excel(file_path)"
      ],
      "metadata": {
        "id": "nmXbI7yTUw-w"
      },
      "execution_count": 8,
      "outputs": []
    },
    {
      "cell_type": "code",
      "source": [
        "# 데이터 확인\n",
        "print(df.head())"
      ],
      "metadata": {
        "colab": {
          "base_uri": "https://localhost:8080/"
        },
        "id": "9P0VdNX-Olt1",
        "outputId": "38a6fdfa-0f51-44c2-ffa9-99228758c1fb"
      },
      "execution_count": 9,
      "outputs": [
        {
          "output_type": "stream",
          "name": "stdout",
          "text": [
            "                 Time  feed_pressure\n",
            "0 2023-06-16 13:30:00       9.050625\n",
            "1 2023-06-16 13:40:00       9.051000\n",
            "2 2023-06-16 13:50:00       9.051374\n",
            "3 2023-06-16 14:00:00       9.051749\n",
            "4 2023-06-16 14:10:00       9.052123\n"
          ]
        }
      ]
    },
    {
      "cell_type": "code",
      "execution_count": 10,
      "metadata": {
        "colab": {
          "base_uri": "https://localhost:8080/"
        },
        "id": "4N3FRguGfmEi",
        "outputId": "52dc983d-9909-4b6f-8de0-504976f4939f"
      },
      "outputs": [
        {
          "output_type": "stream",
          "name": "stdout",
          "text": [
            "Total data length: 71488 rows\n"
          ]
        }
      ],
      "source": [
        "# 데이터 전처리: 필요한 컬럼 설정 (Time, feed_pressure)\n",
        "df['time'] = pd.to_datetime(df['Time'])\n",
        "df['time_idx'] = ((df['time'] - df['time'].min()).dt.total_seconds() // 60).astype(int)\n",
        "df['group'] = \"feed_pressure\"  # 그룹화 컬럼 추가\n",
        "\n",
        "# 데이터 길이 확인\n",
        "total_length = len(df)\n",
        "print(f\"Total data length: {total_length} rows\")"
      ]
    },
    {
      "cell_type": "markdown",
      "metadata": {
        "id": "PoFmjhBEh4N0"
      },
      "source": [
        "### 데이터 준비 및 설정\n",
        "우선 max_encoder_length와 max_prediction_length를 설정하여 데이터의 인코더 및 예측 길이를 정의합니다."
      ]
    },
    {
      "cell_type": "code",
      "execution_count": 11,
      "metadata": {
        "colab": {
          "base_uri": "https://localhost:8080/"
        },
        "id": "3YQs6UADiCoO",
        "outputId": "84ad2813-f464-46ec-df48-8d1a69a1c633"
      },
      "outputs": [
        {
          "output_type": "stream",
          "name": "stdout",
          "text": [
            "Max encoder length: 2000 entries\n",
            "Max prediction length: 400 entries\n",
            "Min_encoder_length: 500 entries\n"
          ]
        }
      ],
      "source": [
        "# max_encoder_length와 max_prediction_length 설정\n",
        "max_encoder_length = 2000 #26808 #6개월\n",
        "max_prediction_length = 400 #4468 #1개월\n",
        "min_encoder_length = 500 #10000\n",
        "\n",
        "print(f\"Max encoder length: {max_encoder_length} entries\")\n",
        "print(f\"Max prediction length: {max_prediction_length} entries\")\n",
        "print(f\"Min_encoder_length: {min_encoder_length} entries\")"
      ]
    },
    {
      "cell_type": "code",
      "source": [
        "# 전체 데이터를 4개의 반복 패턴으로 나누기 (16주씩 4번 반복)\n",
        "cycle_length = len(df) // 4\n",
        "\n",
        "# 각 패턴을 데이터셋으로 나누기\n",
        "train_data = pd.concat([df.iloc[:cycle_length * 3]])  # 처음 3개의 반복 패턴을 훈련 데이터로 사용\n",
        "val_data = df.iloc[cycle_length * 3:]  # 마지막 반복 패턴을 검증 데이터로 사용"
      ],
      "metadata": {
        "id": "ksrT1MePbptU"
      },
      "execution_count": 12,
      "outputs": []
    },
    {
      "cell_type": "markdown",
      "metadata": {
        "id": "mkCDU7vhiD-K"
      },
      "source": [
        "### TimeSeriesDataSet 생성\n",
        "TimeSeriesDataSet을 사용해 데이터를 생성합니다. 여기에는 타겟, 그룹화 방식, 그리고 변동하는 시계열 컬럼을 정의합니다.\n"
      ]
    },
    {
      "cell_type": "code",
      "execution_count": 13,
      "metadata": {
        "id": "Yn_pCUPwiNFS",
        "colab": {
          "base_uri": "https://localhost:8080/"
        },
        "outputId": "2264a918-09f9-4a1b-d55a-816057f7b222"
      },
      "outputs": [
        {
          "output_type": "stream",
          "name": "stdout",
          "text": [
            "Normalizer parameters (mean, std): [13.74567639  2.36048209]\n"
          ]
        }
      ],
      "source": [
        "normalizer = GroupNormalizer(groups=[\"group\"], transformation=\"softplus\")\n",
        "\n",
        "# 학습용 및 검증용 TimeSeriesDataSet 생성\n",
        "training = TimeSeriesDataSet(\n",
        "    train_data,\n",
        "    time_idx=\"time_idx\",\n",
        "    target=\"feed_pressure\",\n",
        "    group_ids=[\"group\"],\n",
        "    max_encoder_length=max_encoder_length,\n",
        "    max_prediction_length=max_prediction_length,\n",
        "    min_encoder_length=min_encoder_length,\n",
        "    time_varying_unknown_reals=[\"feed_pressure\"],\n",
        "    time_varying_known_reals=[\"time_idx\"],\n",
        "    target_normalizer=normalizer,\n",
        "    allow_missing_timesteps=True\n",
        ")\n",
        "\n",
        "validation = TimeSeriesDataSet(\n",
        "    val_data,\n",
        "    time_idx=\"time_idx\",\n",
        "    target=\"feed_pressure\",\n",
        "    group_ids=[\"group\"],\n",
        "    max_encoder_length=max_encoder_length,\n",
        "    max_prediction_length=max_prediction_length,\n",
        "    min_encoder_length=min_encoder_length,\n",
        "    time_varying_unknown_reals=[\"feed_pressure\"],\n",
        "    time_varying_known_reals=[\"time_idx\"],\n",
        "    target_normalizer=normalizer,\n",
        "    allow_missing_timesteps=True\n",
        ")\n",
        "\n",
        "# normalizer 매개변수 출력\n",
        "normalizer_stats = normalizer.get_parameters(groups=df[\"group\"])\n",
        "print(f\"Normalizer parameters (mean, std): {normalizer_stats}\")"
      ]
    },
    {
      "cell_type": "markdown",
      "metadata": {
        "id": "eTwKJzZniNw3"
      },
      "source": [
        "### DataLoader 생성\n",
        "DataLoader를 생성하여 모델이 데이터를 학습할 수 있도록 준비합니다."
      ]
    },
    {
      "cell_type": "code",
      "execution_count": 14,
      "metadata": {
        "id": "KCaB3cO6iOEu"
      },
      "outputs": [],
      "source": [
        "# DataLoader 생성\n",
        "batch_size = 8\n",
        "train_dataloader = training.to_dataloader(train=True, batch_size=batch_size, shuffle=False, num_workers=4)\n",
        "\n",
        "# Validation DataLoader 생성\n",
        "val_dataloader = validation.to_dataloader(train=False, batch_size=batch_size, num_workers=4)"
      ]
    },
    {
      "cell_type": "markdown",
      "metadata": {
        "id": "V0RI59DsiOSK"
      },
      "source": [
        "### Temporal Fusion Transformer 모델 생성\n",
        "Temporal Fusion Transformer 모델을 생성하여 데이터셋을 학습할 준비를 합니다."
      ]
    },
    {
      "cell_type": "code",
      "execution_count": 15,
      "metadata": {
        "id": "5E-rXp1Tbisv",
        "colab": {
          "base_uri": "https://localhost:8080/"
        },
        "outputId": "6bf7a6ad-1bb0-4dc9-cbac-bfa602047009"
      },
      "outputs": [
        {
          "output_type": "stream",
          "name": "stderr",
          "text": [
            "/usr/local/lib/python3.10/dist-packages/lightning/pytorch/utilities/parsing.py:208: Attribute 'loss' is an instance of `nn.Module` and is already saved during checkpointing. It is recommended to ignore them using `self.save_hyperparameters(ignore=['loss'])`.\n",
            "/usr/local/lib/python3.10/dist-packages/lightning/pytorch/utilities/parsing.py:208: Attribute 'logging_metrics' is an instance of `nn.Module` and is already saved during checkpointing. It is recommended to ignore them using `self.save_hyperparameters(ignore=['logging_metrics'])`.\n"
          ]
        }
      ],
      "source": [
        "# Temporal Fusion Transformer 모델 생성\n",
        "tft = TemporalFusionTransformer.from_dataset(\n",
        "    training,\n",
        "    learning_rate=0.001, # 학습률\n",
        "    hidden_size=16, #모델의 잠재 표현 크기\n",
        "    attention_head_size=1,  # 어텐션 헤드 개수(패턴 포착)\n",
        "    dropout=0.1,  # 과적합 방지\n",
        "    hidden_continuous_size=16,  # 연속형 변수의 임베딩 크기\n",
        "    loss=MAE(),\n",
        "    log_interval=10, # 학습 로그 출력하는 빈도\n",
        "    reduce_on_plateau_patience=3, # 손실이 개선되지 않을 시 학습률 줄이는 시점\n",
        "    optimizer=\"adam\"\n",
        ")\n",
        "\n",
        "# 모델의 모든 파라미터를 GPU로 이동\n",
        "tft = tft.to('cuda:0')"
      ]
    },
    {
      "cell_type": "code",
      "source": [
        "def get_attention_mask(self, encoder_lengths, decoder_lengths):\n",
        "    # 디버깅 코드 추가\n",
        "    print(f\"encoder_lengths device: {encoder_lengths.device}\")\n",
        "    print(f\"decoder_lengths device: {decoder_lengths.device}\")\n",
        "\n",
        "    encoder_mask = create_mask(encoder_lengths.max(), encoder_lengths).unsqueeze(1).expand(-1, decoder_lengths.max(), -1)\n",
        "\n",
        "    # 디버깅 코드 추가\n",
        "    print(f\"encoder_mask device: {encoder_mask.device}\")\n",
        "\n",
        "    try:\n",
        "        # combine masks along attended time - first encoder and then decoder\n",
        "        mask = torch.cat(\n",
        "            (\n",
        "                encoder_mask,\n",
        "                create_mask(decoder_lengths.max(), decoder_lengths).unsqueeze(2).expand(-1, -1, encoder_lengths.max()),\n",
        "            ),\n",
        "            dim=1,\n",
        "        )\n",
        "    except RuntimeError as e:\n",
        "        print(f\"RuntimeError: {e}\")\n",
        "        raise e\n",
        "\n",
        "    return mask"
      ],
      "metadata": {
        "id": "x-8NWc7Q2OfU"
      },
      "execution_count": 16,
      "outputs": []
    },
    {
      "cell_type": "code",
      "source": [
        "def on_after_batch_transfer(self, batch, dataloader_idx):\n",
        "    \"\"\"\n",
        "    데이터 배치가 모델로 전달되기 전에 모든 배치를 GPU로 이동.\n",
        "    \"\"\"\n",
        "    device = self.device\n",
        "    features, targets = batch\n",
        "\n",
        "    # features와 targets를 재귀적으로 GPU로 이동\n",
        "    features = move_to_device(features, device)\n",
        "    targets = move_to_device(targets, device)\n",
        "\n",
        "    # 모델도 GPU로 이동\n",
        "    self.tft_model = self.tft_model.to(device)\n",
        "\n",
        "    return features, targets\n"
      ],
      "metadata": {
        "id": "baTvFaHh2RVZ"
      },
      "execution_count": 17,
      "outputs": []
    },
    {
      "cell_type": "markdown",
      "metadata": {
        "id": "OutkHVMSifBw"
      },
      "source": [
        "### LightningModule 정의 및 Trainer 설정\n",
        "PyTorch Lightning을 이용하여 모델 학습을 보다 쉽게 관리할 수 있도록 합니다.\n"
      ]
    },
    {
      "cell_type": "code",
      "execution_count": 18,
      "metadata": {
        "id": "LhI7kRKO2If3"
      },
      "outputs": [],
      "source": [
        "class TFTLightningModule(LightningModule):\n",
        "    def __init__(self, tft_model):\n",
        "        super().__init__()\n",
        "        self.tft_model = tft_model\n",
        "\n",
        "        # 하이퍼파라미터 저장 시 'tft_model'을 무시하도록 설정\n",
        "        self.save_hyperparameters(ignore=['tft_model', 'loss', 'logging_metrics'])\n",
        "\n",
        "    def forward(self, x):\n",
        "        # 입력 데이터를 모델이 있는 장치로 이동\n",
        "        return self.tft_model(x)\n",
        "\n",
        "    def training_step(self, batch, batch_idx):\n",
        "        # 모델이 있는 장치 확인\n",
        "        device = self.device\n",
        "\n",
        "        # 필요한 시점에 GPU로 이동\n",
        "        features, targets = batch\n",
        "        features = {key: value.to(device) if isinstance(value, torch.Tensor) else value for key, value in features.items()}\n",
        "        targets = targets.to(device)\n",
        "\n",
        "        # Forward pass 및 손실 계산\n",
        "        y_hat = self(features)\n",
        "        loss = self.tft_model.loss(y_hat[\"prediction\"], targets)\n",
        "        self.log(\"train_loss\", loss)\n",
        "        return loss\n",
        "\n",
        "    def validation_step(self, batch, batch_idx):\n",
        "        # 모델이 있는 장치 확인\n",
        "        device = self.device\n",
        "\n",
        "        # 필요한 시점에 GPU로 이동\n",
        "        features, targets = batch\n",
        "        features = {key: value.to(device) if isinstance(value, torch.Tensor) else value for key, value in features.items()}\n",
        "        targets = targets.to(device)\n",
        "\n",
        "        # Forward pass 및 손실 계산\n",
        "        y_hat = self(features)\n",
        "        loss = self.tft_model.loss(y_hat[\"prediction\"], targets)\n",
        "        self.log(\"val_loss\", loss)\n",
        "        return loss\n",
        "\n",
        "    def configure_optimizers(self):\n",
        "        # 옵티마이저 정의\n",
        "        optimizer = torch.optim.Adam(self.tft_model.parameters(), lr=0.001, weight_decay=1e-5)\n",
        "\n",
        "        # ReduceLROnPlateau 스케줄러 정의\n",
        "        scheduler = ReduceLROnPlateau(optimizer, mode='min', patience=3, factor=0.1, verbose=True)\n",
        "\n",
        "        # PyTorch Lightning에 사용할 스케줄러와 모니터링할 대상 설정\n",
        "        scheduler_config = {\n",
        "            'scheduler': scheduler,\n",
        "            'monitor': 'val_loss',  # 학습률 조정을 위해 모니터링할 지표\n",
        "            'interval': 'epoch',    # 스케줄러 업데이트 간격 ('epoch'마다 적용)\n",
        "            'frequency': 1          # 스케줄러 적용 빈도 (매 에폭마다 적용)\n",
        "        }\n",
        "\n",
        "        # 옵티마이저와 스케줄러를 함께 반환\n",
        "        return [optimizer], [scheduler_config]\n",
        "\n",
        "    # on_after_batch_transfer 제거: 데이터 배치를 미리 GPU로 이동하지 않음\n"
      ]
    },
    {
      "cell_type": "markdown",
      "metadata": {
        "id": "IkpA1oDVkfn1"
      },
      "source": [
        "## 모델 학습"
      ]
    },
    {
      "cell_type": "code",
      "source": [
        "# Google Drive에 체크포인트 저장 경로 설정\n",
        "local_checkpoint_dir = \"/content/checkpoints/\"\n",
        "drive_checkpoint_dir = \"/content/drive/MyDrive/종설프1_5팀/checkpoints/\"\n",
        "os.makedirs(local_checkpoint_dir, exist_ok=True)\n",
        "os.makedirs(drive_checkpoint_dir, exist_ok=True)\n",
        "\n",
        "# 기존 체크포인트 파일 삭제 함수\n",
        "def delete_existing_checkpoints(checkpoint_dir):\n",
        "    if os.path.exists(checkpoint_dir):\n",
        "        for filename in os.listdir(checkpoint_dir):\n",
        "            file_path = os.path.join(checkpoint_dir, filename)\n",
        "            try:\n",
        "                if os.path.isfile(file_path):\n",
        "                    os.remove(file_path)\n",
        "                    print(f\"Deleted checkpoint file: {file_path}\")\n",
        "            except Exception as e:\n",
        "                print(f\"Failed to delete {file_path}: {e}\")"
      ],
      "metadata": {
        "id": "d8SdXV5rsIoO"
      },
      "execution_count": 19,
      "outputs": []
    },
    {
      "cell_type": "code",
      "source": [
        "from pytorch_lightning import Trainer\n",
        "\n",
        "# TFT 모델을 LightningModule로 감싸기\n",
        "tft_module = TFTLightningModule(tft)\n",
        "\n",
        "# 학습을 위한 EarlyStopping 설정\n",
        "early_stop_callback = EarlyStopping(monitor=\"val_loss\", patience=5, min_delta=1e-4)\n",
        "\n",
        "\n",
        "# 체크포인트 설정\n",
        "checkpoint_callback = ModelCheckpoint(\n",
        "    dirpath=local_checkpoint_dir,\n",
        "    filename=\"tft-best-checkpoint\",\n",
        "    save_top_k=1,\n",
        "    verbose=True,\n",
        "    monitor=\"val_loss\",\n",
        "    mode=\"min\"\n",
        ")\n",
        "\n",
        "# Trainer 설정\n",
        "trainer = Trainer(\n",
        "    max_epochs=20,\n",
        "    accelerator=\"auto\",\n",
        "    devices=1,\n",
        "    gradient_clip_val=0.3,  # 그래디언트 클리핑 값 조절\n",
        "    callbacks=[early_stop_callback, checkpoint_callback],\n",
        "    accumulate_grad_batches=4,\n",
        "    precision=\"16-mixed\"  # Mixed Precision Training 사용\n",
        ")"
      ],
      "metadata": {
        "colab": {
          "base_uri": "https://localhost:8080/"
        },
        "id": "hFcUIJT3VweA",
        "outputId": "d854e81c-b48d-4489-ad93-893f0e1aec49"
      },
      "execution_count": 20,
      "outputs": [
        {
          "output_type": "stream",
          "name": "stderr",
          "text": [
            "INFO:pytorch_lightning.utilities.rank_zero:Using 16bit Automatic Mixed Precision (AMP)\n",
            "INFO:pytorch_lightning.utilities.rank_zero:GPU available: True (cuda), used: True\n",
            "INFO:pytorch_lightning.utilities.rank_zero:TPU available: False, using: 0 TPU cores\n",
            "INFO:pytorch_lightning.utilities.rank_zero:HPU available: False, using: 0 HPUs\n"
          ]
        }
      ]
    },
    {
      "cell_type": "markdown",
      "source": [
        "<span style=\"color:red;\">주의: 체크포인트 삭제!</span>"
      ],
      "metadata": {
        "id": "Au7kynAoSbtA"
      }
    },
    {
      "cell_type": "code",
      "source": [
        "# 학습 시작 전에 기존 체크포인트 삭제 여부를 결정하는 코드 블록\n",
        "delete_checkpoints = input(\"기존 체크포인트 파일을 삭제하시겠습니까? (y/n): \").lower()\n",
        "if delete_checkpoints == 'y':\n",
        "    print(\"기존 체크포인트 파일을 삭제합니다.\")\n",
        "    delete_existing_checkpoints(local_checkpoint_dir)\n",
        "    delete_existing_checkpoints(drive_checkpoint_dir)\n",
        "else:\n",
        "    print(\"기존 체크포인트 파일을 유지합니다.\")"
      ],
      "metadata": {
        "colab": {
          "base_uri": "https://localhost:8080/"
        },
        "id": "hk3rbB9gplWr",
        "outputId": "50b535b1-fe15-461e-cef2-bb4251f948d9"
      },
      "execution_count": null,
      "outputs": [
        {
          "output_type": "stream",
          "name": "stdout",
          "text": [
            "기존 체크포인트 파일을 삭제하시겠습니까? (y/n): ㅛ\n",
            "기존 체크포인트 파일을 유지합니다.\n"
          ]
        }
      ]
    },
    {
      "cell_type": "code",
      "source": [
        "import shutil\n",
        "\n",
        "# 체크포인트 경로 설정\n",
        "best_checkpoint_path = os.path.join(local_checkpoint_dir, \"tft-best-checkpoint.ckpt\")\n",
        "\n",
        "# 이전 체크포인트가 있으면 로드\n",
        "if os.path.exists(best_checkpoint_path):\n",
        "    print(\"이전 체크포인트에서 학습을 이어갑니다.\")\n",
        "    trainer.fit(tft_module, train_dataloaders=train_dataloader, val_dataloaders=val_dataloader, ckpt_path=best_checkpoint_path)\n",
        "else:\n",
        "    print(\"새로 학습을 시작합니다.\")\n",
        "    trainer.fit(tft_module, train_dataloaders=train_dataloader, val_dataloaders=val_dataloader)\n",
        "\n",
        "# 학습이 끝난 후 Google Drive로 체크포인트 파일 복사\n",
        "if os.path.exists(best_checkpoint_path):\n",
        "    shutil.copy(best_checkpoint_path, drive_checkpoint_dir)\n",
        "    print(f\"Best checkpoint file copied to Google Drive: {drive_checkpoint_dir}\")\n",
        "else:\n",
        "    print(\"No checkpoint file found.\")"
      ],
      "metadata": {
        "colab": {
          "base_uri": "https://localhost:8080/",
          "height": 390
        },
        "id": "Yh9oNHATs8UP",
        "outputId": "8d693c16-4af3-4f68-99a1-b6c0642301b5"
      },
      "execution_count": 21,
      "outputs": [
        {
          "output_type": "stream",
          "name": "stdout",
          "text": [
            "새로 학습을 시작합니다.\n"
          ]
        },
        {
          "output_type": "stream",
          "name": "stderr",
          "text": [
            "INFO:pytorch_lightning.accelerators.cuda:LOCAL_RANK: 0 - CUDA_VISIBLE_DEVICES: [0]\n"
          ]
        },
        {
          "output_type": "error",
          "ename": "AttributeError",
          "evalue": "'ReduceLROnPlateau' object has no attribute 'optimizer'",
          "traceback": [
            "\u001b[0;31m---------------------------------------------------------------------------\u001b[0m",
            "\u001b[0;31mAttributeError\u001b[0m                            Traceback (most recent call last)",
            "\u001b[0;32m<ipython-input-21-8a82d69197fb>\u001b[0m in \u001b[0;36m<cell line: 7>\u001b[0;34m()\u001b[0m\n\u001b[1;32m     10\u001b[0m \u001b[0;32melse\u001b[0m\u001b[0;34m:\u001b[0m\u001b[0;34m\u001b[0m\u001b[0;34m\u001b[0m\u001b[0m\n\u001b[1;32m     11\u001b[0m     \u001b[0mprint\u001b[0m\u001b[0;34m(\u001b[0m\u001b[0;34m\"새로 학습을 시작합니다.\"\u001b[0m\u001b[0;34m)\u001b[0m\u001b[0;34m\u001b[0m\u001b[0;34m\u001b[0m\u001b[0m\n\u001b[0;32m---> 12\u001b[0;31m     \u001b[0mtrainer\u001b[0m\u001b[0;34m.\u001b[0m\u001b[0mfit\u001b[0m\u001b[0;34m(\u001b[0m\u001b[0mtft_module\u001b[0m\u001b[0;34m,\u001b[0m \u001b[0mtrain_dataloaders\u001b[0m\u001b[0;34m=\u001b[0m\u001b[0mtrain_dataloader\u001b[0m\u001b[0;34m,\u001b[0m \u001b[0mval_dataloaders\u001b[0m\u001b[0;34m=\u001b[0m\u001b[0mval_dataloader\u001b[0m\u001b[0;34m)\u001b[0m\u001b[0;34m\u001b[0m\u001b[0;34m\u001b[0m\u001b[0m\n\u001b[0m\u001b[1;32m     13\u001b[0m \u001b[0;34m\u001b[0m\u001b[0m\n\u001b[1;32m     14\u001b[0m \u001b[0;31m# 학습이 끝난 후 Google Drive로 체크포인트 파일 복사\u001b[0m\u001b[0;34m\u001b[0m\u001b[0;34m\u001b[0m\u001b[0m\n",
            "\u001b[0;32m/usr/local/lib/python3.10/dist-packages/pytorch_lightning/trainer/trainer.py\u001b[0m in \u001b[0;36mfit\u001b[0;34m(self, model, train_dataloaders, val_dataloaders, datamodule, ckpt_path)\u001b[0m\n\u001b[1;32m    536\u001b[0m         \u001b[0mself\u001b[0m\u001b[0;34m.\u001b[0m\u001b[0mstate\u001b[0m\u001b[0;34m.\u001b[0m\u001b[0mstatus\u001b[0m \u001b[0;34m=\u001b[0m \u001b[0mTrainerStatus\u001b[0m\u001b[0;34m.\u001b[0m\u001b[0mRUNNING\u001b[0m\u001b[0;34m\u001b[0m\u001b[0;34m\u001b[0m\u001b[0m\n\u001b[1;32m    537\u001b[0m         \u001b[0mself\u001b[0m\u001b[0;34m.\u001b[0m\u001b[0mtraining\u001b[0m \u001b[0;34m=\u001b[0m \u001b[0;32mTrue\u001b[0m\u001b[0;34m\u001b[0m\u001b[0;34m\u001b[0m\u001b[0m\n\u001b[0;32m--> 538\u001b[0;31m         call._call_and_handle_interrupt(\n\u001b[0m\u001b[1;32m    539\u001b[0m             \u001b[0mself\u001b[0m\u001b[0;34m,\u001b[0m \u001b[0mself\u001b[0m\u001b[0;34m.\u001b[0m\u001b[0m_fit_impl\u001b[0m\u001b[0;34m,\u001b[0m \u001b[0mmodel\u001b[0m\u001b[0;34m,\u001b[0m \u001b[0mtrain_dataloaders\u001b[0m\u001b[0;34m,\u001b[0m \u001b[0mval_dataloaders\u001b[0m\u001b[0;34m,\u001b[0m \u001b[0mdatamodule\u001b[0m\u001b[0;34m,\u001b[0m \u001b[0mckpt_path\u001b[0m\u001b[0;34m\u001b[0m\u001b[0;34m\u001b[0m\u001b[0m\n\u001b[1;32m    540\u001b[0m         )\n",
            "\u001b[0;32m/usr/local/lib/python3.10/dist-packages/pytorch_lightning/trainer/call.py\u001b[0m in \u001b[0;36m_call_and_handle_interrupt\u001b[0;34m(trainer, trainer_fn, *args, **kwargs)\u001b[0m\n\u001b[1;32m     45\u001b[0m         \u001b[0;32mif\u001b[0m \u001b[0mtrainer\u001b[0m\u001b[0;34m.\u001b[0m\u001b[0mstrategy\u001b[0m\u001b[0;34m.\u001b[0m\u001b[0mlauncher\u001b[0m \u001b[0;32mis\u001b[0m \u001b[0;32mnot\u001b[0m \u001b[0;32mNone\u001b[0m\u001b[0;34m:\u001b[0m\u001b[0;34m\u001b[0m\u001b[0;34m\u001b[0m\u001b[0m\n\u001b[1;32m     46\u001b[0m             \u001b[0;32mreturn\u001b[0m \u001b[0mtrainer\u001b[0m\u001b[0;34m.\u001b[0m\u001b[0mstrategy\u001b[0m\u001b[0;34m.\u001b[0m\u001b[0mlauncher\u001b[0m\u001b[0;34m.\u001b[0m\u001b[0mlaunch\u001b[0m\u001b[0;34m(\u001b[0m\u001b[0mtrainer_fn\u001b[0m\u001b[0;34m,\u001b[0m \u001b[0;34m*\u001b[0m\u001b[0margs\u001b[0m\u001b[0;34m,\u001b[0m \u001b[0mtrainer\u001b[0m\u001b[0;34m=\u001b[0m\u001b[0mtrainer\u001b[0m\u001b[0;34m,\u001b[0m \u001b[0;34m**\u001b[0m\u001b[0mkwargs\u001b[0m\u001b[0;34m)\u001b[0m\u001b[0;34m\u001b[0m\u001b[0;34m\u001b[0m\u001b[0m\n\u001b[0;32m---> 47\u001b[0;31m         \u001b[0;32mreturn\u001b[0m \u001b[0mtrainer_fn\u001b[0m\u001b[0;34m(\u001b[0m\u001b[0;34m*\u001b[0m\u001b[0margs\u001b[0m\u001b[0;34m,\u001b[0m \u001b[0;34m**\u001b[0m\u001b[0mkwargs\u001b[0m\u001b[0;34m)\u001b[0m\u001b[0;34m\u001b[0m\u001b[0;34m\u001b[0m\u001b[0m\n\u001b[0m\u001b[1;32m     48\u001b[0m \u001b[0;34m\u001b[0m\u001b[0m\n\u001b[1;32m     49\u001b[0m     \u001b[0;32mexcept\u001b[0m \u001b[0m_TunerExitException\u001b[0m\u001b[0;34m:\u001b[0m\u001b[0;34m\u001b[0m\u001b[0;34m\u001b[0m\u001b[0m\n",
            "\u001b[0;32m/usr/local/lib/python3.10/dist-packages/pytorch_lightning/trainer/trainer.py\u001b[0m in \u001b[0;36m_fit_impl\u001b[0;34m(self, model, train_dataloaders, val_dataloaders, datamodule, ckpt_path)\u001b[0m\n\u001b[1;32m    572\u001b[0m             \u001b[0mmodel_connected\u001b[0m\u001b[0;34m=\u001b[0m\u001b[0mself\u001b[0m\u001b[0;34m.\u001b[0m\u001b[0mlightning_module\u001b[0m \u001b[0;32mis\u001b[0m \u001b[0;32mnot\u001b[0m \u001b[0;32mNone\u001b[0m\u001b[0;34m,\u001b[0m\u001b[0;34m\u001b[0m\u001b[0;34m\u001b[0m\u001b[0m\n\u001b[1;32m    573\u001b[0m         )\n\u001b[0;32m--> 574\u001b[0;31m         \u001b[0mself\u001b[0m\u001b[0;34m.\u001b[0m\u001b[0m_run\u001b[0m\u001b[0;34m(\u001b[0m\u001b[0mmodel\u001b[0m\u001b[0;34m,\u001b[0m \u001b[0mckpt_path\u001b[0m\u001b[0;34m=\u001b[0m\u001b[0mckpt_path\u001b[0m\u001b[0;34m)\u001b[0m\u001b[0;34m\u001b[0m\u001b[0;34m\u001b[0m\u001b[0m\n\u001b[0m\u001b[1;32m    575\u001b[0m \u001b[0;34m\u001b[0m\u001b[0m\n\u001b[1;32m    576\u001b[0m         \u001b[0;32massert\u001b[0m \u001b[0mself\u001b[0m\u001b[0;34m.\u001b[0m\u001b[0mstate\u001b[0m\u001b[0;34m.\u001b[0m\u001b[0mstopped\u001b[0m\u001b[0;34m\u001b[0m\u001b[0;34m\u001b[0m\u001b[0m\n",
            "\u001b[0;32m/usr/local/lib/python3.10/dist-packages/pytorch_lightning/trainer/trainer.py\u001b[0m in \u001b[0;36m_run\u001b[0;34m(self, model, ckpt_path)\u001b[0m\n\u001b[1;32m    955\u001b[0m \u001b[0;34m\u001b[0m\u001b[0m\n\u001b[1;32m    956\u001b[0m         \u001b[0;31m# strategy will configure model and move it to the device\u001b[0m\u001b[0;34m\u001b[0m\u001b[0;34m\u001b[0m\u001b[0m\n\u001b[0;32m--> 957\u001b[0;31m         \u001b[0mself\u001b[0m\u001b[0;34m.\u001b[0m\u001b[0mstrategy\u001b[0m\u001b[0;34m.\u001b[0m\u001b[0msetup\u001b[0m\u001b[0;34m(\u001b[0m\u001b[0mself\u001b[0m\u001b[0;34m)\u001b[0m\u001b[0;34m\u001b[0m\u001b[0;34m\u001b[0m\u001b[0m\n\u001b[0m\u001b[1;32m    958\u001b[0m \u001b[0;34m\u001b[0m\u001b[0m\n\u001b[1;32m    959\u001b[0m         \u001b[0;31m# hook\u001b[0m\u001b[0;34m\u001b[0m\u001b[0;34m\u001b[0m\u001b[0m\n",
            "\u001b[0;32m/usr/local/lib/python3.10/dist-packages/pytorch_lightning/strategies/strategy.py\u001b[0m in \u001b[0;36msetup\u001b[0;34m(self, trainer)\u001b[0m\n\u001b[1;32m    156\u001b[0m \u001b[0;34m\u001b[0m\u001b[0m\n\u001b[1;32m    157\u001b[0m         \u001b[0;32mif\u001b[0m \u001b[0mtrainer\u001b[0m\u001b[0;34m.\u001b[0m\u001b[0mstate\u001b[0m\u001b[0;34m.\u001b[0m\u001b[0mfn\u001b[0m \u001b[0;34m==\u001b[0m \u001b[0mTrainerFn\u001b[0m\u001b[0;34m.\u001b[0m\u001b[0mFITTING\u001b[0m\u001b[0;34m:\u001b[0m\u001b[0;34m\u001b[0m\u001b[0;34m\u001b[0m\u001b[0m\n\u001b[0;32m--> 158\u001b[0;31m             \u001b[0mself\u001b[0m\u001b[0;34m.\u001b[0m\u001b[0msetup_optimizers\u001b[0m\u001b[0;34m(\u001b[0m\u001b[0mtrainer\u001b[0m\u001b[0;34m)\u001b[0m\u001b[0;34m\u001b[0m\u001b[0;34m\u001b[0m\u001b[0m\n\u001b[0m\u001b[1;32m    159\u001b[0m         \u001b[0mself\u001b[0m\u001b[0;34m.\u001b[0m\u001b[0msetup_precision_plugin\u001b[0m\u001b[0;34m(\u001b[0m\u001b[0;34m)\u001b[0m\u001b[0;34m\u001b[0m\u001b[0;34m\u001b[0m\u001b[0m\n\u001b[1;32m    160\u001b[0m         \u001b[0;32mif\u001b[0m \u001b[0mtrainer\u001b[0m\u001b[0;34m.\u001b[0m\u001b[0mstate\u001b[0m\u001b[0;34m.\u001b[0m\u001b[0mfn\u001b[0m \u001b[0;34m==\u001b[0m \u001b[0mTrainerFn\u001b[0m\u001b[0;34m.\u001b[0m\u001b[0mFITTING\u001b[0m\u001b[0;34m:\u001b[0m\u001b[0;34m\u001b[0m\u001b[0;34m\u001b[0m\u001b[0m\n",
            "\u001b[0;32m/usr/local/lib/python3.10/dist-packages/pytorch_lightning/strategies/strategy.py\u001b[0m in \u001b[0;36msetup_optimizers\u001b[0;34m(self, trainer)\u001b[0m\n\u001b[1;32m    136\u001b[0m         \"\"\"\n\u001b[1;32m    137\u001b[0m         \u001b[0;32massert\u001b[0m \u001b[0mself\u001b[0m\u001b[0;34m.\u001b[0m\u001b[0mlightning_module\u001b[0m \u001b[0;32mis\u001b[0m \u001b[0;32mnot\u001b[0m \u001b[0;32mNone\u001b[0m\u001b[0;34m\u001b[0m\u001b[0;34m\u001b[0m\u001b[0m\n\u001b[0;32m--> 138\u001b[0;31m         \u001b[0mself\u001b[0m\u001b[0;34m.\u001b[0m\u001b[0moptimizers\u001b[0m\u001b[0;34m,\u001b[0m \u001b[0mself\u001b[0m\u001b[0;34m.\u001b[0m\u001b[0mlr_scheduler_configs\u001b[0m \u001b[0;34m=\u001b[0m \u001b[0m_init_optimizers_and_lr_schedulers\u001b[0m\u001b[0;34m(\u001b[0m\u001b[0mself\u001b[0m\u001b[0;34m.\u001b[0m\u001b[0mlightning_module\u001b[0m\u001b[0;34m)\u001b[0m\u001b[0;34m\u001b[0m\u001b[0;34m\u001b[0m\u001b[0m\n\u001b[0m\u001b[1;32m    139\u001b[0m \u001b[0;34m\u001b[0m\u001b[0m\n\u001b[1;32m    140\u001b[0m     \u001b[0;32mdef\u001b[0m \u001b[0msetup\u001b[0m\u001b[0;34m(\u001b[0m\u001b[0mself\u001b[0m\u001b[0;34m,\u001b[0m \u001b[0mtrainer\u001b[0m\u001b[0;34m:\u001b[0m \u001b[0;34m\"pl.Trainer\"\u001b[0m\u001b[0;34m)\u001b[0m \u001b[0;34m->\u001b[0m \u001b[0;32mNone\u001b[0m\u001b[0;34m:\u001b[0m\u001b[0;34m\u001b[0m\u001b[0;34m\u001b[0m\u001b[0m\n",
            "\u001b[0;32m/usr/local/lib/python3.10/dist-packages/pytorch_lightning/core/optimizer.py\u001b[0m in \u001b[0;36m_init_optimizers_and_lr_schedulers\u001b[0;34m(model)\u001b[0m\n\u001b[1;32m    192\u001b[0m     )\n\u001b[1;32m    193\u001b[0m     \u001b[0m_validate_multiple_optimizers_support\u001b[0m\u001b[0;34m(\u001b[0m\u001b[0moptimizers\u001b[0m\u001b[0;34m,\u001b[0m \u001b[0mmodel\u001b[0m\u001b[0;34m)\u001b[0m\u001b[0;34m\u001b[0m\u001b[0;34m\u001b[0m\u001b[0m\n\u001b[0;32m--> 194\u001b[0;31m     \u001b[0m_validate_optimizers_attached\u001b[0m\u001b[0;34m(\u001b[0m\u001b[0moptimizers\u001b[0m\u001b[0;34m,\u001b[0m \u001b[0mlr_scheduler_configs\u001b[0m\u001b[0;34m)\u001b[0m\u001b[0;34m\u001b[0m\u001b[0;34m\u001b[0m\u001b[0m\n\u001b[0m\u001b[1;32m    195\u001b[0m     \u001b[0m_validate_scheduler_api\u001b[0m\u001b[0;34m(\u001b[0m\u001b[0mlr_scheduler_configs\u001b[0m\u001b[0;34m,\u001b[0m \u001b[0mmodel\u001b[0m\u001b[0;34m)\u001b[0m\u001b[0;34m\u001b[0m\u001b[0;34m\u001b[0m\u001b[0m\n\u001b[1;32m    196\u001b[0m     \u001b[0;32mreturn\u001b[0m \u001b[0moptimizers\u001b[0m\u001b[0;34m,\u001b[0m \u001b[0mlr_scheduler_configs\u001b[0m\u001b[0;34m\u001b[0m\u001b[0;34m\u001b[0m\u001b[0m\n",
            "\u001b[0;32m/usr/local/lib/python3.10/dist-packages/pytorch_lightning/core/optimizer.py\u001b[0m in \u001b[0;36m_validate_optimizers_attached\u001b[0;34m(optimizers, lr_scheduler_configs)\u001b[0m\n\u001b[1;32m    365\u001b[0m \u001b[0;32mdef\u001b[0m \u001b[0m_validate_optimizers_attached\u001b[0m\u001b[0;34m(\u001b[0m\u001b[0moptimizers\u001b[0m\u001b[0;34m:\u001b[0m \u001b[0mList\u001b[0m\u001b[0;34m[\u001b[0m\u001b[0mOptimizer\u001b[0m\u001b[0;34m]\u001b[0m\u001b[0;34m,\u001b[0m \u001b[0mlr_scheduler_configs\u001b[0m\u001b[0;34m:\u001b[0m \u001b[0mList\u001b[0m\u001b[0;34m[\u001b[0m\u001b[0mLRSchedulerConfig\u001b[0m\u001b[0;34m]\u001b[0m\u001b[0;34m)\u001b[0m \u001b[0;34m->\u001b[0m \u001b[0;32mNone\u001b[0m\u001b[0;34m:\u001b[0m\u001b[0;34m\u001b[0m\u001b[0;34m\u001b[0m\u001b[0m\n\u001b[1;32m    366\u001b[0m     \u001b[0;32mfor\u001b[0m \u001b[0mconfig\u001b[0m \u001b[0;32min\u001b[0m \u001b[0mlr_scheduler_configs\u001b[0m\u001b[0;34m:\u001b[0m\u001b[0;34m\u001b[0m\u001b[0;34m\u001b[0m\u001b[0m\n\u001b[0;32m--> 367\u001b[0;31m         \u001b[0;32mif\u001b[0m \u001b[0mconfig\u001b[0m\u001b[0;34m.\u001b[0m\u001b[0mscheduler\u001b[0m\u001b[0;34m.\u001b[0m\u001b[0moptimizer\u001b[0m \u001b[0;32mnot\u001b[0m \u001b[0;32min\u001b[0m \u001b[0moptimizers\u001b[0m\u001b[0;34m:\u001b[0m\u001b[0;34m\u001b[0m\u001b[0;34m\u001b[0m\u001b[0m\n\u001b[0m\u001b[1;32m    368\u001b[0m             raise MisconfigurationException(\n\u001b[1;32m    369\u001b[0m                 \u001b[0;34m\"Some schedulers are attached with an optimizer that wasn't returned from `configure_optimizers`.\"\u001b[0m\u001b[0;34m\u001b[0m\u001b[0;34m\u001b[0m\u001b[0m\n",
            "\u001b[0;31mAttributeError\u001b[0m: 'ReduceLROnPlateau' object has no attribute 'optimizer'"
          ]
        }
      ]
    },
    {
      "cell_type": "markdown",
      "source": [
        "## 모델 다시 로드"
      ],
      "metadata": {
        "id": "HCFQ8hvvpogS"
      }
    },
    {
      "cell_type": "code",
      "source": [
        "# Google Drive에 저장된 체크포인트 경로 설정\n",
        "checkpoint_dir = \"/content/drive/MyDrive/종설프1_5팀/checkpoints/\"\n",
        "checkpoint_path = os.path.join(checkpoint_dir, \"tft-best-checkpoint.ckpt\")\n",
        "\n",
        "# 저장된 체크포인트로부터 모델 로드\n",
        "if os.path.exists(checkpoint_path):\n",
        "    print(\"저장된 체크포인트에서 모델을 로드합니다.\")\n",
        "    tft_module = TFTLightningModule.load_from_checkpoint(checkpoint_path, tft_model=tft)\n",
        "    tft_module.eval()  # 모델을 평가 모드로 전환\n",
        "else:\n",
        "    raise FileNotFoundError(\"체크포인트 파일을 찾을 수 없습니다.\")"
      ],
      "metadata": {
        "colab": {
          "base_uri": "https://localhost:8080/",
          "height": 221
        },
        "id": "enVEGklUpn5m",
        "outputId": "4770b955-f694-4720-97f9-ee065cee8143"
      },
      "execution_count": null,
      "outputs": [
        {
          "output_type": "error",
          "ename": "NameError",
          "evalue": "name 'os' is not defined",
          "traceback": [
            "\u001b[0;31m---------------------------------------------------------------------------\u001b[0m",
            "\u001b[0;31mNameError\u001b[0m                                 Traceback (most recent call last)",
            "\u001b[0;32m<ipython-input-2-0dc7392acdd8>\u001b[0m in \u001b[0;36m<cell line: 3>\u001b[0;34m()\u001b[0m\n\u001b[1;32m      1\u001b[0m \u001b[0;31m# Google Drive에 저장된 체크포인트 경로 설정\u001b[0m\u001b[0;34m\u001b[0m\u001b[0;34m\u001b[0m\u001b[0m\n\u001b[1;32m      2\u001b[0m \u001b[0mcheckpoint_dir\u001b[0m \u001b[0;34m=\u001b[0m \u001b[0;34m\"/content/drive/MyDrive/종설프1_5팀/checkpoints/\"\u001b[0m\u001b[0;34m\u001b[0m\u001b[0;34m\u001b[0m\u001b[0m\n\u001b[0;32m----> 3\u001b[0;31m \u001b[0mcheckpoint_path\u001b[0m \u001b[0;34m=\u001b[0m \u001b[0mos\u001b[0m\u001b[0;34m.\u001b[0m\u001b[0mpath\u001b[0m\u001b[0;34m.\u001b[0m\u001b[0mjoin\u001b[0m\u001b[0;34m(\u001b[0m\u001b[0mcheckpoint_dir\u001b[0m\u001b[0;34m,\u001b[0m \u001b[0;34m\"tft-best-checkpoint.ckpt\"\u001b[0m\u001b[0;34m)\u001b[0m\u001b[0;34m\u001b[0m\u001b[0;34m\u001b[0m\u001b[0m\n\u001b[0m\u001b[1;32m      4\u001b[0m \u001b[0;34m\u001b[0m\u001b[0m\n\u001b[1;32m      5\u001b[0m \u001b[0;31m# 저장된 체크포인트로부터 모델 로드\u001b[0m\u001b[0;34m\u001b[0m\u001b[0;34m\u001b[0m\u001b[0m\n",
            "\u001b[0;31mNameError\u001b[0m: name 'os' is not defined"
          ]
        }
      ]
    },
    {
      "cell_type": "markdown",
      "source": [
        "## 예측"
      ],
      "metadata": {
        "id": "fb2lrhdEvx7I"
      }
    },
    {
      "cell_type": "code",
      "source": [
        "# 기존 데이터의 처음 4주치 데이터만 가져오기\n",
        "num_rows_4_weeks = len(df) // 16  # 전체 데이터의 1/16만큼 가져옴\n",
        "encoder_data = df.iloc[:num_rows_4_weeks]\n",
        "encoder_data_length = len(encoder_data)\n",
        "print(f\"encoder data length: {encoder_data_length} rows\")"
      ],
      "metadata": {
        "colab": {
          "base_uri": "https://localhost:8080/"
        },
        "id": "Z-jnvQ_y1sGV",
        "outputId": "5a170d24-c9c8-46ed-d87e-6a1e39ab708f"
      },
      "execution_count": null,
      "outputs": [
        {
          "output_type": "stream",
          "name": "stdout",
          "text": [
            "encoder data length: 4468 rows\n"
          ]
        }
      ]
    },
    {
      "cell_type": "code",
      "source": [
        "# 기존 데이터의 마지막 time 및 time_idx 확인\n",
        "last_time = encoder_data[\"time\"].max()\n",
        "last_time_idx = encoder_data[\"time_idx\"].max()\n",
        "\n",
        "print(f\"Last time in encoder data: {last_time}\")\n",
        "print(f\"Last time_idx in encoder data: {last_time_idx}\")\n",
        "\n",
        "# 12주 예측을 위해 필요한 빈 예측 데이터 생성\n",
        "new_prediction_data = pd.DataFrame({\n",
        "    \"time\": pd.date_range(last_time + pd.Timedelta(minutes=10), periods=12 * 7 * 24 * 6, freq=\"10min\"),\n",
        "    \"feed_pressure\": [np.nan] * (12 * 7 * 24 * 6),  # 예측 부분은 모두 NaN으로 설정\n",
        "    \"time_idx\": range(last_time_idx + 1, last_time_idx + 1 + 12 * 7 * 24 * 6),\n",
        "    \"group\": [\"feed_pressure\"] * (12 * 7 * 24 * 6),\n",
        "})\n",
        "\n",
        "# NaN 값을 기존 데이터의 마지막 값으로 채우기 (예측용으로 대체값 설정)\n",
        "new_prediction_data[\"feed_pressure\"].fillna(encoder_data[\"feed_pressure\"].iloc[-1], inplace=True)\n",
        "\n",
        "# 인코더 데이터와 예측 데이터를 병합하여 최종 예측용 데이터 생성\n",
        "new_data = pd.concat([encoder_data, new_prediction_data]).reset_index(drop=True)\n",
        "new_data_length = len(new_data)\n",
        "print(f\"Total new data length for prediction: {new_data_length} rows\")"
      ],
      "metadata": {
        "colab": {
          "base_uri": "https://localhost:8080/"
        },
        "id": "JvM1AYiQ2DxL",
        "outputId": "7f2aa6c6-a0e9-4b4f-c148-a53b932375c6"
      },
      "execution_count": null,
      "outputs": [
        {
          "output_type": "stream",
          "name": "stdout",
          "text": [
            "Last time in encoder data: 2023-07-17 14:00:00\n",
            "Last time_idx in encoder data: 44670\n",
            "Total new data length for prediction: 16564 rows\n"
          ]
        },
        {
          "output_type": "stream",
          "name": "stderr",
          "text": [
            "<ipython-input-74-aa3bac000b56>:17: FutureWarning: A value is trying to be set on a copy of a DataFrame or Series through chained assignment using an inplace method.\n",
            "The behavior will change in pandas 3.0. This inplace method will never work because the intermediate object on which we are setting values always behaves as a copy.\n",
            "\n",
            "For example, when doing 'df[col].method(value, inplace=True)', try using 'df.method({col: value}, inplace=True)' or df[col] = df[col].method(value) instead, to perform the operation inplace on the original object.\n",
            "\n",
            "\n",
            "  new_prediction_data[\"feed_pressure\"].fillna(encoder_data[\"feed_pressure\"].iloc[-1], inplace=True)\n"
          ]
        }
      ]
    },
    {
      "cell_type": "code",
      "source": [
        "# 새로운 특성 추가\n",
        "new_data[\"hour\"] = new_data[\"time\"].dt.hour\n",
        "new_data[\"day_of_week\"] = new_data[\"time\"].dt.dayofweek\n",
        "\n",
        "# 필요한 입력 특성들을 다시 확인하고 포함하기\n",
        "time_varying_known_reals = [\"time_idx\", \"hour\", \"day_of_week\"]  # 모델에서 이미 알고 있는 입력 값\n",
        "time_varying_unknown_reals = [\"feed_pressure\"]  # 모델이 예측해야 하는 값\n",
        "\n",
        "# 새로운 TimeSeriesDataSet 생성 (예측용)\n",
        "prediction_data = TimeSeriesDataSet(\n",
        "    new_data,\n",
        "    time_idx=\"time_idx\",\n",
        "    target=\"feed_pressure\",\n",
        "    group_ids=[\"group\"],\n",
        "    max_encoder_length=max_encoder_length,\n",
        "    max_prediction_length=max_prediction_length,\n",
        "    time_varying_known_reals=time_varying_known_reals,\n",
        "    time_varying_unknown_reals=time_varying_unknown_reals,\n",
        "    target_normalizer=normalizer,\n",
        "    allow_missing_timesteps=True\n",
        ")"
      ],
      "metadata": {
        "id": "MqoiS8Sz83PQ"
      },
      "execution_count": null,
      "outputs": []
    },
    {
      "cell_type": "code",
      "source": [
        "# 예측용 DataLoader 생성\n",
        "prediction_dataloader = prediction_data.to_dataloader(train=False, batch_size=64, num_workers=0)\n",
        "\n",
        "# 모델을 CUDA로 이동 (필요한 경우)\n",
        "tft_module = tft_module.cuda() if torch.cuda.is_available() else tft_module\n",
        "\n",
        "# 예측 수행\n",
        "predictions = []\n",
        "for batch in prediction_dataloader:\n",
        "    # TimeSeriesDataSet에서는 (inputs, targets) 형태로 반환되며 예측에서는 targets가 None\n",
        "    x, _ = batch\n",
        "    x = {key: val.cuda() if torch.cuda.is_available() else val for key, val in x.items()}\n",
        "\n",
        "    # 모델 예측\n",
        "    with torch.no_grad():\n",
        "        output = tft_module(x)\n",
        "        prediction = output[\"prediction\"].cpu().numpy().squeeze()\n",
        "\n",
        "        # 예측 값 저장\n",
        "        predictions.append(prediction)"
      ],
      "metadata": {
        "id": "z3j9-sUpoTo0"
      },
      "execution_count": null,
      "outputs": []
    },
    {
      "cell_type": "code",
      "source": [
        "# 리스트를 배열로 변환하기 전에 모든 예측의 차원을 확인하고 맞추기\n",
        "for idx, pred in enumerate(predictions):\n",
        "    if pred.ndim == 1:  # 마지막 배치의 경우 (200,) 형태로 되어 있음\n",
        "        predictions[idx] = np.expand_dims(pred, axis=0)  # 차원을 (1, 200)으로 확장\n",
        "\n",
        "# 리스트를 배열로 변환\n",
        "predictions = np.concatenate(predictions, axis=0)"
      ],
      "metadata": {
        "id": "r9_0cIVqAtq_"
      },
      "execution_count": null,
      "outputs": []
    },
    {
      "cell_type": "code",
      "source": [
        "# 예측 데이터의 일부를 선택해서 실제 데이터와 비교 (예를 들어, 첫 번째 100개 시퀀스만 사용)\n",
        "selected_predictions = predictions[:100]  # 첫 번째 100개 시퀀스 선택\n",
        "required_length = selected_predictions.shape[0] * selected_predictions.shape[1]  # 필요 데이터 길이 계산\n",
        "\n",
        "# 실제 데이터도 필요한 길이만큼 선택\n",
        "actual_data_16 = df.iloc[num_rows_4_weeks:num_rows_4_weeks + required_length]\n",
        "actuals = actual_data_16[\"feed_pressure\"].values.reshape(selected_predictions.shape[0], selected_predictions.shape[1])\n",
        "\n",
        "# 선택된 실제 데이터와 예측 데이터의 형태 확인\n",
        "print(f\"Shape of actuals: {actuals.shape}\")\n",
        "print(f\"Shape of selected_predictions: {selected_predictions.shape}\")\n",
        "\n",
        "# 평가 지표 계산\n",
        "rmse = mean_squared_error(actuals, selected_predictions, squared=False)\n",
        "mape = mean_absolute_percentage_error(actuals, selected_predictions) * 100\n",
        "r2 = r2_score(actuals, selected_predictions)\n",
        "\n",
        "# 평가 지표 출력\n",
        "print(f\"RMSE: {rmse}\")\n",
        "print(f\"MAPE: {mape}%\")\n",
        "print(f\"R²: {r2}\")\n"
      ],
      "metadata": {
        "colab": {
          "base_uri": "https://localhost:8080/"
        },
        "id": "kM3nmQSzI3Pn",
        "outputId": "38d939e9-c85e-4ab7-9c7c-b450dae5f303"
      },
      "execution_count": null,
      "outputs": [
        {
          "output_type": "stream",
          "name": "stdout",
          "text": [
            "Shape of actuals: (100, 200)\n",
            "Shape of selected_predictions: (100, 200)\n",
            "RMSE: 4.444095177799543\n",
            "MAPE: 31.93466587869118%\n",
            "R²: -2.7930683646622323\n"
          ]
        },
        {
          "output_type": "stream",
          "name": "stderr",
          "text": [
            "/usr/local/lib/python3.10/dist-packages/sklearn/metrics/_regression.py:492: FutureWarning: 'squared' is deprecated in version 1.4 and will be removed in 1.6. To calculate the root mean squared error, use the function'root_mean_squared_error'.\n",
            "  warnings.warn(\n"
          ]
        }
      ]
    },
    {
      "cell_type": "code",
      "source": [
        "import matplotlib.pyplot as plt\n",
        "\n",
        "# 예측과 실제 값을 비교하는 그래프 생성\n",
        "plt.figure(figsize=(15, 6))\n",
        "\n",
        "# 선택된 예측 값과 실제 값 중 첫 번째 시퀀스(시각적으로 잘 보이기 위해 첫 시퀀스만 표시)\n",
        "time_axis = range(len(selected_predictions[0]))\n",
        "\n",
        "plt.plot(time_axis, actuals[0], label=\"Actual Feed Pressure\", color=\"blue\", linewidth=1.5)\n",
        "plt.plot(time_axis, selected_predictions[0], label=\"Predicted Feed Pressure\", color=\"orange\", linewidth=1.5, linestyle=\"--\")\n",
        "\n",
        "plt.xlabel(\"Time Step\")\n",
        "plt.ylabel(\"Feed Pressure\")\n",
        "plt.title(\"Feed Pressure Prediction vs Actual (First Sequence)\")\n",
        "plt.legend()\n",
        "plt.grid(True)\n",
        "plt.show()\n"
      ],
      "metadata": {
        "colab": {
          "base_uri": "https://localhost:8080/",
          "height": 518
        },
        "id": "bAZVmTMnrSiY",
        "outputId": "050f9b17-aa64-4c44-afc4-882cc1a4995c"
      },
      "execution_count": null,
      "outputs": [
        {
          "output_type": "display_data",
          "data": {
            "text/plain": [
              "<Figure size 1500x600 with 1 Axes>"
            ],
            "image/png": "[encoded data removed]"
          },
          "metadata": {}
        }
      ]
    },
    {
      "cell_type": "code",
      "source": [
        "# CSV 파일 불러오기\n",
        "file_path = '/content/drive/MyDrive/종설프1_5팀/전처리.ipynb/2차 통합운전데이터.csv'\n",
        "\n"
      ],
      "metadata": {
        "id": "6QIoJDHHQTiJ"
      },
      "execution_count": null,
      "outputs": []
    },
    {
      "cell_type": "code",
      "source": [
        "# 인코딩 형식을 'euc-kr' 또는 'cp949'로 설정\n",
        "df2 = pd.read_csv(file_path)\n",
        "\n",
        "# 데이터 전처리: 필요한 컬럼 설정 (Time, feed_pressure)\n",
        "df2['time'] = pd.to_datetime(df2['Time'])\n",
        "df2['time_idx'] = ((df2['time'] - df2['time'].min()).dt.total_seconds() // 600).astype(int)\n",
        "df2['group'] = \"feed_pressure\"  # 그룹화 컬럼 추가\n",
        "\n",
        "# 데이터 분할: 앞 20%는 초기 입력, 나머지 80%는 예측용 데이터\n",
        "test_data_length = len(df2)\n",
        "initial_data_length = int(test_data_length * 0.2)\n",
        "initial_data = df2.iloc[:initial_data_length].copy()\n",
        "remaining_data = df2.iloc[initial_data_length:].copy()\n",
        "\n",
        "# 초기 입력 데이터 출력\n",
        "print(\"Initial Data:\")\n",
        "print(initial_data.head())\n",
        "\n",
        "# 데이터 준비\n",
        "initial_data_length = len(initial_data)\n",
        "print(f\"Initial data length: {initial_data_length} rows\")\n",
        "\n",
        "# 새로운 특성 추가\n",
        "initial_data.loc[:, \"hour\"] = initial_data[\"time\"].dt.hour\n",
        "initial_data.loc[:, \"day_of_week\"] = initial_data[\"time\"].dt.dayofweek\n",
        "\n",
        "# 필요한 입력 특성들을 다시 확인하고 포함하기\n",
        "time_varying_known_reals = [\"time_idx\", \"hour\", \"day_of_week\"]  # 모델에서 이미 알고 있는 입력 값\n",
        "time_varying_unknown_reals = [\"feed_pressure\"]  # 모델이 예측해야 하는 값\n",
        "\n",
        "# max_encoder_length와 max_prediction_length가 데이터의 길이에 적합한지 확인하고 조정\n",
        "min_required_length = 10  # 최소한으로 필요한 데이터 길이 설정\n",
        "if max_encoder_length >= initial_data_length - min_required_length:\n",
        "    max_encoder_length = initial_data_length - min_required_length\n",
        "if max_prediction_length >= initial_data_length - max_encoder_length - min_required_length:\n",
        "    max_prediction_length = max(1, initial_data_length - max_encoder_length - min_required_length)\n",
        "\n",
        "# 현재 설정된 max_encoder_length와 max_prediction_length 출력\n",
        "print(f\"Adjusted max_encoder_length: {max_encoder_length}\")\n",
        "print(f\"Adjusted max_prediction_length: {max_prediction_length}\")\n",
        "\n",
        "# TimeSeriesDataSet 생성 (검증용)\n",
        "try:\n",
        "    validation_data = TimeSeriesDataSet(\n",
        "        initial_data,\n",
        "        time_idx=\"time_idx\",\n",
        "        target=\"feed_pressure\",\n",
        "        group_ids=[\"group\"],\n",
        "        max_encoder_length=max_encoder_length,\n",
        "        max_prediction_length=max_prediction_length,\n",
        "        time_varying_known_reals=time_varying_known_reals,\n",
        "        time_varying_unknown_reals=time_varying_unknown_reals,\n",
        "        target_normalizer=normalizer,\n",
        "        allow_missing_timesteps=True\n",
        "    )\n",
        "    print(\"TimeSeriesDataSet 생성 성공\")\n",
        "except AssertionError as e:\n",
        "    print(\"TimeSeriesDataSet 생성 실패: \", e)\n",
        "    print(\"initial_data_length: \", initial_data_length)\n",
        "    print(\"max_encoder_length: \", max_encoder_length)\n",
        "    print(\"max_prediction_length: \", max_prediction_length)\n",
        "\n",
        "# 검증용 DataLoader 생성\n",
        "if 'validation_data' in locals():\n",
        "    validation_dataloader = validation_data.to_dataloader(train=False, batch_size=64, num_workers=0)\n",
        "\n",
        "    # 모델을 CUDA로 이동 (필요한 경우)\n",
        "    tft_module = tft_module.cuda() if torch.cuda.is_available() else tft_module\n",
        "\n",
        "    # 예측 수행\n",
        "    predictions = []\n",
        "    for batch in validation_dataloader:\n",
        "        # TimeSeriesDataSet에서는 (inputs, targets) 형태로 반환되며 예측에서는 targets가 None\n",
        "        x, _ = batch\n",
        "        x = {key: val.cuda() if torch.cuda.is_available() else val for key, val in x.items()}\n",
        "\n",
        "        # 모델 예측\n",
        "        with torch.no_grad():\n",
        "            output = tft_module(x)\n",
        "            prediction = output[\"prediction\"].cpu().numpy().squeeze()\n",
        "\n",
        "            # 예측 값 저장\n",
        "            predictions.append(prediction)\n",
        "\n",
        "    # 리스트를 배열로 변환하기 전에 모든 예측의 차원을 확인하고 맞추기\n",
        "    for idx, pred in enumerate(predictions):\n",
        "        if pred.ndim == 1:  # 마지막 배치의 경우 (200,) 형태로 되어 있음\n",
        "            predictions[idx] = np.expand_dims(pred, axis=0)  # 차원을 (1, 200)으로 확장\n",
        "\n",
        "    # 리스트를 배열로 변환\n",
        "    predictions = np.concatenate(predictions, axis=0)\n",
        "\n",
        "    # 예측 데이터의 일부를 선택해서 실제 데이터와 비교 (예를 들어, 첫 번째 100개 시퀀스만 사용)\n",
        "    selected_predictions = predictions[:100]  # 첫 번째 100개 시퀀스 선택\n",
        "    required_length = selected_predictions.shape[0] * selected_predictions.shape[1]  # 필요 데이터 길이 계산\n",
        "\n",
        "    # 실제 데이터도 필요한 길이만큼 선택\n",
        "    actual_data = remaining_data.iloc[:required_length]\n",
        "    actuals = actual_data[\"feed_pressure\"].values.reshape(selected_predictions.shape[0], selected_predictions.shape[1])\n",
        "\n",
        "    # 선택된 실제 데이터와 예측 데이터의 형태 확인\n",
        "    print(f\"Shape of actuals: {actuals.shape}\")\n",
        "    print(f\"Shape of selected_predictions: {selected_predictions.shape}\")\n",
        "\n",
        "    # 평가 지표 계산\n",
        "    rmse = mean_squared_error(actuals, selected_predictions, squared=False)\n",
        "    mape = mean_absolute_percentage_error(actuals, selected_predictions) * 100\n",
        "    r2 = r2_score(actuals, selected_predictions)\n",
        "\n",
        "    # 평가 지표 출력\n",
        "    print(f\"RMSE: {rmse}\")\n",
        "    print(f\"MAPE: {mape}%\")\n",
        "    print(f\"R²: {r2}\")\n",
        "\n",
        "    import matplotlib.pyplot as plt\n",
        "\n",
        "    # 예측과 실제 값을 비교하는 그래프 생성\n",
        "    plt.figure(figsize=(15, 6))\n",
        "\n",
        "    # 선택된 예측 값과 실제 값 중 첫 번째 시퀀스(시각적으로 잘 보이기 위해 첫 시퀀스만 표시)\n",
        "    time_axis = range(len(selected_predictions[0]))\n",
        "\n",
        "    plt.plot(time_axis, actuals[0], label=\"Actual Feed Pressure\", color=\"blue\", linewidth=1.5)\n",
        "    plt.plot(time_axis, selected_predictions[0], label=\"Predicted Feed Pressure\", color=\"orange\", linewidth=1.5, linestyle=\"--\")\n",
        "\n",
        "    plt.xlabel(\"Time Step\")\n",
        "    plt.ylabel(\"Feed Pressure\")\n",
        "    plt.title(\"Feed Pressure Prediction vs Actual (First Sequence)\")\n",
        "    plt.legend()\n",
        "    plt.grid(True)\n",
        "    plt.show()\n"
      ],
      "metadata": {
        "colab": {
          "base_uri": "https://localhost:8080/",
          "height": 1000
        },
        "id": "em_6vP_URAwJ",
        "outputId": "f143b70d-d12f-44af-ced1-3062286734df"
      },
      "execution_count": null,
      "outputs": [
        {
          "output_type": "stream",
          "name": "stdout",
          "text": [
            "Initial Data:\n",
            "               Time  feed_pressure                time  time_idx  \\\n",
            "0  2024/10/07 16:40       9.050625 2024-10-07 16:40:00         0   \n",
            "1  2024/10/07 16:50       9.050625 2024-10-07 16:50:00         1   \n",
            "2  2024/10/07 17:00       9.074375 2024-10-07 17:00:00         2   \n",
            "3  2024/10/07 17:10       9.086250 2024-10-07 17:10:00         3   \n",
            "4  2024/10/07 17:20       9.104250 2024-10-07 17:20:00         4   \n",
            "\n",
            "           group  \n",
            "0  feed_pressure  \n",
            "1  feed_pressure  \n",
            "2  feed_pressure  \n",
            "3  feed_pressure  \n",
            "4  feed_pressure  \n",
            "Initial data length: 223 rows\n",
            "Adjusted max_encoder_length: 213\n",
            "Adjusted max_prediction_length: 1\n",
            "TimeSeriesDataSet 생성 성공\n",
            "Shape of actuals: (1, 10)\n",
            "Shape of selected_predictions: (1, 10)\n",
            "RMSE: 7.247150389099121\n",
            "MAPE: 72.35053468439261%\n",
            "R²: nan\n"
          ]
        },
        {
          "output_type": "stream",
          "name": "stderr",
          "text": [
            "/usr/local/lib/python3.10/dist-packages/sklearn/metrics/_regression.py:492: FutureWarning: 'squared' is deprecated in version 1.4 and will be removed in 1.6. To calculate the root mean squared error, use the function'root_mean_squared_error'.\n",
            "  warnings.warn(\n",
            "/usr/local/lib/python3.10/dist-packages/sklearn/metrics/_regression.py:1211: UndefinedMetricWarning: R^2 score is not well-defined with less than two samples.\n",
            "  warnings.warn(msg, UndefinedMetricWarning)\n"
          ]
        },
        {
          "output_type": "display_data",
          "data": {
            "text/plain": [
              "<Figure size 1500x600 with 1 Axes>"
            ],
            "image/png": "[encoded data removed]"
          },
          "metadata": {}
        }
      ]
    },
    {
      "cell_type": "code",
      "source": [
        "\n",
        "\n",
        "# 인코딩 형식을 'euc-kr' 또는 'cp949'로 설정\n",
        "df2 = pd.read_csv(file_path)\n",
        "\n",
        "# 데이터 전처리: 필요한 컬럼 설정 (Time, feed_pressure)\n",
        "df2['time'] = pd.to_datetime(df2['Time'])\n",
        "df2['time_idx'] = ((df2['time'] - df2['time'].min()).dt.total_seconds() // 600).astype(int)\n",
        "df2['group'] = \"feed_pressure\"  # 그룹화 컬럼 추가\n",
        "\n",
        "# 데이터 분할: 앞 20%는 초기 입력, 나머지 80%는 예측용 데이터\n",
        "test_data_length = len(df2)\n",
        "initial_data_length = int(test_data_length * 0.2)\n",
        "initial_data = df2.iloc[:initial_data_length].copy()\n",
        "remaining_data = df2.iloc[initial_data_length:].copy()\n",
        "\n",
        "# 초기 입력 데이터 출력\n",
        "print(\"Initial Data:\")\n",
        "print(initial_data.head())\n",
        "\n",
        "# 데이터 준비\n",
        "initial_data_length = len(initial_data)\n",
        "print(f\"Initial data length: {initial_data_length} rows\")\n",
        "\n",
        "# 새로운 특성 추가\n",
        "initial_data.loc[:, \"hour\"] = initial_data[\"time\"].dt.hour\n",
        "initial_data.loc[:, \"day_of_week\"] = initial_data[\"time\"].dt.dayofweek\n",
        "\n",
        "# 필요한 입력 특성들을 다시 확인하고 포함하기\n",
        "time_varying_known_reals = [\"time_idx\", \"hour\", \"day_of_week\"]  # 모델에서 이미 알고 있는 입력 값\n",
        "time_varying_unknown_reals = [\"feed_pressure\"]  # 모델이 예측해야 하는 값\n",
        "\n",
        "# max_encoder_length와 max_prediction_length가 데이터의 길이에 적합한지 확인하고 조정\n",
        "min_required_length = 10  # 최소한으로 필요한 데이터 길이 설정\n",
        "if max_encoder_length >= initial_data_length - min_required_length:\n",
        "    max_encoder_length = initial_data_length - min_required_length\n",
        "if max_prediction_length >= initial_data_length - max_encoder_length - min_required_length:\n",
        "    max_prediction_length = max(1, initial_data_length - max_encoder_length - min_required_length)\n",
        "\n",
        "# 현재 설정된 max_encoder_length와 max_prediction_length 출력\n",
        "print(f\"Adjusted max_encoder_length: {max_encoder_length}\")\n",
        "print(f\"Adjusted max_prediction_length: {max_prediction_length}\")\n",
        "\n",
        "# TimeSeriesDataSet 생성 (검증용)\n",
        "try:\n",
        "    validation_data = TimeSeriesDataSet(\n",
        "        initial_data,\n",
        "        time_idx=\"time_idx\",\n",
        "        target=\"feed_pressure\",\n",
        "        group_ids=[\"group\"],\n",
        "        max_encoder_length=max_encoder_length,\n",
        "        max_prediction_length=max_prediction_length,\n",
        "        time_varying_known_reals=time_varying_known_reals,\n",
        "        time_varying_unknown_reals=time_varying_unknown_reals,\n",
        "        target_normalizer=normalizer,\n",
        "        allow_missing_timesteps=True\n",
        "    )\n",
        "    print(\"TimeSeriesDataSet 생성 성공\")\n",
        "except AssertionError as e:\n",
        "    print(\"TimeSeriesDataSet 생성 실패: \", e)\n",
        "    print(\"initial_data_length: \", initial_data_length)\n",
        "    print(\"max_encoder_length: \", max_encoder_length)\n",
        "    print(\"max_prediction_length: \", max_prediction_length)\n",
        "\n",
        "# 검증용 DataLoader 생성\n",
        "if 'validation_data' in locals():\n",
        "    validation_dataloader = validation_data.to_dataloader(train=False, batch_size=64, num_workers=0)\n",
        "\n",
        "    # 모델을 CUDA로 이동 (필요한 경우)\n",
        "    tft_module = tft_module.cuda() if torch.cuda.is_available() else tft_module\n",
        "\n",
        "    # 예측 수행\n",
        "    predictions = []\n",
        "    for batch in validation_dataloader:\n",
        "        # TimeSeriesDataSet에서는 (inputs, targets) 형태로 반환되며 예측에서는 targets가 None\n",
        "        x, _ = batch\n",
        "        x = {key: val.cuda() if torch.cuda.is_available() else val for key, val in x.items()}\n",
        "\n",
        "        # 모델 예측\n",
        "        with torch.no_grad():\n",
        "            output = tft_module(x)\n",
        "            prediction = output[\"prediction\"].cpu().numpy().squeeze()\n",
        "\n",
        "            # 예측 값 저장\n",
        "            predictions.append(prediction)\n",
        "\n",
        "    # 리스트를 배열로 변환하기 전에 모든 예측의 차원을 확인하고 맞추기\n",
        "    for idx, pred in enumerate(predictions):\n",
        "        if pred.ndim == 1:  # 마지막 배치의 경우 (200,) 형태로 되어 있음\n",
        "            predictions[idx] = np.expand_dims(pred, axis=0)  # 차원을 (1, 200)으로 확장\n",
        "\n",
        "    # 리스트를 배열로 변환\n",
        "    predictions = np.concatenate(predictions, axis=0)\n",
        "\n",
        "    # 예측 데이터의 일부를 선택해서 실제 데이터와 비교 (예를 들어, 첫 번째 10개 시퀀스만 사용)\n",
        "    selected_predictions = predictions[:10]  # 첫 번째 10개 시퀀스 선택\n",
        "    required_length = selected_predictions.shape[0] * selected_predictions.shape[1]  # 필요 데이터 길이 계산\n",
        "\n",
        "    # 실제 데이터도 필요한 길이만큼 선택\n",
        "    actual_data = remaining_data.iloc[:required_length]\n",
        "    actuals = actual_data[\"feed_pressure\"].values.reshape(selected_predictions.shape[0], selected_predictions.shape[1])\n",
        "\n",
        "    # 선택된 실제 데이터와 예측 데이터의 형태 확인\n",
        "    print(f\"Shape of actuals: {actuals.shape}\")\n",
        "    print(f\"Shape of selected_predictions: {selected_predictions.shape}\")\n",
        "\n",
        "    # 평가 지표 계산\n",
        "    rmse = mean_squared_error(actuals, selected_predictions, squared=False)\n",
        "    mape = mean_absolute_percentage_error(actuals, selected_predictions) * 100\n",
        "    r2 = r2_score(actuals, selected_predictions)\n",
        "\n",
        "    # 평가 지표 출력\n",
        "    print(f\"RMSE: {rmse}\")\n",
        "    print(f\"MAPE: {mape}%\")\n",
        "    print(f\"R²: {r2}\")\n",
        "\n",
        "    import matplotlib.pyplot as plt\n",
        "\n",
        "    # 예측과 실제 값을 비교하는 그래프 생성\n",
        "    plt.figure(figsize=(15, 6))\n",
        "\n",
        "    # 선택된 예측 값과 실제 값 중 첫 번째 시퀀스(시각적으로 잘 보이기 위해 첫 시퀀스만 표시)\n",
        "    time_axis = range(len(selected_predictions[0]))\n",
        "\n",
        "    plt.plot(time_axis, actuals[0], label=\"Actual Feed Pressure\", color=\"blue\", linewidth=1.5)\n",
        "    plt.plot(time_axis, selected_predictions[0], label=\"Predicted Feed Pressure\", color=\"orange\", linewidth=1.5, linestyle=\"--\")\n",
        "\n",
        "    plt.xlabel(\"Time Step\")\n",
        "    plt.ylabel(\"Feed Pressure\")\n",
        "    plt.title(\"Feed Pressure Prediction vs Actual (First Sequence)\")\n",
        "    plt.legend()\n",
        "    plt.grid(True)\n",
        "    plt.show()"
      ],
      "metadata": {
        "id": "uTiVcP2tRuFQ",
        "outputId": "72e9055b-6324-46b3-870b-15ba0236f6d7",
        "colab": {
          "base_uri": "https://localhost:8080/",
          "height": 1000
        }
      },
      "execution_count": null,
      "outputs": [
        {
          "output_type": "stream",
          "name": "stdout",
          "text": [
            "Initial Data:\n",
            "               Time  feed_pressure                time  time_idx  \\\n",
            "0  2024/10/07 16:40       9.050625 2024-10-07 16:40:00         0   \n",
            "1  2024/10/07 16:50       9.050625 2024-10-07 16:50:00         1   \n",
            "2  2024/10/07 17:00       9.074375 2024-10-07 17:00:00         2   \n",
            "3  2024/10/07 17:10       9.086250 2024-10-07 17:10:00         3   \n",
            "4  2024/10/07 17:20       9.104250 2024-10-07 17:20:00         4   \n",
            "\n",
            "           group  \n",
            "0  feed_pressure  \n",
            "1  feed_pressure  \n",
            "2  feed_pressure  \n",
            "3  feed_pressure  \n",
            "4  feed_pressure  \n",
            "Initial data length: 223 rows\n",
            "Adjusted max_encoder_length: 213\n",
            "Adjusted max_prediction_length: 1\n",
            "TimeSeriesDataSet 생성 성공\n",
            "Shape of actuals: (1, 10)\n",
            "Shape of selected_predictions: (1, 10)\n",
            "RMSE: 3.5841367401123043\n",
            "MAPE: 35.786817334740654%\n",
            "R²: nan\n"
          ]
        },
        {
          "output_type": "stream",
          "name": "stderr",
          "text": [
            "/usr/local/lib/python3.10/dist-packages/sklearn/metrics/_regression.py:492: FutureWarning: 'squared' is deprecated in version 1.4 and will be removed in 1.6. To calculate the root mean squared error, use the function'root_mean_squared_error'.\n",
            "  warnings.warn(\n",
            "/usr/local/lib/python3.10/dist-packages/sklearn/metrics/_regression.py:1211: UndefinedMetricWarning: R^2 score is not well-defined with less than two samples.\n",
            "  warnings.warn(msg, UndefinedMetricWarning)\n"
          ]
        },
        {
          "output_type": "display_data",
          "data": {
            "text/plain": [
              "<Figure size 1500x600 with 1 Axes>"
            ],
            "image/png": "[encoded data removed]"
          },
          "metadata": {}
        }
      ]
    },
    {
      "cell_type": "markdown",
      "source": [],
      "metadata": {
        "id": "nXqMSTYXRAge"
      }
    }
  ],
  "metadata": {
    "accelerator": "GPU",
    "colab": {
      "gpuType": "T4",
      "provenance": [],
      "machine_shape": "hm",
      "include_colab_link": true
    },
    "kernelspec": {
      "display_name": "Python 3",
      "name": "python3"
    },
    "language_info": {
      "name": "python"
    }
  },
  "nbformat": 4,
  "nbformat_minor": 0
}