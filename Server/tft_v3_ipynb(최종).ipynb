{
 "cells": [
  {
   "cell_type": "code",
   "execution_count": null,
   "metadata": {
    "colab": {
     "base_uri": "https://localhost:8080/"
    },
    "id": "VhxP89ea3bQL",
    "outputId": "a891e02b-aaa6-41d3-87af-60ef1a0a63a4"
   },
   "outputs": [
    {
     "name": "stdout",
     "output_type": "stream",
     "text": [
      "Mounted at /content/drive\n"
     ]
    }
   ],
   "source": [
    "import os\n",
    "os.environ[\"PYTORCH_CUDA_ALLOC_CONF\"] = \"expandable_segments:True\"\n",
    "\n",
    "from google.colab import drive\n",
    "drive.mount('/content/drive')"
   ]
  },
  {
   "cell_type": "code",
   "execution_count": 39,
   "metadata": {
    "colab": {
     "base_uri": "https://localhost:8080/"
    },
    "id": "omi9OFrpadIz",
    "outputId": "f7a88c32-f5a3-440d-a310-da19a08493d1"
   },
   "outputs": [
    {
     "name": "stdout",
     "output_type": "stream",
     "text": [
      "Requirement already satisfied: fastapi in /usr/local/lib/python3.10/dist-packages (0.115.6)\n",
      "Requirement already satisfied: starlette<0.42.0,>=0.40.0 in /usr/local/lib/python3.10/dist-packages (from fastapi) (0.41.3)\n",
      "Requirement already satisfied: pydantic!=1.8,!=1.8.1,!=2.0.0,!=2.0.1,!=2.1.0,<3.0.0,>=1.7.4 in /usr/local/lib/python3.10/dist-packages (from fastapi) (2.10.3)\n",
      "Requirement already satisfied: typing-extensions>=4.8.0 in /usr/local/lib/python3.10/dist-packages (from fastapi) (4.12.2)\n",
      "Requirement already satisfied: annotated-types>=0.6.0 in /usr/local/lib/python3.10/dist-packages (from pydantic!=1.8,!=1.8.1,!=2.0.0,!=2.0.1,!=2.1.0,<3.0.0,>=1.7.4->fastapi) (0.7.0)\n",
      "Requirement already satisfied: pydantic-core==2.27.1 in /usr/local/lib/python3.10/dist-packages (from pydantic!=1.8,!=1.8.1,!=2.0.0,!=2.0.1,!=2.1.0,<3.0.0,>=1.7.4->fastapi) (2.27.1)\n",
      "Requirement already satisfied: anyio<5,>=3.4.0 in /usr/local/lib/python3.10/dist-packages (from starlette<0.42.0,>=0.40.0->fastapi) (3.7.1)\n",
      "Requirement already satisfied: idna>=2.8 in /usr/local/lib/python3.10/dist-packages (from anyio<5,>=3.4.0->starlette<0.42.0,>=0.40.0->fastapi) (3.10)\n",
      "Requirement already satisfied: sniffio>=1.1 in /usr/local/lib/python3.10/dist-packages (from anyio<5,>=3.4.0->starlette<0.42.0,>=0.40.0->fastapi) (1.3.1)\n",
      "Requirement already satisfied: exceptiongroup in /usr/local/lib/python3.10/dist-packages (from anyio<5,>=3.4.0->starlette<0.42.0,>=0.40.0->fastapi) (1.2.2)\n",
      "Requirement already satisfied: uvicorn in /usr/local/lib/python3.10/dist-packages (0.32.1)\n",
      "Requirement already satisfied: click>=7.0 in /usr/local/lib/python3.10/dist-packages (from uvicorn) (8.1.7)\n",
      "Requirement already satisfied: h11>=0.8 in /usr/local/lib/python3.10/dist-packages (from uvicorn) (0.14.0)\n",
      "Requirement already satisfied: typing-extensions>=4.0 in /usr/local/lib/python3.10/dist-packages (from uvicorn) (4.12.2)\n",
      "Requirement already satisfied: nest_asyncio in /usr/local/lib/python3.10/dist-packages (1.6.0)\n",
      "Collecting python-multipart\n",
      "  Downloading python_multipart-0.0.19-py3-none-any.whl.metadata (1.8 kB)\n",
      "Downloading python_multipart-0.0.19-py3-none-any.whl (24 kB)\n",
      "Installing collected packages: python-multipart\n",
      "Successfully installed python-multipart-0.0.19\n"
     ]
    }
   ],
   "source": [
    "!pip install fastapi\n",
    "!pip install uvicorn\n",
    "!pip install nest_asyncio\n",
    "!pip install python-multipart\n",
    "import nest_asyncio\n",
    "nest_asyncio.apply()"
   ]
  },
  {
   "cell_type": "code",
   "execution_count": null,
   "metadata": {
    "colab": {
     "base_uri": "https://localhost:8080/"
    },
    "id": "MNunrCgbIak0",
    "outputId": "5c05e125-9e9b-4f5e-e0d2-aa646174b375"
   },
   "outputs": [
    {
     "name": "stdout",
     "output_type": "stream",
     "text": [
      "Collecting flask-ngrok\n",
      "  Downloading flask_ngrok-0.0.25-py3-none-any.whl.metadata (1.8 kB)\n",
      "Requirement already satisfied: Flask>=0.8 in /usr/local/lib/python3.10/dist-packages (from flask-ngrok) (3.0.3)\n",
      "Requirement already satisfied: requests in /usr/local/lib/python3.10/dist-packages (from flask-ngrok) (2.32.3)\n",
      "Requirement already satisfied: Werkzeug>=3.0.0 in /usr/local/lib/python3.10/dist-packages (from Flask>=0.8->flask-ngrok) (3.1.3)\n",
      "Requirement already satisfied: Jinja2>=3.1.2 in /usr/local/lib/python3.10/dist-packages (from Flask>=0.8->flask-ngrok) (3.1.4)\n",
      "Requirement already satisfied: itsdangerous>=2.1.2 in /usr/local/lib/python3.10/dist-packages (from Flask>=0.8->flask-ngrok) (2.2.0)\n",
      "Requirement already satisfied: click>=8.1.3 in /usr/local/lib/python3.10/dist-packages (from Flask>=0.8->flask-ngrok) (8.1.7)\n",
      "Requirement already satisfied: blinker>=1.6.2 in /usr/local/lib/python3.10/dist-packages (from Flask>=0.8->flask-ngrok) (1.9.0)\n",
      "Requirement already satisfied: charset-normalizer<4,>=2 in /usr/local/lib/python3.10/dist-packages (from requests->flask-ngrok) (3.4.0)\n",
      "Requirement already satisfied: idna<4,>=2.5 in /usr/local/lib/python3.10/dist-packages (from requests->flask-ngrok) (3.10)\n",
      "Requirement already satisfied: urllib3<3,>=1.21.1 in /usr/local/lib/python3.10/dist-packages (from requests->flask-ngrok) (2.2.3)\n",
      "Requirement already satisfied: certifi>=2017.4.17 in /usr/local/lib/python3.10/dist-packages (from requests->flask-ngrok) (2024.8.30)\n",
      "Requirement already satisfied: MarkupSafe>=2.0 in /usr/local/lib/python3.10/dist-packages (from Jinja2>=3.1.2->Flask>=0.8->flask-ngrok) (3.0.2)\n",
      "Downloading flask_ngrok-0.0.25-py3-none-any.whl (3.1 kB)\n",
      "Installing collected packages: flask-ngrok\n",
      "Successfully installed flask-ngrok-0.0.25\n"
     ]
    }
   ],
   "source": [
    "!pip install flask-ngrok"
   ]
  },
  {
   "cell_type": "code",
   "execution_count": null,
   "metadata": {
    "colab": {
     "base_uri": "https://localhost:8080/"
    },
    "id": "uWXgUYD5cFHh",
    "outputId": "6bbe5cda-6716-4261-eeee-d93b61c3e750"
   },
   "outputs": [
    {
     "name": "stdout",
     "output_type": "stream",
     "text": [
      "Collecting pytorch-forecasting\n",
      "  Downloading pytorch_forecasting-1.2.0-py3-none-any.whl.metadata (13 kB)\n",
      "Requirement already satisfied: numpy<=3.0.0 in /usr/local/lib/python3.10/dist-packages (from pytorch-forecasting) (1.26.4)\n",
      "Requirement already satisfied: torch!=2.0.1,<3.0.0,>=2.0.0 in /usr/local/lib/python3.10/dist-packages (from pytorch-forecasting) (2.5.1+cu121)\n",
      "Collecting lightning<3.0.0,>=2.0.0 (from pytorch-forecasting)\n",
      "  Downloading lightning-2.4.0-py3-none-any.whl.metadata (38 kB)\n",
      "Requirement already satisfied: scipy<2.0,>=1.8 in /usr/local/lib/python3.10/dist-packages (from pytorch-forecasting) (1.13.1)\n",
      "Requirement already satisfied: pandas<3.0.0,>=1.3.0 in /usr/local/lib/python3.10/dist-packages (from pytorch-forecasting) (2.2.2)\n",
      "Requirement already satisfied: scikit-learn<2.0,>=1.2 in /usr/local/lib/python3.10/dist-packages (from pytorch-forecasting) (1.5.2)\n",
      "Requirement already satisfied: PyYAML<8.0,>=5.4 in /usr/local/lib/python3.10/dist-packages (from lightning<3.0.0,>=2.0.0->pytorch-forecasting) (6.0.2)\n",
      "Requirement already satisfied: fsspec<2026.0,>=2022.5.0 in /usr/local/lib/python3.10/dist-packages (from fsspec[http]<2026.0,>=2022.5.0->lightning<3.0.0,>=2.0.0->pytorch-forecasting) (2024.10.0)\n",
      "Collecting lightning-utilities<2.0,>=0.10.0 (from lightning<3.0.0,>=2.0.0->pytorch-forecasting)\n",
      "  Downloading lightning_utilities-0.11.9-py3-none-any.whl.metadata (5.2 kB)\n",
      "Requirement already satisfied: packaging<25.0,>=20.0 in /usr/local/lib/python3.10/dist-packages (from lightning<3.0.0,>=2.0.0->pytorch-forecasting) (24.2)\n",
      "Collecting torchmetrics<3.0,>=0.7.0 (from lightning<3.0.0,>=2.0.0->pytorch-forecasting)\n",
      "  Downloading torchmetrics-1.6.0-py3-none-any.whl.metadata (20 kB)\n",
      "Requirement already satisfied: tqdm<6.0,>=4.57.0 in /usr/local/lib/python3.10/dist-packages (from lightning<3.0.0,>=2.0.0->pytorch-forecasting) (4.66.6)\n",
      "Requirement already satisfied: typing-extensions<6.0,>=4.4.0 in /usr/local/lib/python3.10/dist-packages (from lightning<3.0.0,>=2.0.0->pytorch-forecasting) (4.12.2)\n",
      "Collecting pytorch-lightning (from lightning<3.0.0,>=2.0.0->pytorch-forecasting)\n",
      "  Downloading pytorch_lightning-2.4.0-py3-none-any.whl.metadata (21 kB)\n",
      "Requirement already satisfied: python-dateutil>=2.8.2 in /usr/local/lib/python3.10/dist-packages (from pandas<3.0.0,>=1.3.0->pytorch-forecasting) (2.8.2)\n",
      "Requirement already satisfied: pytz>=2020.1 in /usr/local/lib/python3.10/dist-packages (from pandas<3.0.0,>=1.3.0->pytorch-forecasting) (2024.2)\n",
      "Requirement already satisfied: tzdata>=2022.7 in /usr/local/lib/python3.10/dist-packages (from pandas<3.0.0,>=1.3.0->pytorch-forecasting) (2024.2)\n",
      "Requirement already satisfied: joblib>=1.2.0 in /usr/local/lib/python3.10/dist-packages (from scikit-learn<2.0,>=1.2->pytorch-forecasting) (1.4.2)\n",
      "Requirement already satisfied: threadpoolctl>=3.1.0 in /usr/local/lib/python3.10/dist-packages (from scikit-learn<2.0,>=1.2->pytorch-forecasting) (3.5.0)\n",
      "Requirement already satisfied: filelock in /usr/local/lib/python3.10/dist-packages (from torch!=2.0.1,<3.0.0,>=2.0.0->pytorch-forecasting) (3.16.1)\n",
      "Requirement already satisfied: networkx in /usr/local/lib/python3.10/dist-packages (from torch!=2.0.1,<3.0.0,>=2.0.0->pytorch-forecasting) (3.4.2)\n",
      "Requirement already satisfied: jinja2 in /usr/local/lib/python3.10/dist-packages (from torch!=2.0.1,<3.0.0,>=2.0.0->pytorch-forecasting) (3.1.4)\n",
      "Requirement already satisfied: sympy==1.13.1 in /usr/local/lib/python3.10/dist-packages (from torch!=2.0.1,<3.0.0,>=2.0.0->pytorch-forecasting) (1.13.1)\n",
      "Requirement already satisfied: mpmath<1.4,>=1.1.0 in /usr/local/lib/python3.10/dist-packages (from sympy==1.13.1->torch!=2.0.1,<3.0.0,>=2.0.0->pytorch-forecasting) (1.3.0)\n",
      "Requirement already satisfied: aiohttp!=4.0.0a0,!=4.0.0a1 in /usr/local/lib/python3.10/dist-packages (from fsspec[http]<2026.0,>=2022.5.0->lightning<3.0.0,>=2.0.0->pytorch-forecasting) (3.11.9)\n",
      "Requirement already satisfied: setuptools in /usr/local/lib/python3.10/dist-packages (from lightning-utilities<2.0,>=0.10.0->lightning<3.0.0,>=2.0.0->pytorch-forecasting) (75.1.0)\n",
      "Requirement already satisfied: six>=1.5 in /usr/local/lib/python3.10/dist-packages (from python-dateutil>=2.8.2->pandas<3.0.0,>=1.3.0->pytorch-forecasting) (1.16.0)\n",
      "Requirement already satisfied: MarkupSafe>=2.0 in /usr/local/lib/python3.10/dist-packages (from jinja2->torch!=2.0.1,<3.0.0,>=2.0.0->pytorch-forecasting) (3.0.2)\n",
      "Requirement already satisfied: aiohappyeyeballs>=2.3.0 in /usr/local/lib/python3.10/dist-packages (from aiohttp!=4.0.0a0,!=4.0.0a1->fsspec[http]<2026.0,>=2022.5.0->lightning<3.0.0,>=2.0.0->pytorch-forecasting) (2.4.4)\n",
      "Requirement already satisfied: aiosignal>=1.1.2 in /usr/local/lib/python3.10/dist-packages (from aiohttp!=4.0.0a0,!=4.0.0a1->fsspec[http]<2026.0,>=2022.5.0->lightning<3.0.0,>=2.0.0->pytorch-forecasting) (1.3.1)\n",
      "Requirement already satisfied: async-timeout<6.0,>=4.0 in /usr/local/lib/python3.10/dist-packages (from aiohttp!=4.0.0a0,!=4.0.0a1->fsspec[http]<2026.0,>=2022.5.0->lightning<3.0.0,>=2.0.0->pytorch-forecasting) (4.0.3)\n",
      "Requirement already satisfied: attrs>=17.3.0 in /usr/local/lib/python3.10/dist-packages (from aiohttp!=4.0.0a0,!=4.0.0a1->fsspec[http]<2026.0,>=2022.5.0->lightning<3.0.0,>=2.0.0->pytorch-forecasting) (24.2.0)\n",
      "Requirement already satisfied: frozenlist>=1.1.1 in /usr/local/lib/python3.10/dist-packages (from aiohttp!=4.0.0a0,!=4.0.0a1->fsspec[http]<2026.0,>=2022.5.0->lightning<3.0.0,>=2.0.0->pytorch-forecasting) (1.5.0)\n",
      "Requirement already satisfied: multidict<7.0,>=4.5 in /usr/local/lib/python3.10/dist-packages (from aiohttp!=4.0.0a0,!=4.0.0a1->fsspec[http]<2026.0,>=2022.5.0->lightning<3.0.0,>=2.0.0->pytorch-forecasting) (6.1.0)\n",
      "Requirement already satisfied: propcache>=0.2.0 in /usr/local/lib/python3.10/dist-packages (from aiohttp!=4.0.0a0,!=4.0.0a1->fsspec[http]<2026.0,>=2022.5.0->lightning<3.0.0,>=2.0.0->pytorch-forecasting) (0.2.1)\n",
      "Requirement already satisfied: yarl<2.0,>=1.17.0 in /usr/local/lib/python3.10/dist-packages (from aiohttp!=4.0.0a0,!=4.0.0a1->fsspec[http]<2026.0,>=2022.5.0->lightning<3.0.0,>=2.0.0->pytorch-forecasting) (1.18.3)\n",
      "Requirement already satisfied: idna>=2.0 in /usr/local/lib/python3.10/dist-packages (from yarl<2.0,>=1.17.0->aiohttp!=4.0.0a0,!=4.0.0a1->fsspec[http]<2026.0,>=2022.5.0->lightning<3.0.0,>=2.0.0->pytorch-forecasting) (3.10)\n",
      "Downloading pytorch_forecasting-1.2.0-py3-none-any.whl (181 kB)\n",
      "\u001b[2K   \u001b[90m━━━━━━━━━━━━━━━━━━━━━━━━━━━━━━━━━━━━━━━━\u001b[0m \u001b[32m181.9/181.9 kB\u001b[0m \u001b[31m14.6 MB/s\u001b[0m eta \u001b[36m0:00:00\u001b[0m\n",
      "\u001b[?25hDownloading lightning-2.4.0-py3-none-any.whl (810 kB)\n",
      "\u001b[2K   \u001b[90m━━━━━━━━━━━━━━━━━━━━━━━━━━━━━━━━━━━━━━━━\u001b[0m \u001b[32m811.0/811.0 kB\u001b[0m \u001b[31m51.6 MB/s\u001b[0m eta \u001b[36m0:00:00\u001b[0m\n",
      "\u001b[?25hDownloading lightning_utilities-0.11.9-py3-none-any.whl (28 kB)\n",
      "Downloading torchmetrics-1.6.0-py3-none-any.whl (926 kB)\n",
      "\u001b[2K   \u001b[90m━━━━━━━━━━━━━━━━━━━━━━━━━━━━━━━━━━━━━━━━\u001b[0m \u001b[32m926.4/926.4 kB\u001b[0m \u001b[31m60.9 MB/s\u001b[0m eta \u001b[36m0:00:00\u001b[0m\n",
      "\u001b[?25hDownloading pytorch_lightning-2.4.0-py3-none-any.whl (815 kB)\n",
      "\u001b[2K   \u001b[90m━━━━━━━━━━━━━━━━━━━━━━━━━━━━━━━━━━━━━━━━\u001b[0m \u001b[32m815.2/815.2 kB\u001b[0m \u001b[31m54.5 MB/s\u001b[0m eta \u001b[36m0:00:00\u001b[0m\n",
      "\u001b[?25hInstalling collected packages: lightning-utilities, torchmetrics, pytorch-lightning, lightning, pytorch-forecasting\n",
      "Successfully installed lightning-2.4.0 lightning-utilities-0.11.9 pytorch-forecasting-1.2.0 pytorch-lightning-2.4.0 torchmetrics-1.6.0\n"
     ]
    }
   ],
   "source": [
    "!pip install pytorch-forecasting"
   ]
  },
  {
   "cell_type": "code",
   "execution_count": null,
   "metadata": {
    "colab": {
     "base_uri": "https://localhost:8080/"
    },
    "id": "8n4CNMEXBC2s",
    "outputId": "33797698-aa45-4822-821d-8b76a3121025"
   },
   "outputs": [
    {
     "name": "stdout",
     "output_type": "stream",
     "text": [
      "Collecting optuna\n",
      "  Downloading optuna-4.1.0-py3-none-any.whl.metadata (16 kB)\n",
      "Collecting alembic>=1.5.0 (from optuna)\n",
      "  Downloading alembic-1.14.0-py3-none-any.whl.metadata (7.4 kB)\n",
      "Collecting colorlog (from optuna)\n",
      "  Downloading colorlog-6.9.0-py3-none-any.whl.metadata (10 kB)\n",
      "Requirement already satisfied: numpy in /usr/local/lib/python3.10/dist-packages (from optuna) (1.26.4)\n",
      "Requirement already satisfied: packaging>=20.0 in /usr/local/lib/python3.10/dist-packages (from optuna) (24.2)\n",
      "Requirement already satisfied: sqlalchemy>=1.4.2 in /usr/local/lib/python3.10/dist-packages (from optuna) (2.0.36)\n",
      "Requirement already satisfied: tqdm in /usr/local/lib/python3.10/dist-packages (from optuna) (4.66.6)\n",
      "Requirement already satisfied: PyYAML in /usr/local/lib/python3.10/dist-packages (from optuna) (6.0.2)\n",
      "Collecting Mako (from alembic>=1.5.0->optuna)\n",
      "  Downloading Mako-1.3.8-py3-none-any.whl.metadata (2.9 kB)\n",
      "Requirement already satisfied: typing-extensions>=4 in /usr/local/lib/python3.10/dist-packages (from alembic>=1.5.0->optuna) (4.12.2)\n",
      "Requirement already satisfied: greenlet!=0.4.17 in /usr/local/lib/python3.10/dist-packages (from sqlalchemy>=1.4.2->optuna) (3.1.1)\n",
      "Requirement already satisfied: MarkupSafe>=0.9.2 in /usr/local/lib/python3.10/dist-packages (from Mako->alembic>=1.5.0->optuna) (3.0.2)\n",
      "Downloading optuna-4.1.0-py3-none-any.whl (364 kB)\n",
      "\u001b[2K   \u001b[90m━━━━━━━━━━━━━━━━━━━━━━━━━━━━━━━━━━━━━━━━\u001b[0m \u001b[32m364.4/364.4 kB\u001b[0m \u001b[31m25.4 MB/s\u001b[0m eta \u001b[36m0:00:00\u001b[0m\n",
      "\u001b[?25hDownloading alembic-1.14.0-py3-none-any.whl (233 kB)\n",
      "\u001b[2K   \u001b[90m━━━━━━━━━━━━━━━━━━━━━━━━━━━━━━━━━━━━━━━━\u001b[0m \u001b[32m233.5/233.5 kB\u001b[0m \u001b[31m15.2 MB/s\u001b[0m eta \u001b[36m0:00:00\u001b[0m\n",
      "\u001b[?25hDownloading colorlog-6.9.0-py3-none-any.whl (11 kB)\n",
      "Downloading Mako-1.3.8-py3-none-any.whl (78 kB)\n",
      "\u001b[2K   \u001b[90m━━━━━━━━━━━━━━━━━━━━━━━━━━━━━━━━━━━━━━━━\u001b[0m \u001b[32m78.6/78.6 kB\u001b[0m \u001b[31m7.6 MB/s\u001b[0m eta \u001b[36m0:00:00\u001b[0m\n",
      "\u001b[?25hInstalling collected packages: Mako, colorlog, alembic, optuna\n",
      "Successfully installed Mako-1.3.8 alembic-1.14.0 colorlog-6.9.0 optuna-4.1.0\n"
     ]
    }
   ],
   "source": [
    "!pip install optuna"
   ]
  },
  {
   "cell_type": "code",
   "execution_count": null,
   "metadata": {
    "id": "gD_kZCPKLQFG"
   },
   "outputs": [],
   "source": [
    "%load_ext tensorboard"
   ]
  },
  {
   "cell_type": "code",
   "execution_count": null,
   "metadata": {
    "id": "WR3rTVtlOj_1"
   },
   "outputs": [],
   "source": [
    "import os\n",
    "import torch\n",
    "import shutil\n",
    "import pandas as pd\n",
    "import numpy as np\n",
    "import optuna\n",
    "import matplotlib.pyplot as plt\n",
    "import pytorch_lightning as pl\n",
    "\n",
    "from sklearn.preprocessing import MinMaxScaler\n",
    "from pytorch_lightning import Trainer\n",
    "from pytorch_lightning.callbacks import ModelCheckpoint, EarlyStopping\n",
    "from pytorch_lightning.loggers import TensorBoardLogger\n",
    "from pytorch_forecasting import TimeSeriesDataSet, TemporalFusionTransformer\n",
    "from pytorch_forecasting.data import GroupNormalizer\n",
    "from pytorch_forecasting.metrics import RMSE\n",
    "from torchmetrics import MeanAbsoluteError"
   ]
  },
  {
   "cell_type": "code",
   "execution_count": null,
   "metadata": {
    "colab": {
     "base_uri": "https://localhost:8080/"
    },
    "id": "u-7sKng4JqmA",
    "outputId": "02e646c7-815c-421f-e064-295f942d2398"
   },
   "outputs": [
    {
     "name": "stdout",
     "output_type": "stream",
     "text": [
      "Max encoder length: 5594 entries\n",
      "Max prediction length: 1 entries\n"
     ]
    }
   ],
   "source": [
    "# 데이터 경로 설정\n",
    "data_path = \"/content/drive/MyDrive/종설프1_5팀/전처리.ipynb/final_preprocessed_format.csv\"\n",
    "\n",
    "# 데이터 로드\n",
    "df_total = pd.read_csv(data_path)\n",
    "\n",
    "# 스케일링\n",
    "scaler = MinMaxScaler()\n",
    "df_total['feed_pressure'] = scaler.fit_transform(df_total[['feed_pressure']])\n",
    "\n",
    "# 시간 인덱스 추가 (필요하다면 데이터셋에 이미 포함되어 있는 time_idx 확인)\n",
    "if 'time_idx' not in df_total.columns:\n",
    "    df_total['time_idx'] = range(len(df_total))\n",
    "\n",
    "# 그룹 ID 설정 (단일 시계열일 경우 고정값 사용)\n",
    "if 'group' not in df_total.columns:\n",
    "    df_total[\"group\"] = \"series\"\n",
    "\n",
    "# max_encoder_length와 max_prediction_length 설정\n",
    "total_data_length = len(df_total)\n",
    "max_encoder_length = max(10, total_data_length // 10)\n",
    "max_prediction_length = 1\n",
    "\n",
    "print(f\"Max encoder length: {max_encoder_length} entries\")\n",
    "print(f\"Max prediction length: {max_prediction_length} entries\")"
   ]
  },
  {
   "cell_type": "markdown",
   "metadata": {
    "id": "mkCDU7vhiD-K"
   },
   "source": [
    "### TimeSeriesDataSet 생성\n",
    "TimeSeriesDataSet을 사용해 데이터를 생성합니다. 여기에는 타겟, 그룹화 방식, 그리고 변동하는 시계열 컬럼을 정의합니다.\n"
   ]
  },
  {
   "cell_type": "code",
   "execution_count": null,
   "metadata": {
    "id": "YSLYd_SoJKJp"
   },
   "outputs": [],
   "source": [
    "# 학습 및 검증 데이터 분할 (80% 학습, 20% 검증)\n",
    "train_size = int(total_data_length * 0.8)\n",
    "df_train = df_total.iloc[:train_size]\n",
    "df_val = df_total.iloc[train_size:]\n",
    "\n",
    "# TimeSeriesDataSet 설정\n",
    "training = TimeSeriesDataSet(\n",
    "    df_train,  # 학습 데이터만 사용\n",
    "    time_idx=\"time_idx\",\n",
    "    target=\"feed_pressure\",  # 타겟 변수\n",
    "    group_ids=[\"group\"],  # 그룹화\n",
    "    max_encoder_length=max_encoder_length,\n",
    "    max_prediction_length=max_prediction_length,\n",
    "    static_categoricals=[],\n",
    "    time_varying_known_reals=[\"time_idx\"],  # 시간 관련 변수\n",
    "    time_varying_unknown_reals=[\"feed_pressure\"],  # 예측 대상 변수\n",
    "    target_normalizer=GroupNormalizer(transformation=\"relu\")  # 정규화\n",
    ")\n",
    "\n",
    "# 검증 데이터셋 생성\n",
    "validation = TimeSeriesDataSet.from_dataset(training, df_val)"
   ]
  },
  {
   "cell_type": "markdown",
   "metadata": {
    "id": "eTwKJzZniNw3"
   },
   "source": [
    "### DataLoader 생성\n",
    "DataLoader를 생성하여 모델이 데이터를 학습할 수 있도록 준비합니다."
   ]
  },
  {
   "cell_type": "markdown",
   "metadata": {
    "id": "V0RI59DsiOSK"
   },
   "source": [
    "### Temporal Fusion Transformer 모델 생성\n",
    "Temporal Fusion Transformer 모델을 생성하여 데이터셋을 학습할 준비를 합니다."
   ]
  },
  {
   "cell_type": "markdown",
   "metadata": {
    "id": "OutkHVMSifBw"
   },
   "source": [
    "### LightningModule 정의 및 Trainer 설정\n",
    "PyTorch Lightning을 이용하여 모델 학습을 보다 쉽게 관리할 수 있도록 합니다.\n"
   ]
  },
  {
   "cell_type": "code",
   "execution_count": null,
   "metadata": {
    "colab": {
     "base_uri": "https://localhost:8080/"
    },
    "id": "ek0Qmn5i0A7Q",
    "outputId": "e59abaef-82a9-4206-bc28-7fa1d3c2c4c8"
   },
   "outputs": [
    {
     "name": "stderr",
     "output_type": "stream",
     "text": [
      "/usr/local/lib/python3.10/dist-packages/lightning/pytorch/utilities/parsing.py:208: Attribute 'loss' is an instance of `nn.Module` and is already saved during checkpointing. It is recommended to ignore them using `self.save_hyperparameters(ignore=['loss'])`.\n",
      "/usr/local/lib/python3.10/dist-packages/lightning/pytorch/utilities/parsing.py:208: Attribute 'logging_metrics' is an instance of `nn.Module` and is already saved during checkpointing. It is recommended to ignore them using `self.save_hyperparameters(ignore=['logging_metrics'])`.\n"
     ]
    }
   ],
   "source": [
    "# 데이터 로더 생성\n",
    "train_dataloader = training.to_dataloader(train=True, batch_size=32, num_workers=0)\n",
    "val_dataloader = validation.to_dataloader(train=False, batch_size=32, num_workers=0)\n",
    "\n",
    "from torchmetrics import MeanAbsoluteError\n",
    "\n",
    "# Define the loss function\n",
    "loss = MeanAbsoluteError()\n",
    "\n",
    "# Temporal Fusion Transformer 모델 생성\n",
    "tft = TemporalFusionTransformer.from_dataset(\n",
    "    training,\n",
    "    learning_rate=0.001,  # 학습률\n",
    "    hidden_size=16,  # 모델의 잠재 표현 크기\n",
    "    attention_head_size=1,  # 어텐션 헤드 개수 (패턴 포착)\n",
    "    dropout=0.1,  # 과적합 방지\n",
    "    hidden_continuous_size=16,  # 연속형 변수의 임베딩 크기\n",
    "    loss=loss,  # 손실 함수 (loss 변수 사용)\n",
    "    log_interval=10,  # 학습 로그 출력 빈도\n",
    "    reduce_on_plateau_patience=3,  # 손실이 개선되지 않을 시 학습률 줄이는 시점\n",
    "    optimizer=\"adam\"\n",
    ")"
   ]
  },
  {
   "cell_type": "code",
   "execution_count": null,
   "metadata": {
    "id": "uygmvlsjPtqJ"
   },
   "outputs": [],
   "source": [
    "# TFTWrapper 클래스 수정\n",
    "class TFTWrapper(pl.LightningModule):\n",
    "    def __init__(self, tft_model):\n",
    "        super().__init__()\n",
    "        self.tft_model = tft_model\n",
    "        self.train()  # 학습 모드로 설정\n",
    "\n",
    "    def forward(self, x):\n",
    "        # 모든 입력 데이터를 모델의 디바이스로 이동\n",
    "        device = torch.device('cuda' if torch.cuda.is_available() else 'cpu')\n",
    "        x = {key: value.to(device) if isinstance(value, torch.Tensor) else value for key, value in x.items()}\n",
    "\n",
    "        # 모델의 모든 파라미터를 디바이스로 이동\n",
    "        self.tft_model.to(device)\n",
    "\n",
    "        return self.tft_model(x)\n",
    "\n",
    "    def training_step(self, batch, batch_idx):\n",
    "        # 학습 모드로 전환\n",
    "        self.train()\n",
    "        x, y = batch\n",
    "\n",
    "        # 입력 데이터와 타겟을 모델의 디바이스로 이동\n",
    "        device = torch.device('cuda' if torch.cuda.is_available() else 'cpu')\n",
    "        x = {key: value.to(device) if isinstance(value, torch.Tensor) else value for key, value in x.items()}\n",
    "        y = y[0] if isinstance(y, tuple) else y\n",
    "        y = y.to(device)\n",
    "\n",
    "        # 예측 및 손실 계산\n",
    "        y_hat = self(x)[\"prediction\"]\n",
    "        loss = self.tft_model.loss(y_hat, y)\n",
    "        self.log(\"train_loss\", loss, prog_bar=True, logger=True)\n",
    "        return loss\n",
    "\n",
    "    def validation_step(self, batch, batch_idx):\n",
    "        x, y = batch\n",
    "\n",
    "        # 입력 데이터와 타겟을 모델의 디바이스로 이동\n",
    "        device = torch.device('cuda' if torch.cuda.is_available() else 'cpu')\n",
    "        x = {key: value.to(device) if isinstance(value, torch.Tensor) else value for key, value in x.items()}\n",
    "        y = y[0] if isinstance(y, tuple) else y\n",
    "        y = y.to(device)\n",
    "\n",
    "        # 예측 및 손실 계산\n",
    "        y_hat = self(x)[\"prediction\"]\n",
    "        loss = self.tft_model.loss(y_hat, y)\n",
    "        self.log(\"val_loss\", loss, prog_bar=True, logger=True)\n",
    "        return loss\n",
    "\n",
    "    def configure_optimizers(self):\n",
    "        optimizer = torch.optim.Adam(self.parameters(), lr=0.03)\n",
    "        lr_scheduler = {\n",
    "            'scheduler': torch.optim.lr_scheduler.ReduceLROnPlateau(optimizer, factor=0.5, patience=5),\n",
    "            'monitor': 'val_loss'\n",
    "        }\n",
    "        return [optimizer], [lr_scheduler]"
   ]
  },
  {
   "cell_type": "code",
   "execution_count": null,
   "metadata": {
    "id": "d8SdXV5rsIoO"
   },
   "outputs": [],
   "source": [
    "# Google Drive에 저장된 체크포인트 경로\n",
    "checkpoint_path = \"/content/drive/MyDrive/종설프1_5팀/checkpoints/tft-best.ckpt\"\n",
    "\n",
    "# 모델 학습 및 체크포인트 설정\n",
    "local_checkpoint_dir = \"/content/checkpoints/\"\n",
    "drive_checkpoint_dir = \"/content/drive/MyDrive/종설프1_5팀/checkpoints/\"\n",
    "os.makedirs(local_checkpoint_dir, exist_ok=True)\n",
    "os.makedirs(drive_checkpoint_dir, exist_ok=True)\n",
    "\n",
    "# 기존 체크폰트 파일 삭제 함수\n",
    "def delete_existing_checkpoints(checkpoint_dir):\n",
    "    if os.path.exists(checkpoint_dir):\n",
    "        for filename in os.listdir(checkpoint_dir):\n",
    "            file_path = os.path.join(checkpoint_dir, filename)\n",
    "            try:\n",
    "                if os.path.isfile(file_path):\n",
    "                    os.remove(file_path)\n",
    "                    print(f\"Deleted checkpoint file: {file_path}\")\n",
    "            except Exception as e:\n",
    "                print(f\"Failed to delete {file_path}: {e}\")\n",
    "\n",
    "\n",
    "# 가장 최근 체크포인트 찾기\n",
    "def get_latest_checkpoint(checkpoint_dir):\n",
    "    if os.path.exists(checkpoint_dir):\n",
    "        checkpoints = [os.path.join(checkpoint_dir, f) for f in os.listdir(checkpoint_dir) if f.endswith(\".ckpt\")]\n",
    "        if checkpoints:\n",
    "            return max(checkpoints, key=os.path.getctime)  # 가장 최근 파일 반환\n",
    "    return None"
   ]
  },
  {
   "cell_type": "markdown",
   "metadata": {
    "id": "-RhBa7kFHZu4"
   },
   "source": [
    "### Optuna 활용"
   ]
  },
  {
   "cell_type": "code",
   "execution_count": null,
   "metadata": {
    "id": "U63ORZoALpiA"
   },
   "outputs": [],
   "source": [
    "# Objective 함수 정의\n",
    "def objective(trial):\n",
    "    # 하이퍼파라미터 정의\n",
    "    hidden_size = trial.suggest_int(\"hidden_size\", 8, 64)\n",
    "    attention_head_size = trial.suggest_int(\"attention_head_size\", 1, 4)\n",
    "    dropout = trial.suggest_float(\"dropout\", 0.1, 0.5)\n",
    "    learning_rate = trial.suggest_float(\"learning_rate\", 1e-4, 1e-2, log=True)\n",
    "\n",
    "    # Temporal Fusion Transformer 모델 생성\n",
    "    tft = TemporalFusionTransformer.from_dataset(\n",
    "        training,\n",
    "        learning_rate=learning_rate,\n",
    "        hidden_size=hidden_size,\n",
    "        attention_head_size=attention_head_size,\n",
    "        dropout=dropout,\n",
    "        hidden_continuous_size=16,\n",
    "        loss=loss,\n",
    "        log_interval=10,\n",
    "        reduce_on_plateau_patience=3\n",
    "    )\n",
    "\n",
    "    # 모델을 명시적으로 GPU로 이동\n",
    "    device = torch.device('cuda' if torch.cuda.is_available() else 'cpu')\n",
    "    tft.to(device)\n",
    "    wrapped_tft = TFTWrapper(tft).to(device)\n",
    "\n",
    "    # 고유한 체크포인트 경로 생성\n",
    "    checkpoint_callback = ModelCheckpoint(\n",
    "        dirpath=f\"{local_checkpoint_dir}/trial_{trial.number}\",\n",
    "        filename=\"tft-{epoch:02d}-{val_loss:.2f}\",\n",
    "        monitor=\"val_loss\",\n",
    "        mode=\"min\",\n",
    "        save_top_k=1,\n",
    "        save_last=True\n",
    "    )\n",
    "\n",
    "    # EarlyStopping 설정\n",
    "    early_stop_callback = EarlyStopping(\n",
    "        monitor=\"val_loss\",\n",
    "        min_delta=1e-4,\n",
    "        patience=3,  # patience를 줄여 빠르게 중단\n",
    "        verbose=True,\n",
    "        mode=\"min\"\n",
    "    )\n",
    "\n",
    "    logger = TensorBoardLogger(\"lightning_logs\", name=f\"tft_trial_{trial.number}\")\n",
    "\n",
    "    trainer = Trainer(\n",
    "        max_epochs=10,  # 실행 시간을 고려한 적절한 에포크\n",
    "        accelerator=\"gpu\",\n",
    "        devices=1,\n",
    "        gradient_clip_val=0.3,\n",
    "        precision=32,\n",
    "        callbacks=[checkpoint_callback, early_stop_callback],\n",
    "        logger=logger\n",
    "    )\n",
    "\n",
    "    # 모델 학습\n",
    "    trainer.fit(\n",
    "        model=wrapped_tft,\n",
    "        train_dataloaders=train_dataloader,\n",
    "        val_dataloaders=val_dataloader\n",
    "    )\n",
    "\n",
    "    # 최종 검증 손실 반환\n",
    "    val_loss = trainer.callback_metrics.get(\"val_loss\", None)\n",
    "    if val_loss is None:\n",
    "        raise ValueError(\"Validation loss is not available.\")\n",
    "    return val_loss.item()\n",
    "\n",
    "# Optuna 스터디 생성 및 최적화 수행\n",
    "study = optuna.create_study(direction=\"minimize\")\n",
    "study.optimize(objective, n_trials=10)  # 10번의 시도\n",
    "\n",
    "# 최적의 하이퍼파라미터 출력\n",
    "print(\"Best parameters:\", study.best_params)\n",
    "print(\"Best validation loss:\", study.best_value)"
   ]
  },
  {
   "cell_type": "code",
   "execution_count": null,
   "metadata": {
    "id": "UuO05e9EycbB"
   },
   "outputs": [],
   "source": [
    "best_params = {\n",
    "    \"hidden_size\": 29,\n",
    "    \"attention_head_size\": 3,\n",
    "    \"dropout\": 0.34884270911702864,\n",
    "    \"learning_rate\": 0.0013095831847880091\n",
    "}"
   ]
  },
  {
   "cell_type": "markdown",
   "metadata": {
    "id": "IkpA1oDVkfn1"
   },
   "source": [
    "## 모델 학습"
   ]
  },
  {
   "cell_type": "markdown",
   "metadata": {
    "id": "Au7kynAoSbtA"
   },
   "source": [
    "<span style=\"color:red;\">주의: 체크포인트 삭제!</span>"
   ]
  },
  {
   "cell_type": "code",
   "execution_count": null,
   "metadata": {
    "colab": {
     "base_uri": "https://localhost:8080/"
    },
    "id": "YiF2wgsvyfLA",
    "outputId": "813a1c59-5677-48e6-b896-d050eec21d6d"
   },
   "outputs": [
    {
     "name": "stderr",
     "output_type": "stream",
     "text": [
      "INFO: GPU available: True (cuda), used: True\n",
      "INFO:lightning.pytorch.utilities.rank_zero:GPU available: True (cuda), used: True\n",
      "INFO: TPU available: False, using: 0 TPU cores\n",
      "INFO:lightning.pytorch.utilities.rank_zero:TPU available: False, using: 0 TPU cores\n",
      "INFO: HPU available: False, using: 0 HPUs\n",
      "INFO:lightning.pytorch.utilities.rank_zero:HPU available: False, using: 0 HPUs\n"
     ]
    }
   ],
   "source": [
    "# TFT 모델 생성 및 최적 하이퍼파라미터 반영\n",
    "tft = TemporalFusionTransformer.from_dataset(\n",
    "    training,\n",
    "    learning_rate=best_params[\"learning_rate\"],  # Optuna 최적화된 학습률\n",
    "    hidden_size=best_params[\"hidden_size\"],  # Optuna 최적화된 hidden_size\n",
    "    attention_head_size=best_params[\"attention_head_size\"],  # Optuna 최적화된 attention_head_size\n",
    "    dropout=best_params[\"dropout\"],  # Optuna 최적화된 dropout\n",
    "    hidden_continuous_size=16,  # 기본값 유지\n",
    "    loss=loss,\n",
    "    log_interval=10,\n",
    "    reduce_on_plateau_patience=3\n",
    ")\n",
    "\n",
    "# TFTWrapper로 감싸기 및 GPU로 이동\n",
    "tft.to('cuda')\n",
    "wrapped_tft = TFTWrapper(tft).to('cuda')\n",
    "\n",
    "# Checkpoint 콜백 설정\n",
    "checkpoint_callback = ModelCheckpoint(\n",
    "    dirpath=local_checkpoint_dir,\n",
    "    filename=\"tft-best\",\n",
    "    monitor=\"val_loss\",\n",
    "    mode=\"min\",\n",
    "    save_top_k=1,\n",
    "    save_last=True\n",
    ")\n",
    "\n",
    "# EarlyStopping 콜백\n",
    "early_stop_callback = EarlyStopping(\n",
    "    monitor=\"val_loss\",\n",
    "    min_delta=1e-4,\n",
    "    patience=10,\n",
    "    verbose=True,\n",
    "    mode=\"min\"\n",
    ")\n",
    "\n",
    "# Logger 설정\n",
    "logger = TensorBoardLogger(\"lightning_logs\", name=\"tft_final\")\n",
    "\n",
    "# Trainer 설정\n",
    "trainer = Trainer(\n",
    "    max_epochs=50,  # 최종 학습\n",
    "    accelerator=\"gpu\",\n",
    "    devices=1,\n",
    "    gradient_clip_val=0.3,\n",
    "    precision=32,\n",
    "    callbacks=[checkpoint_callback, early_stop_callback],\n",
    "    logger=logger\n",
    ")"
   ]
  },
  {
   "cell_type": "code",
   "execution_count": null,
   "metadata": {
    "colab": {
     "base_uri": "https://localhost:8080/",
     "height": 408,
     "referenced_widgets": [
      "26951b13c2bd4de7aa06324696b67e7c",
      "f2aba4c574584a998edb875fc3654781",
      "069c7553b30948eda37ce1ca16c2693b",
      "21161fd5ca9e4c53acc13bb591c14188",
      "98675f0205524129a50fe5c25e7abac4",
      "c420d184c2aa425bae5cceebe4b62569",
      "c7e1929af27647bfa59dcb04354f6e86",
      "e7f116b3740e4574a12642b54b4f4502",
      "f8d27187032e44aa852b0e1a73fa6a15",
      "afdcc30dfdf44957b2470c577e2f6959",
      "5602e4a184c343ec820bf127a7811b35",
      "3b943b0f226c40d099d37f62b7c041ed",
      "bf48a6ce35e0407b92d79cacba3085a4",
      "1be7c84577e94189bf5edd2380426e2b",
      "6d7d21a67dc7414086b9f387eb7998a9",
      "2e577966f32c469cbf8f7149f6b66d5d",
      "8adf7d005dc74be0bc2ae1ff27ddd693",
      "09bc99d38a7f4007a57b216320837c7e",
      "f7291a62de414f72b7cf3a53e9a9681d",
      "2c84a49e4b0f44fb91e3c50fc1bed1cf",
      "f3d1f28242fb4e7ca361eea71428a4f7",
      "ad240a78cc924e2cab868f1471cb082e"
     ]
    },
    "id": "MdnWJ6e_URt0",
    "outputId": "0b110345-544d-4629-b580-5114e3fbf44c"
   },
   "outputs": [
    {
     "name": "stdout",
     "output_type": "stream",
     "text": [
      "기존 체크포인트 파일을 삭제하시겠습니까? (y/n): y\n"
     ]
    },
    {
     "name": "stderr",
     "output_type": "stream",
     "text": [
      "INFO:pytorch_lightning.accelerators.cuda:LOCAL_RANK: 0 - CUDA_VISIBLE_DEVICES: [0]\n",
      "INFO:pytorch_lightning.callbacks.model_summary:\n",
      "  | Name      | Type                      | Params | Mode\n",
      "---------------------------------------------------------------\n",
      "0 | tft_model | TemporalFusionTransformer | 48.8 K | eval\n",
      "---------------------------------------------------------------\n",
      "48.8 K    Trainable params\n",
      "0         Non-trainable params\n",
      "48.8 K    Total params\n",
      "0.195     Total estimated model params size (MB)\n",
      "0         Modules in train mode\n",
      "176       Modules in eval mode\n"
     ]
    },
    {
     "name": "stdout",
     "output_type": "stream",
     "text": [
      "기존 체크포인트 파일을 삭제합니다.\n",
      "Deleted checkpoint file: /content/checkpoints/tft-best.ckpt\n",
      "Deleted checkpoint file: /content/checkpoints/last.ckpt\n",
      "Deleted checkpoint file: /content/drive/MyDrive/종설프1_5팀/checkpoints/tft-best.ckpt\n"
     ]
    },
    {
     "data": {
      "application/vnd.jupyter.widget-view+json": {
       "model_id": "26951b13c2bd4de7aa06324696b67e7c",
       "version_major": 2,
       "version_minor": 0
      },
      "text/plain": [
       "Sanity Checking: |          | 0/? [00:00<?, ?it/s]"
      ]
     },
     "metadata": {},
     "output_type": "display_data"
    },
    {
     "name": "stderr",
     "output_type": "stream",
     "text": [
      "/usr/local/lib/python3.10/dist-packages/pytorch_lightning/trainer/connectors/data_connector.py:424: The 'val_dataloader' does not have many workers which may be a bottleneck. Consider increasing the value of the `num_workers` argument` to `num_workers=7` in the `DataLoader` to improve performance.\n",
      "/usr/local/lib/python3.10/dist-packages/pytorch_lightning/trainer/connectors/data_connector.py:424: The 'train_dataloader' does not have many workers which may be a bottleneck. Consider increasing the value of the `num_workers` argument` to `num_workers=7` in the `DataLoader` to improve performance.\n"
     ]
    },
    {
     "data": {
      "application/vnd.jupyter.widget-view+json": {
       "model_id": "3b943b0f226c40d099d37f62b7c041ed",
       "version_major": 2,
       "version_minor": 0
      },
      "text/plain": [
       "Training: |          | 0/? [00:00<?, ?it/s]"
      ]
     },
     "metadata": {},
     "output_type": "display_data"
    }
   ],
   "source": [
    "# 기존 체크포인트에서 로드 여부 확인 및 학습 실행\n",
    "delete_checkpoints = input(\"기존 체크포인트 파일을 삭제하시겠습니까? (y/n): \").lower()\n",
    "\n",
    "if delete_checkpoints == 'y':\n",
    "    print(\"기존 체크포인트 파일을 삭제합니다.\")\n",
    "    delete_existing_checkpoints(local_checkpoint_dir)\n",
    "    delete_existing_checkpoints(drive_checkpoint_dir)\n",
    "\n",
    "    # 새 학습 시작\n",
    "    trainer.fit(\n",
    "        model=wrapped_tft,\n",
    "        train_dataloaders=train_dataloader,\n",
    "        val_dataloaders=val_dataloader\n",
    "    )\n",
    "\n",
    "else:\n",
    "    print(\"기존 체크포인트를 유지합니다.\")\n",
    "    latest_checkpoint = get_latest_checkpoint(local_checkpoint_dir)\n",
    "\n",
    "    if latest_checkpoint:\n",
    "        print(f\"기존 체크포인트에서 로드합니다: {latest_checkpoint}\")\n",
    "\n",
    "        # 체크포인트에서 모델 로드\n",
    "        loaded_tft = TemporalFusionTransformer.load_from_checkpoint(\n",
    "            latest_checkpoint,\n",
    "            map_location=torch.device('cuda')\n",
    "        )\n",
    "\n",
    "        # TFTWrapper로 래핑 및 GPU로 이동\n",
    "        wrapped_tft = TFTWrapper(tft_model=loaded_tft).to('cuda')\n",
    "\n",
    "        # 기존 체크포인트에서 로드한 모델로 학습 재개\n",
    "        trainer.fit(\n",
    "            model=wrapped_tft,\n",
    "            train_dataloaders=train_dataloader,\n",
    "            val_dataloaders=val_dataloader\n",
    "        )\n",
    "\n",
    "    else:\n",
    "        print(\"체크포인트가 없습니다. 새로 학습을 시작합니다.\")\n",
    "\n",
    "        # 새 학습 시작\n",
    "        trainer.fit(\n",
    "            model=wrapped_tft,\n",
    "            train_dataloaders=train_dataloader,\n",
    "            val_dataloaders=val_dataloader\n",
    "        )"
   ]
  },
  {
   "cell_type": "code",
   "execution_count": 20,
   "metadata": {
    "colab": {
     "base_uri": "https://localhost:8080/"
    },
    "id": "xARxTkRJ_rEk",
    "outputId": "3c43d0c5-386f-4eb0-fa6c-7e44fcfb7a33"
   },
   "outputs": [
    {
     "name": "stdout",
     "output_type": "stream",
     "text": [
      "Best checkpoint saved at: /content/checkpoints/tft-best.ckpt\n"
     ]
    }
   ],
   "source": [
    "# 학습 종료 후 가장 좋은 체크포인트 경로 출력\n",
    "print(f\"Best checkpoint saved at: {checkpoint_callback.best_model_path}\")"
   ]
  },
  {
   "cell_type": "code",
   "execution_count": 21,
   "metadata": {
    "colab": {
     "base_uri": "https://localhost:8080/",
     "height": 35
    },
    "id": "tWki-ulRaVMY",
    "outputId": "0bf4d0a3-05bf-45ce-ff93-82b14efbdd48"
   },
   "outputs": [
    {
     "data": {
      "application/vnd.google.colaboratory.intrinsic+json": {
       "type": "string"
      },
      "text/plain": [
       "'/content/drive/MyDrive/종설프1_5팀/checkpoints/tft-best.ckpt'"
      ]
     },
     "execution_count": 21,
     "metadata": {},
     "output_type": "execute_result"
    }
   ],
   "source": [
    "# 학습이 끝난 후 로컬 체크포인트를 Google Drive로 복사\n",
    "shutil.copyfile(\n",
    "    os.path.join(local_checkpoint_dir, \"tft-best.ckpt\"),\n",
    "    os.path.join(drive_checkpoint_dir, \"tft-best.ckpt\")\n",
    ")"
   ]
  },
  {
   "cell_type": "markdown",
   "metadata": {
    "id": "XMoV8qNp1VYc"
   },
   "source": [
    "## 서버구축"
   ]
  },
  {
   "cell_type": "code",
   "execution_count": 29,
   "metadata": {
    "colab": {
     "base_uri": "https://localhost:8080/"
    },
    "id": "eb949TkzI9Jy",
    "outputId": "3a5bd2a2-5fff-4f61-d7c0-934de77f062b"
   },
   "outputs": [
    {
     "name": "stdout",
     "output_type": "stream",
     "text": [
      "--2024-12-08 22:26:27--  https://bin.equinox.io/c/4VmDzA7iaHb/ngrok-stable-linux-amd64.zip\n",
      "Resolving bin.equinox.io (bin.equinox.io)... 75.2.60.68, 35.71.179.82, 13.248.244.96, ...\n",
      "Connecting to bin.equinox.io (bin.equinox.io)|75.2.60.68|:443... connected.\n",
      "HTTP request sent, awaiting response... 200 OK\n",
      "Length: 13921656 (13M) [application/octet-stream]\n",
      "Saving to: ‘ngrok-stable-linux-amd64.zip’\n",
      "\n",
      "ngrok-stable-linux- 100%[===================>]  13.28M  8.93MB/s    in 1.5s    \n",
      "\n",
      "2024-12-08 22:26:29 (8.93 MB/s) - ‘ngrok-stable-linux-amd64.zip’ saved [13921656/13921656]\n",
      "\n",
      "Archive:  ngrok-stable-linux-amd64.zip\n",
      "  inflating: ngrok                   \n"
     ]
    }
   ],
   "source": [
    "!wget https://bin.equinox.io/c/4VmDzA7iaHb/ngrok-stable-linux-amd64.zip\n",
    "!unzip ngrok-stable-linux-amd64.zip\n"
   ]
  },
  {
   "cell_type": "code",
   "execution_count": 30,
   "metadata": {
    "colab": {
     "base_uri": "https://localhost:8080/"
    },
    "id": "exaY0UcYkviT",
    "outputId": "2df972fb-b87a-4230-c718-525bb2d7a93b"
   },
   "outputs": [
    {
     "name": "stdout",
     "output_type": "stream",
     "text": [
      "Authtoken saved to configuration file: /root/.ngrok2/ngrok.yml\n"
     ]
    }
   ],
   "source": [
    "!./ngrok authtoken cr_2pQNo2X1zqJCJbgu2vzvGoq8ubY"
   ]
  },
  {
   "cell_type": "markdown",
   "metadata": {
    "id": "HCFQ8hvvpogS"
   },
   "source": [
    "## 모델 다시 로드"
   ]
  },
  {
   "cell_type": "code",
   "execution_count": 22,
   "metadata": {
    "colab": {
     "base_uri": "https://localhost:8080/"
    },
    "id": "MV_I8JcLWwZH",
    "outputId": "f3262cdf-a2ad-4c22-e5bf-695068f57f20"
   },
   "outputs": [
    {
     "name": "stderr",
     "output_type": "stream",
     "text": [
      "<ipython-input-22-8e065c542b83>:18: FutureWarning: You are using `torch.load` with `weights_only=False` (the current default value), which uses the default pickle module implicitly. It is possible to construct malicious pickle data which will execute arbitrary code during unpickling (See https://github.com/pytorch/pytorch/blob/main/SECURITY.md#untrusted-models for more details). In a future release, the default value for `weights_only` will be flipped to `True`. This limits the functions that could be executed during unpickling. Arbitrary objects will no longer be allowed to be loaded via this mode unless they are explicitly allowlisted by the user via `torch.serialization.add_safe_globals`. We recommend you start setting `weights_only=True` for any use case where you don't have full control of the loaded file. Please open an issue on GitHub for any issues related to this experimental feature.\n",
      "  checkpoint = torch.load(checkpoint_path, map_location=torch.device('cuda'))  # GPU로 로드\n"
     ]
    },
    {
     "data": {
      "text/plain": [
       "TemporalFusionTransformer(\n",
       "  \t\"attention_head_size\":               3\n",
       "  \t\"categorical_groups\":                {}\n",
       "  \t\"causal_attention\":                  True\n",
       "  \t\"dataset_parameters\":                {'time_idx': 'time_idx', 'target': 'feed_pressure', 'group_ids': ['group'], 'weight': None, 'max_encoder_length': 5594, 'min_encoder_length': 5594, 'min_prediction_idx': 0, 'min_prediction_length': 1, 'max_prediction_length': 1, 'static_categoricals': [], 'static_reals': None, 'time_varying_known_categoricals': None, 'time_varying_known_reals': ['time_idx'], 'time_varying_unknown_categoricals': None, 'time_varying_unknown_reals': ['feed_pressure'], 'variable_groups': None, 'constant_fill_strategy': None, 'allow_missing_timesteps': False, 'lags': None, 'add_relative_time_idx': False, 'add_target_scales': False, 'add_encoder_length': False, 'target_normalizer': GroupNormalizer(\n",
       "  \t\tmethod='standard',\n",
       "  \t\tgroups=None,\n",
       "  \t\tcenter=True,\n",
       "  \t\tscale_by_group=False,\n",
       "  \t\ttransformation='relu',\n",
       "  \t\tmethod_kwargs={}\n",
       "  \t), 'categorical_encoders': {'__group_id__group': NaNLabelEncoder(add_nan=False, warn=True), 'group': NaNLabelEncoder(add_nan=False, warn=True)}, 'scalers': {'time_idx': StandardScaler()}, 'randomize_length': None, 'predict_mode': False}\n",
       "  \t\"dropout\":                           0.34884270911702864\n",
       "  \t\"embedding_labels\":                  {}\n",
       "  \t\"embedding_paddings\":                []\n",
       "  \t\"embedding_sizes\":                   {}\n",
       "  \t\"hidden_continuous_size\":            16\n",
       "  \t\"hidden_continuous_sizes\":           {}\n",
       "  \t\"hidden_size\":                       29\n",
       "  \t\"learning_rate\":                     0.0013095831847880091\n",
       "  \t\"log_gradient_flow\":                 False\n",
       "  \t\"log_interval\":                      10\n",
       "  \t\"log_val_interval\":                  10\n",
       "  \t\"lstm_layers\":                       1\n",
       "  \t\"max_encoder_length\":                5594\n",
       "  \t\"monotone_constaints\":               {}\n",
       "  \t\"optimizer\":                         adam\n",
       "  \t\"optimizer_params\":                  None\n",
       "  \t\"output_size\":                       1\n",
       "  \t\"output_transformer\":                GroupNormalizer(\n",
       "  \t\tmethod='standard',\n",
       "  \t\tgroups=None,\n",
       "  \t\tcenter=True,\n",
       "  \t\tscale_by_group=False,\n",
       "  \t\ttransformation='relu',\n",
       "  \t\tmethod_kwargs={}\n",
       "  \t)\n",
       "  \t\"reduce_on_plateau_min_lr\":          1e-05\n",
       "  \t\"reduce_on_plateau_patience\":        3\n",
       "  \t\"reduce_on_plateau_reduction\":       2.0\n",
       "  \t\"share_single_variable_networks\":    False\n",
       "  \t\"static_categoricals\":               []\n",
       "  \t\"static_reals\":                      []\n",
       "  \t\"time_varying_categoricals_decoder\": []\n",
       "  \t\"time_varying_categoricals_encoder\": []\n",
       "  \t\"time_varying_reals_decoder\":        ['time_idx']\n",
       "  \t\"time_varying_reals_encoder\":        ['time_idx', 'feed_pressure']\n",
       "  \t\"weight_decay\":                      0.0\n",
       "  \t\"x_categoricals\":                    []\n",
       "  \t\"x_reals\":                           ['time_idx', 'feed_pressure']\n",
       "  (loss): WrappedTorchmetric(MeanAbsoluteError())\n",
       "  (logging_metrics): ModuleList(\n",
       "    (0): SMAPE()\n",
       "    (1): MAE()\n",
       "    (2): RMSE()\n",
       "    (3): MAPE()\n",
       "  )\n",
       "  (input_embeddings): MultiEmbedding(\n",
       "    (embeddings): ModuleDict()\n",
       "  )\n",
       "  (prescalers): ModuleDict(\n",
       "    (time_idx): Linear(in_features=1, out_features=16, bias=True)\n",
       "    (feed_pressure): Linear(in_features=1, out_features=16, bias=True)\n",
       "  )\n",
       "  (static_variable_selection): VariableSelectionNetwork(\n",
       "    (single_variable_grns): ModuleDict()\n",
       "    (prescalers): ModuleDict()\n",
       "    (softmax): Softmax(dim=-1)\n",
       "  )\n",
       "  (encoder_variable_selection): VariableSelectionNetwork(\n",
       "    (flattened_grn): GatedResidualNetwork(\n",
       "      (resample_norm): ResampleNorm(\n",
       "        (resample): TimeDistributedInterpolation()\n",
       "        (gate): Sigmoid()\n",
       "        (norm): LayerNorm((2,), eps=1e-05, elementwise_affine=True)\n",
       "      )\n",
       "      (fc1): Linear(in_features=32, out_features=2, bias=True)\n",
       "      (elu): ELU(alpha=1.0)\n",
       "      (context): Linear(in_features=29, out_features=2, bias=False)\n",
       "      (fc2): Linear(in_features=2, out_features=2, bias=True)\n",
       "      (gate_norm): GateAddNorm(\n",
       "        (glu): GatedLinearUnit(\n",
       "          (dropout): Dropout(p=0.34884270911702864, inplace=False)\n",
       "          (fc): Linear(in_features=2, out_features=4, bias=True)\n",
       "        )\n",
       "        (add_norm): AddNorm(\n",
       "          (norm): LayerNorm((2,), eps=1e-05, elementwise_affine=True)\n",
       "        )\n",
       "      )\n",
       "    )\n",
       "    (single_variable_grns): ModuleDict(\n",
       "      (time_idx): GatedResidualNetwork(\n",
       "        (resample_norm): ResampleNorm(\n",
       "          (resample): TimeDistributedInterpolation()\n",
       "          (gate): Sigmoid()\n",
       "          (norm): LayerNorm((29,), eps=1e-05, elementwise_affine=True)\n",
       "        )\n",
       "        (fc1): Linear(in_features=16, out_features=16, bias=True)\n",
       "        (elu): ELU(alpha=1.0)\n",
       "        (fc2): Linear(in_features=16, out_features=16, bias=True)\n",
       "        (gate_norm): GateAddNorm(\n",
       "          (glu): GatedLinearUnit(\n",
       "            (dropout): Dropout(p=0.34884270911702864, inplace=False)\n",
       "            (fc): Linear(in_features=16, out_features=58, bias=True)\n",
       "          )\n",
       "          (add_norm): AddNorm(\n",
       "            (norm): LayerNorm((29,), eps=1e-05, elementwise_affine=True)\n",
       "          )\n",
       "        )\n",
       "      )\n",
       "      (feed_pressure): GatedResidualNetwork(\n",
       "        (resample_norm): ResampleNorm(\n",
       "          (resample): TimeDistributedInterpolation()\n",
       "          (gate): Sigmoid()\n",
       "          (norm): LayerNorm((29,), eps=1e-05, elementwise_affine=True)\n",
       "        )\n",
       "        (fc1): Linear(in_features=16, out_features=16, bias=True)\n",
       "        (elu): ELU(alpha=1.0)\n",
       "        (fc2): Linear(in_features=16, out_features=16, bias=True)\n",
       "        (gate_norm): GateAddNorm(\n",
       "          (glu): GatedLinearUnit(\n",
       "            (dropout): Dropout(p=0.34884270911702864, inplace=False)\n",
       "            (fc): Linear(in_features=16, out_features=58, bias=True)\n",
       "          )\n",
       "          (add_norm): AddNorm(\n",
       "            (norm): LayerNorm((29,), eps=1e-05, elementwise_affine=True)\n",
       "          )\n",
       "        )\n",
       "      )\n",
       "    )\n",
       "    (prescalers): ModuleDict(\n",
       "      (time_idx): Linear(in_features=1, out_features=16, bias=True)\n",
       "      (feed_pressure): Linear(in_features=1, out_features=16, bias=True)\n",
       "    )\n",
       "    (softmax): Softmax(dim=-1)\n",
       "  )\n",
       "  (decoder_variable_selection): VariableSelectionNetwork(\n",
       "    (single_variable_grns): ModuleDict(\n",
       "      (time_idx): GatedResidualNetwork(\n",
       "        (resample_norm): ResampleNorm(\n",
       "          (resample): TimeDistributedInterpolation()\n",
       "          (gate): Sigmoid()\n",
       "          (norm): LayerNorm((29,), eps=1e-05, elementwise_affine=True)\n",
       "        )\n",
       "        (fc1): Linear(in_features=16, out_features=16, bias=True)\n",
       "        (elu): ELU(alpha=1.0)\n",
       "        (fc2): Linear(in_features=16, out_features=16, bias=True)\n",
       "        (gate_norm): GateAddNorm(\n",
       "          (glu): GatedLinearUnit(\n",
       "            (dropout): Dropout(p=0.34884270911702864, inplace=False)\n",
       "            (fc): Linear(in_features=16, out_features=58, bias=True)\n",
       "          )\n",
       "          (add_norm): AddNorm(\n",
       "            (norm): LayerNorm((29,), eps=1e-05, elementwise_affine=True)\n",
       "          )\n",
       "        )\n",
       "      )\n",
       "    )\n",
       "    (prescalers): ModuleDict(\n",
       "      (time_idx): Linear(in_features=1, out_features=16, bias=True)\n",
       "    )\n",
       "    (softmax): Softmax(dim=-1)\n",
       "  )\n",
       "  (static_context_variable_selection): GatedResidualNetwork(\n",
       "    (fc1): Linear(in_features=29, out_features=29, bias=True)\n",
       "    (elu): ELU(alpha=1.0)\n",
       "    (fc2): Linear(in_features=29, out_features=29, bias=True)\n",
       "    (gate_norm): GateAddNorm(\n",
       "      (glu): GatedLinearUnit(\n",
       "        (dropout): Dropout(p=0.34884270911702864, inplace=False)\n",
       "        (fc): Linear(in_features=29, out_features=58, bias=True)\n",
       "      )\n",
       "      (add_norm): AddNorm(\n",
       "        (norm): LayerNorm((29,), eps=1e-05, elementwise_affine=True)\n",
       "      )\n",
       "    )\n",
       "  )\n",
       "  (static_context_initial_hidden_lstm): GatedResidualNetwork(\n",
       "    (fc1): Linear(in_features=29, out_features=29, bias=True)\n",
       "    (elu): ELU(alpha=1.0)\n",
       "    (fc2): Linear(in_features=29, out_features=29, bias=True)\n",
       "    (gate_norm): GateAddNorm(\n",
       "      (glu): GatedLinearUnit(\n",
       "        (dropout): Dropout(p=0.34884270911702864, inplace=False)\n",
       "        (fc): Linear(in_features=29, out_features=58, bias=True)\n",
       "      )\n",
       "      (add_norm): AddNorm(\n",
       "        (norm): LayerNorm((29,), eps=1e-05, elementwise_affine=True)\n",
       "      )\n",
       "    )\n",
       "  )\n",
       "  (static_context_initial_cell_lstm): GatedResidualNetwork(\n",
       "    (fc1): Linear(in_features=29, out_features=29, bias=True)\n",
       "    (elu): ELU(alpha=1.0)\n",
       "    (fc2): Linear(in_features=29, out_features=29, bias=True)\n",
       "    (gate_norm): GateAddNorm(\n",
       "      (glu): GatedLinearUnit(\n",
       "        (dropout): Dropout(p=0.34884270911702864, inplace=False)\n",
       "        (fc): Linear(in_features=29, out_features=58, bias=True)\n",
       "      )\n",
       "      (add_norm): AddNorm(\n",
       "        (norm): LayerNorm((29,), eps=1e-05, elementwise_affine=True)\n",
       "      )\n",
       "    )\n",
       "  )\n",
       "  (static_context_enrichment): GatedResidualNetwork(\n",
       "    (fc1): Linear(in_features=29, out_features=29, bias=True)\n",
       "    (elu): ELU(alpha=1.0)\n",
       "    (fc2): Linear(in_features=29, out_features=29, bias=True)\n",
       "    (gate_norm): GateAddNorm(\n",
       "      (glu): GatedLinearUnit(\n",
       "        (dropout): Dropout(p=0.34884270911702864, inplace=False)\n",
       "        (fc): Linear(in_features=29, out_features=58, bias=True)\n",
       "      )\n",
       "      (add_norm): AddNorm(\n",
       "        (norm): LayerNorm((29,), eps=1e-05, elementwise_affine=True)\n",
       "      )\n",
       "    )\n",
       "  )\n",
       "  (lstm_encoder): LSTM(29, 29, batch_first=True)\n",
       "  (lstm_decoder): LSTM(29, 29, batch_first=True)\n",
       "  (post_lstm_gate_encoder): GatedLinearUnit(\n",
       "    (dropout): Dropout(p=0.34884270911702864, inplace=False)\n",
       "    (fc): Linear(in_features=29, out_features=58, bias=True)\n",
       "  )\n",
       "  (post_lstm_gate_decoder): GatedLinearUnit(\n",
       "    (dropout): Dropout(p=0.34884270911702864, inplace=False)\n",
       "    (fc): Linear(in_features=29, out_features=58, bias=True)\n",
       "  )\n",
       "  (post_lstm_add_norm_encoder): AddNorm(\n",
       "    (norm): LayerNorm((29,), eps=1e-05, elementwise_affine=True)\n",
       "  )\n",
       "  (post_lstm_add_norm_decoder): AddNorm(\n",
       "    (norm): LayerNorm((29,), eps=1e-05, elementwise_affine=True)\n",
       "  )\n",
       "  (static_enrichment): GatedResidualNetwork(\n",
       "    (fc1): Linear(in_features=29, out_features=29, bias=True)\n",
       "    (elu): ELU(alpha=1.0)\n",
       "    (context): Linear(in_features=29, out_features=29, bias=False)\n",
       "    (fc2): Linear(in_features=29, out_features=29, bias=True)\n",
       "    (gate_norm): GateAddNorm(\n",
       "      (glu): GatedLinearUnit(\n",
       "        (dropout): Dropout(p=0.34884270911702864, inplace=False)\n",
       "        (fc): Linear(in_features=29, out_features=58, bias=True)\n",
       "      )\n",
       "      (add_norm): AddNorm(\n",
       "        (norm): LayerNorm((29,), eps=1e-05, elementwise_affine=True)\n",
       "      )\n",
       "    )\n",
       "  )\n",
       "  (multihead_attn): InterpretableMultiHeadAttention(\n",
       "    (dropout): Dropout(p=0.34884270911702864, inplace=False)\n",
       "    (v_layer): Linear(in_features=29, out_features=9, bias=True)\n",
       "    (q_layers): ModuleList(\n",
       "      (0-2): 3 x Linear(in_features=29, out_features=9, bias=True)\n",
       "    )\n",
       "    (k_layers): ModuleList(\n",
       "      (0-2): 3 x Linear(in_features=29, out_features=9, bias=True)\n",
       "    )\n",
       "    (attention): ScaledDotProductAttention(\n",
       "      (softmax): Softmax(dim=2)\n",
       "    )\n",
       "    (w_h): Linear(in_features=9, out_features=29, bias=False)\n",
       "  )\n",
       "  (post_attn_gate_norm): GateAddNorm(\n",
       "    (glu): GatedLinearUnit(\n",
       "      (dropout): Dropout(p=0.34884270911702864, inplace=False)\n",
       "      (fc): Linear(in_features=29, out_features=58, bias=True)\n",
       "    )\n",
       "    (add_norm): AddNorm(\n",
       "      (norm): LayerNorm((29,), eps=1e-05, elementwise_affine=True)\n",
       "    )\n",
       "  )\n",
       "  (pos_wise_ff): GatedResidualNetwork(\n",
       "    (fc1): Linear(in_features=29, out_features=29, bias=True)\n",
       "    (elu): ELU(alpha=1.0)\n",
       "    (fc2): Linear(in_features=29, out_features=29, bias=True)\n",
       "    (gate_norm): GateAddNorm(\n",
       "      (glu): GatedLinearUnit(\n",
       "        (dropout): Dropout(p=0.34884270911702864, inplace=False)\n",
       "        (fc): Linear(in_features=29, out_features=58, bias=True)\n",
       "      )\n",
       "      (add_norm): AddNorm(\n",
       "        (norm): LayerNorm((29,), eps=1e-05, elementwise_affine=True)\n",
       "      )\n",
       "    )\n",
       "  )\n",
       "  (pre_output_gate_norm): GateAddNorm(\n",
       "    (glu): GatedLinearUnit(\n",
       "      (fc): Linear(in_features=29, out_features=58, bias=True)\n",
       "    )\n",
       "    (add_norm): AddNorm(\n",
       "      (norm): LayerNorm((29,), eps=1e-05, elementwise_affine=True)\n",
       "    )\n",
       "  )\n",
       "  (output_layer): Linear(in_features=29, out_features=1, bias=True)\n",
       ")"
      ]
     },
     "execution_count": 22,
     "metadata": {},
     "output_type": "execute_result"
    }
   ],
   "source": [
    "# Google Drive에 저장된 체크포인트 경로\n",
    "checkpoint_path = \"/content/drive/MyDrive/종설프1_5팀/checkpoints/tft-best.ckpt\"\n",
    "\n",
    "# TemporalFusionTransformer 모델 생성\n",
    "loaded_tft = TemporalFusionTransformer.from_dataset(\n",
    "    training,  # 동일한 데이터셋 필요\n",
    "    learning_rate=best_params[\"learning_rate\"],\n",
    "    hidden_size=best_params[\"hidden_size\"],\n",
    "    attention_head_size=best_params[\"attention_head_size\"],\n",
    "    dropout=best_params[\"dropout\"],\n",
    "    hidden_continuous_size=16,\n",
    "    loss=MeanAbsoluteError(),\n",
    "    log_interval=10,\n",
    "    reduce_on_plateau_patience=3\n",
    ")\n",
    "\n",
    "# 체크포인트 로드\n",
    "checkpoint = torch.load(checkpoint_path, map_location=torch.device('cuda'))  # GPU로 로드\n",
    "\n",
    "# state_dict 키 이름 수정\n",
    "state_dict = checkpoint[\"state_dict\"]\n",
    "new_state_dict = {k.replace(\"tft_model.\", \"\"): v for k, v in state_dict.items()}  # 접두사 제거\n",
    "\n",
    "# 수정된 state_dict를 모델에 로드\n",
    "loaded_tft.load_state_dict(new_state_dict)\n",
    "loaded_tft.to('cuda')  # GPU로 이동\n",
    "loaded_tft.eval()"
   ]
  },
  {
   "cell_type": "markdown",
   "metadata": {
    "id": "rtRiakn5X_Xn"
   },
   "source": [
    "## ROLLING 방식"
   ]
  },
  {
   "cell_type": "code",
   "execution_count": 23,
   "metadata": {
    "id": "DSyyCaangt7U"
   },
   "outputs": [],
   "source": [
    "# 'group' 컬럼 확인 및 추가\n",
    "if \"group\" not in df_total.columns or df_total[\"group\"].isnull().any():\n",
    "    print(\"'group' 컬럼이 누락되었거나 비어 있습니다. 기본 그룹 값을 설정합니다.\")\n",
    "    df_total[\"group\"] = \"series\"  # 기본 그룹 값 설정"
   ]
  },
  {
   "cell_type": "code",
   "execution_count": 24,
   "metadata": {
    "id": "UpglHlK_gwUN"
   },
   "outputs": [],
   "source": [
    "# 'group' 컬럼 고유성 확인\n",
    "if df_total[\"group\"].nunique() > 1:\n",
    "    print(f\"'group' 컬럼에 {df_total['group'].nunique()}개의 고유 값이 있습니다. 모델이 단일 그룹을 예상할 수 있으니 확인하세요.\")\n",
    "\n",
    "# Rolling Prediction 실행 전에 데이터 유효성 확인\n",
    "if len(df_total) < max_encoder_length:\n",
    "    print(\n",
    "        f\"데이터셋 길이 ({len(df_total)})가 max_encoder_length ({max_encoder_length})보다 짧습니다. \"\n",
    "        \"데이터를 패딩하여 문제를 해결합니다.\"\n",
    "    )\n",
    "    # 필요한 패딩 길이 계산\n",
    "    padding_length = max_encoder_length - len(df_total)\n",
    "    last_row = df_total.iloc[-1]\n",
    "    padding = pd.DataFrame([last_row] * padding_length)\n",
    "\n",
    "    # time_idx를 늘리기\n",
    "    padding[\"time_idx\"] = range(df_total[\"time_idx\"].max() + 1, df_total[\"time_idx\"].max() + 1 + padding_length)\n",
    "\n",
    "    # 패딩 추가\n",
    "    df_total = pd.concat([df_total, padding], ignore_index=True)\n",
    "    print(f\"데이터셋이 {len(df_total)}로 패딩되었습니다.\")\n"
   ]
  },
  {
   "cell_type": "code",
   "execution_count": 25,
   "metadata": {
    "id": "3TOwHAAcYKjD"
   },
   "outputs": [],
   "source": [
    "# rolling_predict_batch 수정\n",
    "def rolling_predict_batch(\n",
    "    model, train_dataset, max_encoder_length, scaler, condition_value=17, tolerance=0.1, batch_size=1, device=\"cuda\"\n",
    "):\n",
    "    \"\"\"\n",
    "    Rolling 방식으로 한 번에 batch_size만큼 예측을 수행하며 조건 만족 시까지 반복합니다.\n",
    "\n",
    "    Args:\n",
    "        model: PyTorch 모델.\n",
    "        train_dataset: 학습에 사용된 데이터셋 (DataFrame 형태).\n",
    "        max_encoder_length: 롤링 윈도우의 길이.\n",
    "        scaler: MinMaxScaler (스케일링 복원을 위해 필요).\n",
    "        condition_value: 예측이 중단되는 조건 값 (예: 17).\n",
    "        tolerance: 조건 값에 대한 허용 오차.\n",
    "        batch_size: 한 번에 예측할 예측 길이 (기본: 1).\n",
    "        device: 사용할 디바이스 (default: \"cuda\").\n",
    "\n",
    "    Returns:\n",
    "        predictions (list): 예측된 값의 리스트.\n",
    "    \"\"\"\n",
    "    model = model.to(device)\n",
    "    model.eval()\n",
    "\n",
    "    # Initialize with the first encoder window from the training data\n",
    "    input_data = train_dataset.iloc[:max_encoder_length].copy()\n",
    "    predictions = []\n",
    "\n",
    "    # Add group column if missing\n",
    "    if \"group\" not in input_data.columns:\n",
    "        input_data[\"group\"] = \"series\"\n",
    "\n",
    "    step = 0\n",
    "    while True:\n",
    "        try:\n",
    "            # Create TimeSeriesDataSet for rolling prediction\n",
    "            rolling_dataset = TimeSeriesDataSet(\n",
    "                data=input_data,\n",
    "                time_idx=\"time_idx\",\n",
    "                target=\"feed_pressure\",\n",
    "                group_ids=[\"group\"],\n",
    "                max_encoder_length=max_encoder_length,\n",
    "                max_prediction_length=batch_size,\n",
    "                static_categoricals=[],\n",
    "                time_varying_known_reals=[\"time_idx\"],\n",
    "                time_varying_unknown_reals=[\"feed_pressure\"],\n",
    "                target_normalizer=GroupNormalizer(transformation=\"relu\"),\n",
    "                min_encoder_length=1,\n",
    "                allow_missing_timesteps=True,\n",
    "            )\n",
    "\n",
    "            rolling_dataloader = rolling_dataset.to_dataloader(train=False, batch_size=1)\n",
    "\n",
    "            # Predict the next value\n",
    "            with torch.no_grad():\n",
    "                input_batch = next(iter(rolling_dataloader))\n",
    "                input_batch = {key: value.to(device) for key, value in input_batch[0].items()}\n",
    "                batch_predictions = model(input_batch)[\"prediction\"].cpu().numpy().squeeze()\n",
    "\n",
    "            # Restore the scaled prediction to original scale\n",
    "            batch_predictions_actual = scaler.inverse_transform(batch_predictions.reshape(-1, 1)).flatten()\n",
    "            predictions.extend(batch_predictions_actual)\n",
    "\n",
    "            print(f\"Step {step}: Predicted Value = {batch_predictions_actual[0]}\")\n",
    "\n",
    "            # Check if the prediction meets the condition\n",
    "            if abs(batch_predictions_actual[0] - condition_value) <= tolerance:\n",
    "                print(f\"Condition met: Predicted value is within tolerance of {condition_value}. Stopping prediction.\")\n",
    "                break\n",
    "\n",
    "            # Update rolling input data with the new predicted value\n",
    "            new_time_idx = input_data[\"time_idx\"].iloc[-1] + 1\n",
    "            new_row = {\n",
    "                \"time_idx\": new_time_idx,\n",
    "                \"feed_pressure\": batch_predictions_actual[0],\n",
    "                \"group\": \"series\",\n",
    "            }\n",
    "            input_data = pd.concat([input_data.iloc[1:], pd.DataFrame([new_row])], ignore_index=True)\n",
    "\n",
    "            step += 1\n",
    "\n",
    "        except Exception as e:\n",
    "            print(f\"Error at step {step}: {e}\")\n",
    "            break\n",
    "\n",
    "    return predictions"
   ]
  },
  {
   "cell_type": "code",
   "execution_count": 26,
   "metadata": {
    "id": "TJueVQDmKJbn"
   },
   "outputs": [],
   "source": [
    "def rolling_predict_batch(\n",
    "    model, train_dataset, max_encoder_length, scaler, condition_value=17, tolerance=0.1, batch_size=1, device=\"cuda\"\n",
    "):\n",
    "    model = model.to(device)\n",
    "    model.eval()\n",
    "\n",
    "    # Initialize with the first encoder window from the training data\n",
    "    input_data = train_dataset.iloc[:max_encoder_length].copy()\n",
    "    predictions = []\n",
    "\n",
    "    # Add group column if missing\n",
    "    if \"group\" not in input_data.columns:\n",
    "        input_data[\"group\"] = \"series\"\n",
    "\n",
    "    step = 0\n",
    "    while True:\n",
    "        try:\n",
    "            # Create rolling dataset\n",
    "            rolling_dataset = TimeSeriesDataSet(\n",
    "                data=input_data,\n",
    "                time_idx=\"time_idx\",\n",
    "                target=\"feed_pressure\",\n",
    "                group_ids=[\"group\"],\n",
    "                max_encoder_length=max_encoder_length,\n",
    "                max_prediction_length=batch_size,\n",
    "                static_categoricals=[],\n",
    "                time_varying_known_reals=[\"time_idx\"],\n",
    "                time_varying_unknown_reals=[\"feed_pressure\"],\n",
    "                target_normalizer=GroupNormalizer(transformation=\"relu\"),\n",
    "                min_encoder_length=1,\n",
    "                allow_missing_timesteps=True,\n",
    "            )\n",
    "\n",
    "            # Create rolling dataloader\n",
    "            rolling_dataloader = rolling_dataset.to_dataloader(train=False, batch_size=1)\n",
    "\n",
    "            # Perform prediction\n",
    "            with torch.no_grad():\n",
    "                input_batch = next(iter(rolling_dataloader))\n",
    "                input_batch = {key: value.to(device) for key, value in input_batch[0].items()}\n",
    "                batch_predictions = model(input_batch)[\"prediction\"].cpu().numpy().squeeze()\n",
    "\n",
    "            # Scale back to original\n",
    "            batch_predictions_actual = scaler.inverse_transform(batch_predictions.reshape(-1, 1)).flatten()\n",
    "            predictions.extend(batch_predictions_actual)\n",
    "\n",
    "            # Check stopping condition\n",
    "            diff = abs(batch_predictions_actual[0] - condition_value)\n",
    "            print(f\"Step {step}: Predicted Value = {batch_predictions_actual[0]}, Difference = {diff}\")\n",
    "\n",
    "            if batch_predictions_actual[0] >= condition_value:\n",
    "                print(f\"Condition met: Predicted value = {batch_predictions_actual[0]} >= {condition_value}. Stopping.\")\n",
    "                break\n",
    "\n",
    "            # Update input data for rolling prediction\n",
    "            new_time_idx = input_data[\"time_idx\"].iloc[-1] + 1\n",
    "            new_row = {\n",
    "                \"time_idx\": new_time_idx,\n",
    "                \"feed_pressure\": batch_predictions_actual[0],\n",
    "                \"group\": \"series\",\n",
    "            }\n",
    "            input_data = pd.concat([input_data.iloc[1:], pd.DataFrame([new_row])], ignore_index=True)\n",
    "\n",
    "            step += 1\n",
    "\n",
    "        except Exception as e:\n",
    "            print(f\"Error at step {step}: {e}\")\n",
    "            break\n",
    "\n",
    "    return predictions"
   ]
  },
  {
   "cell_type": "code",
   "execution_count": 27,
   "metadata": {
    "colab": {
     "base_uri": "https://localhost:8080/"
    },
    "id": "SxLbVWviRyRp",
    "outputId": "db06f40d-8d0e-4445-e080-f460a726e435"
   },
   "outputs": [
    {
     "name": "stdout",
     "output_type": "stream",
     "text": [
      "Step 0: Predicted Value = 10.413405418395996, Difference = 6.586594581604004\n",
      "Step 1: Predicted Value = 11.058327674865723, Difference = 5.941672325134277\n",
      "Step 2: Predicted Value = 11.513411521911621, Difference = 5.486588478088379\n",
      "Step 3: Predicted Value = 11.89936351776123, Difference = 5.1006364822387695\n",
      "Step 4: Predicted Value = 12.246939659118652, Difference = 4.753060340881348\n",
      "Step 5: Predicted Value = 12.569581985473633, Difference = 4.430418014526367\n",
      "Step 6: Predicted Value = 12.874577522277832, Difference = 4.125422477722168\n",
      "Step 7: Predicted Value = 13.166400909423828, Difference = 3.833599090576172\n",
      "Step 8: Predicted Value = 13.448031425476074, Difference = 3.551968574523926\n",
      "Step 9: Predicted Value = 13.721567153930664, Difference = 3.278432846069336\n",
      "Step 10: Predicted Value = 13.988557815551758, Difference = 3.011442184448242\n",
      "Step 11: Predicted Value = 14.250222206115723, Difference = 2.7497777938842773\n",
      "Step 12: Predicted Value = 14.507474899291992, Difference = 2.492525100708008\n",
      "Step 13: Predicted Value = 14.761046409606934, Difference = 2.2389535903930664\n",
      "Step 14: Predicted Value = 15.011531829833984, Difference = 1.9884681701660156\n",
      "Step 15: Predicted Value = 15.25942325592041, Difference = 1.7405767440795898\n",
      "Step 16: Predicted Value = 15.505101203918457, Difference = 1.494898796081543\n",
      "Step 17: Predicted Value = 15.748916625976562, Difference = 1.2510833740234375\n",
      "Step 18: Predicted Value = 15.991177558898926, Difference = 1.0088224411010742\n",
      "Step 19: Predicted Value = 16.23214340209961, Difference = 0.7678565979003906\n",
      "Step 20: Predicted Value = 16.4720401763916, Difference = 0.5279598236083984\n",
      "Step 21: Predicted Value = 16.71107292175293, Difference = 0.2889270782470703\n",
      "Step 22: Predicted Value = 16.949417114257812, Difference = 0.0505828857421875\n",
      "Step 23: Predicted Value = 17.187232971191406, Difference = 0.18723297119140625\n",
      "Condition met: Predicted value = 17.187232971191406 >= 17. Stopping.\n",
      "Final Predictions: [10.413405, 11.058328, 11.5134115, 11.8993635, 12.24694, 12.569582, 12.8745775, 13.166401, 13.448031, 13.721567, 13.988558, 14.250222, 14.507475, 14.761046, 15.011532, 15.259423, 15.505101, 15.748917, 15.991178, 16.232143, 16.47204, 16.711073, 16.949417, 17.187233]\n"
     ]
    }
   ],
   "source": [
    "rolling_predictions = rolling_predict_batch(\n",
    "    model=wrapped_tft,\n",
    "    train_dataset=df_total,\n",
    "    max_encoder_length=max_encoder_length,\n",
    "    scaler=scaler,\n",
    "    condition_value=17,\n",
    "    tolerance=0.1,\n",
    "    batch_size=1,\n",
    "    device=\"cuda\",\n",
    ")\n",
    "\n",
    "print(\"Final Predictions:\", rolling_predictions)"
   ]
  },
  {
   "cell_type": "code",
   "execution_count": 28,
   "metadata": {
    "colab": {
     "base_uri": "https://localhost:8080/",
     "height": 584
    },
    "id": "VMIiOYiLSllR",
    "outputId": "3946186a-e1cc-40f3-9061-c79db577d35e"
   },
   "outputs": [
    {
     "data": {
      "image/png": "[encoded data removed]",
      "text/plain": [
       "<Figure size 1200x600 with 1 Axes>"
      ]
     },
     "metadata": {},
     "output_type": "display_data"
    }
   ],
   "source": [
    "# 결과 시각화 함수\n",
    "def plot_rolling_predictions(predicted_values, condition_value=17):\n",
    "    plt.figure(figsize=(12, 6))\n",
    "    plt.plot(range(len(predicted_values)), predicted_values, label=\"Predicted\", linestyle=\"-\", color=\"red\")\n",
    "    plt.axhline(y=condition_value, color=\"green\", linestyle=\"--\", label=f\"Condition Value ({condition_value})\")\n",
    "    plt.xlabel(\"Prediction Steps\")\n",
    "    plt.ylabel(\"Feed Pressure (Actual Scale)\")\n",
    "    plt.title(\"Predicted Feed Pressure Until Condition Value (Rolling)\")\n",
    "    plt.legend()\n",
    "    plt.grid(True)\n",
    "    plt.show()\n",
    "\n",
    "# Rolling Predictions 그래프 호출\n",
    "plot_rolling_predictions(rolling_predictions, condition_value=17)\n"
   ]
  },
  {
   "cell_type": "markdown",
   "metadata": {
    "id": "fWOtmCVmLCag"
   },
   "source": [
    "###  Api System"
   ]
  },
  {
   "cell_type": "code",
   "execution_count": 40,
   "metadata": {
    "id": "YnUFyPS8ZX8r"
   },
   "outputs": [],
   "source": [
    "from fastapi import FastAPI, UploadFile, File\n",
    "from pydantic import BaseModel\n",
    "import pandas as pd\n",
    "import torch\n",
    "from pytorch_lightning import Trainer\n",
    "from sklearn.preprocessing import MinMaxScaler\n",
    "import os\n",
    "from matplotlib import pyplot as plt\n",
    "\n",
    "# Import necessary modules and classes from your existing code\n",
    "# from your_code import TemporalFusionTransformer, rolling_predict_batch, plot_rolling_predictions\n",
    "\n",
    "# Initialize FastAPI app\n",
    "app = FastAPI()\n",
    "\n",
    "# Global variables\n",
    "tft_model = None  # Placeholder for the trained model\n",
    "scaler = MinMaxScaler()\n",
    "max_encoder_length = 10\n",
    "condition_value = 17\n",
    "\n",
    "# Define request model for predict endpoint\n",
    "class PredictRequest(BaseModel):\n",
    "    condition_value: float = 17.0\n",
    "    tolerance: float = 0.1\n",
    "    batch_size: int = 1\n",
    "\n",
    "# Define the model loading function\n",
    "def load_model(model_path, training_dataset, best_params):\n",
    "    global tft_model\n",
    "\n",
    "    # TemporalFusionTransformer model creation\n",
    "    tft_model = TemporalFusionTransformer.from_dataset(\n",
    "        training_dataset,\n",
    "        learning_rate=best_params[\"learning_rate\"],\n",
    "        hidden_size=best_params[\"hidden_size\"],\n",
    "        attention_head_size=best_params[\"attention_head_size\"],\n",
    "        dropout=best_params[\"dropout\"],\n",
    "        hidden_continuous_size=16,\n",
    "        loss=torch.nn.MSELoss(),\n",
    "        log_interval=10,\n",
    "        reduce_on_plateau_patience=3\n",
    "    )\n",
    "\n",
    "    # Load checkpoint\n",
    "    checkpoint = torch.load(model_path, map_location=torch.device('cuda'))\n",
    "    state_dict = checkpoint[\"state_dict\"]\n",
    "    new_state_dict = {k.replace(\"tft_model.\", \"\"): v for k, v in state_dict.items()}\n",
    "\n",
    "    # Load state dict\n",
    "    tft_model.load_state_dict(new_state_dict)\n",
    "    tft_model.to('cuda')\n",
    "    tft_model.eval()\n",
    "    print(\"Model loaded successfully.\")\n",
    "\n",
    "# Define the predict endpoint\n",
    "@app.post(\"/predict\")\n",
    "async def predict(request: PredictRequest, file: UploadFile = File(...)):\n",
    "    global tft_model, scaler\n",
    "\n",
    "    # Ensure the model is loaded\n",
    "    if tft_model is None:\n",
    "        return {\"error\": \"Model not loaded. Please load the model first.\"}\n",
    "\n",
    "    # Read the uploaded CSV file into a DataFrame\n",
    "    try:\n",
    "        df = pd.read_csv(file.file)\n",
    "    except Exception as e:\n",
    "        return {\"error\": f\"Failed to load CSV file: {str(e)}\"}\n",
    "\n",
    "    # Data preprocessing\n",
    "    if \"feed_pressure\" not in df.columns:\n",
    "        return {\"error\": \"CSV file must contain a 'feed_pressure' column.\"}\n",
    "\n",
    "    df[\"feed_pressure\"] = scaler.transform(df[[\"feed_pressure\"]])  # Apply existing scaler\n",
    "    df[\"time_idx\"] = range(len(df))\n",
    "    if \"group\" not in df.columns:\n",
    "        df[\"group\"] = \"series\"\n",
    "\n",
    "    # Validate dataset length for rolling prediction\n",
    "    if len(df) < max_encoder_length:\n",
    "        padding_length = max_encoder_length - len(df)\n",
    "        last_row = df.iloc[-1]\n",
    "        padding = pd.DataFrame([last_row] * padding_length)\n",
    "        padding[\"time_idx\"] = range(df[\"time_idx\"].max() + 1, df[\"time_idx\"].max() + 1 + padding_length)\n",
    "        df = pd.concat([df, padding], ignore_index=True)\n",
    "        print(f\"Dataset padded to {len(df)} rows.\")\n",
    "\n",
    "    # Perform rolling predictions\n",
    "    predictions = rolling_predict_batch(\n",
    "        model=tft_model,\n",
    "        train_dataset=df,\n",
    "        max_encoder_length=max_encoder_length,\n",
    "        scaler=scaler,\n",
    "        condition_value=request.condition_value,\n",
    "        tolerance=request.tolerance,\n",
    "        batch_size=request.batch_size,\n",
    "        device=\"cuda\"\n",
    "    )\n",
    "\n",
    "    return {\"predictions\": predictions}\n",
    "\n",
    "# Define the root endpoint\n",
    "@app.get(\"/\")\n",
    "def read_root():\n",
    "    return {\"message\": \"TFT API is running. Use /predict endpoint to make predictions.\"}\n",
    "\n",
    "# Define a model loading endpoint\n",
    "@app.post(\"/load_model\")\n",
    "def load_model_endpoint(model_path: str, training_dataset_path: str, best_params: dict):\n",
    "    try:\n",
    "        # Load training dataset\n",
    "        training_df = pd.read_csv(training_dataset_path)\n",
    "\n",
    "        # Preprocess the training dataset\n",
    "        training_df[\"feed_pressure\"] = scaler.fit_transform(training_df[[\"feed_pressure\"]])\n",
    "        training_df[\"time_idx\"] = range(len(training_df))\n",
    "        if \"group\" not in training_df.columns:\n",
    "            training_df[\"group\"] = \"series\"\n",
    "\n",
    "        # Create training TimeSeriesDataSet\n",
    "        training_dataset = TimeSeriesDataSet(\n",
    "            training_df,\n",
    "            time_idx=\"time_idx\",\n",
    "            target=\"feed_pressure\",\n",
    "            group_ids=[\"group\"],\n",
    "            max_encoder_length=max_encoder_length,\n",
    "            max_prediction_length=1,\n",
    "            static_categoricals=[],\n",
    "            time_varying_known_reals=[\"time_idx\"],\n",
    "            time_varying_unknown_reals=[\"feed_pressure\"],\n",
    "            target_normalizer=GroupNormalizer(transformation=\"relu\")\n",
    "        )\n",
    "\n",
    "        # Load the model\n",
    "        load_model(model_path, training_dataset, best_params)\n",
    "\n",
    "        return {\"message\": \"Model loaded successfully.\"}\n",
    "    except Exception as e:\n",
    "        return {\"error\": f\"Failed to load model: {str(e)}\"}"
   ]
  },
  {
   "cell_type": "code",
   "execution_count": 41,
   "metadata": {
    "colab": {
     "base_uri": "https://localhost:8080/"
    },
    "id": "IpxnUDjPaO6g",
    "outputId": "fee4c667-b6b1-48a3-bd1d-3c4e2c095706"
   },
   "outputs": [
    {
     "name": "stderr",
     "output_type": "stream",
     "text": [
      "INFO:     Started server process [3501]\n",
      "INFO:     Waiting for application startup.\n",
      "INFO:     Application startup complete.\n",
      "INFO:     Uvicorn running on http://0.0.0.0:8000 (Press CTRL+C to quit)\n",
      "INFO:     Shutting down\n",
      "INFO:     Waiting for application shutdown.\n",
      "INFO:     Application shutdown complete.\n",
      "INFO:     Finished server process [3501]\n"
     ]
    }
   ],
   "source": [
    "# 앱 실행 코드\n",
    "import uvicorn\n",
    "uvicorn.run(app, host=\"0.0.0.0\", port=8000)"
   ]
  }
 ],
 "metadata": {
  "accelerator": "GPU",
  "colab": {
   "gpuType": "T4",
   "machine_shape": "hm",
   "provenance": []
  },
  "kernelspec": {
   "display_name": "Python 3",
   "name": "python3"
  },
  "language_info": {
   "name": "python"
  },
  "widgets": {
   "application/vnd.jupyter.widget-state+json": {
    "069c7553b30948eda37ce1ca16c2693b": {
     "model_module": "@jupyter-widgets/controls",
     "model_module_version": "1.5.0",
     "model_name": "FloatProgressModel",
     "state": {
      "_dom_classes": [],
      "_model_module": "@jupyter-widgets/controls",
      "_model_module_version": "1.5.0",
      "_model_name": "FloatProgressModel",
      "_view_count": null,
      "_view_module": "@jupyter-widgets/controls",
      "_view_module_version": "1.5.0",
      "_view_name": "ProgressView",
      "bar_style": "",
      "description": "",
      "description_tooltip": null,
      "layout": "IPY_MODEL_e7f116b3740e4574a12642b54b4f4502",
      "max": 2,
      "min": 0,
      "orientation": "horizontal",
      "style": "IPY_MODEL_f8d27187032e44aa852b0e1a73fa6a15",
      "value": 2
     }
    },
    "09bc99d38a7f4007a57b216320837c7e": {
     "model_module": "@jupyter-widgets/controls",
     "model_module_version": "1.5.0",
     "model_name": "DescriptionStyleModel",
     "state": {
      "_model_module": "@jupyter-widgets/controls",
      "_model_module_version": "1.5.0",
      "_model_name": "DescriptionStyleModel",
      "_view_count": null,
      "_view_module": "@jupyter-widgets/base",
      "_view_module_version": "1.2.0",
      "_view_name": "StyleView",
      "description_width": ""
     }
    },
    "1be7c84577e94189bf5edd2380426e2b": {
     "model_module": "@jupyter-widgets/controls",
     "model_module_version": "1.5.0",
     "model_name": "FloatProgressModel",
     "state": {
      "_dom_classes": [],
      "_model_module": "@jupyter-widgets/controls",
      "_model_module_version": "1.5.0",
      "_model_name": "FloatProgressModel",
      "_view_count": null,
      "_view_module": "@jupyter-widgets/controls",
      "_view_module_version": "1.5.0",
      "_view_name": "ProgressView",
      "bar_style": "",
      "description": "",
      "description_tooltip": null,
      "layout": "IPY_MODEL_f7291a62de414f72b7cf3a53e9a9681d",
      "max": 1223,
      "min": 0,
      "orientation": "horizontal",
      "style": "IPY_MODEL_2c84a49e4b0f44fb91e3c50fc1bed1cf",
      "value": 20
     }
    },
    "21161fd5ca9e4c53acc13bb591c14188": {
     "model_module": "@jupyter-widgets/controls",
     "model_module_version": "1.5.0",
     "model_name": "HTMLModel",
     "state": {
      "_dom_classes": [],
      "_model_module": "@jupyter-widgets/controls",
      "_model_module_version": "1.5.0",
      "_model_name": "HTMLModel",
      "_view_count": null,
      "_view_module": "@jupyter-widgets/controls",
      "_view_module_version": "1.5.0",
      "_view_name": "HTMLView",
      "description": "",
      "description_tooltip": null,
      "layout": "IPY_MODEL_afdcc30dfdf44957b2470c577e2f6959",
      "placeholder": "​",
      "style": "IPY_MODEL_5602e4a184c343ec820bf127a7811b35",
      "value": " 2/2 [00:00&lt;00:00,  2.44it/s]"
     }
    },
    "26951b13c2bd4de7aa06324696b67e7c": {
     "model_module": "@jupyter-widgets/controls",
     "model_module_version": "1.5.0",
     "model_name": "HBoxModel",
     "state": {
      "_dom_classes": [],
      "_model_module": "@jupyter-widgets/controls",
      "_model_module_version": "1.5.0",
      "_model_name": "HBoxModel",
      "_view_count": null,
      "_view_module": "@jupyter-widgets/controls",
      "_view_module_version": "1.5.0",
      "_view_name": "HBoxView",
      "box_style": "",
      "children": [
       "IPY_MODEL_f2aba4c574584a998edb875fc3654781",
       "IPY_MODEL_069c7553b30948eda37ce1ca16c2693b",
       "IPY_MODEL_21161fd5ca9e4c53acc13bb591c14188"
      ],
      "layout": "IPY_MODEL_98675f0205524129a50fe5c25e7abac4"
     }
    },
    "2c84a49e4b0f44fb91e3c50fc1bed1cf": {
     "model_module": "@jupyter-widgets/controls",
     "model_module_version": "1.5.0",
     "model_name": "ProgressStyleModel",
     "state": {
      "_model_module": "@jupyter-widgets/controls",
      "_model_module_version": "1.5.0",
      "_model_name": "ProgressStyleModel",
      "_view_count": null,
      "_view_module": "@jupyter-widgets/base",
      "_view_module_version": "1.2.0",
      "_view_name": "StyleView",
      "bar_color": null,
      "description_width": ""
     }
    },
    "2e577966f32c469cbf8f7149f6b66d5d": {
     "model_module": "@jupyter-widgets/base",
     "model_module_version": "1.2.0",
     "model_name": "LayoutModel",
     "state": {
      "_model_module": "@jupyter-widgets/base",
      "_model_module_version": "1.2.0",
      "_model_name": "LayoutModel",
      "_view_count": null,
      "_view_module": "@jupyter-widgets/base",
      "_view_module_version": "1.2.0",
      "_view_name": "LayoutView",
      "align_content": null,
      "align_items": null,
      "align_self": null,
      "border": null,
      "bottom": null,
      "display": "inline-flex",
      "flex": null,
      "flex_flow": "row wrap",
      "grid_area": null,
      "grid_auto_columns": null,
      "grid_auto_flow": null,
      "grid_auto_rows": null,
      "grid_column": null,
      "grid_gap": null,
      "grid_row": null,
      "grid_template_areas": null,
      "grid_template_columns": null,
      "grid_template_rows": null,
      "height": null,
      "justify_content": null,
      "justify_items": null,
      "left": null,
      "margin": null,
      "max_height": null,
      "max_width": null,
      "min_height": null,
      "min_width": null,
      "object_fit": null,
      "object_position": null,
      "order": null,
      "overflow": null,
      "overflow_x": null,
      "overflow_y": null,
      "padding": null,
      "right": null,
      "top": null,
      "visibility": null,
      "width": "100%"
     }
    },
    "3b943b0f226c40d099d37f62b7c041ed": {
     "model_module": "@jupyter-widgets/controls",
     "model_module_version": "1.5.0",
     "model_name": "HBoxModel",
     "state": {
      "_dom_classes": [],
      "_model_module": "@jupyter-widgets/controls",
      "_model_module_version": "1.5.0",
      "_model_name": "HBoxModel",
      "_view_count": null,
      "_view_module": "@jupyter-widgets/controls",
      "_view_module_version": "1.5.0",
      "_view_name": "HBoxView",
      "box_style": "",
      "children": [
       "IPY_MODEL_bf48a6ce35e0407b92d79cacba3085a4",
       "IPY_MODEL_1be7c84577e94189bf5edd2380426e2b",
       "IPY_MODEL_6d7d21a67dc7414086b9f387eb7998a9"
      ],
      "layout": "IPY_MODEL_2e577966f32c469cbf8f7149f6b66d5d"
     }
    },
    "5602e4a184c343ec820bf127a7811b35": {
     "model_module": "@jupyter-widgets/controls",
     "model_module_version": "1.5.0",
     "model_name": "DescriptionStyleModel",
     "state": {
      "_model_module": "@jupyter-widgets/controls",
      "_model_module_version": "1.5.0",
      "_model_name": "DescriptionStyleModel",
      "_view_count": null,
      "_view_module": "@jupyter-widgets/base",
      "_view_module_version": "1.2.0",
      "_view_name": "StyleView",
      "description_width": ""
     }
    },
    "6d7d21a67dc7414086b9f387eb7998a9": {
     "model_module": "@jupyter-widgets/controls",
     "model_module_version": "1.5.0",
     "model_name": "HTMLModel",
     "state": {
      "_dom_classes": [],
      "_model_module": "@jupyter-widgets/controls",
      "_model_module_version": "1.5.0",
      "_model_name": "HTMLModel",
      "_view_count": null,
      "_view_module": "@jupyter-widgets/controls",
      "_view_module_version": "1.5.0",
      "_view_name": "HTMLView",
      "description": "",
      "description_tooltip": null,
      "layout": "IPY_MODEL_f3d1f28242fb4e7ca361eea71428a4f7",
      "placeholder": "​",
      "style": "IPY_MODEL_ad240a78cc924e2cab868f1471cb082e",
      "value": " 20/1223 [00:13&lt;13:36,  1.47it/s, v_num=0, train_loss=0.0479]"
     }
    },
    "8adf7d005dc74be0bc2ae1ff27ddd693": {
     "model_module": "@jupyter-widgets/base",
     "model_module_version": "1.2.0",
     "model_name": "LayoutModel",
     "state": {
      "_model_module": "@jupyter-widgets/base",
      "_model_module_version": "1.2.0",
      "_model_name": "LayoutModel",
      "_view_count": null,
      "_view_module": "@jupyter-widgets/base",
      "_view_module_version": "1.2.0",
      "_view_name": "LayoutView",
      "align_content": null,
      "align_items": null,
      "align_self": null,
      "border": null,
      "bottom": null,
      "display": null,
      "flex": null,
      "flex_flow": null,
      "grid_area": null,
      "grid_auto_columns": null,
      "grid_auto_flow": null,
      "grid_auto_rows": null,
      "grid_column": null,
      "grid_gap": null,
      "grid_row": null,
      "grid_template_areas": null,
      "grid_template_columns": null,
      "grid_template_rows": null,
      "height": null,
      "justify_content": null,
      "justify_items": null,
      "left": null,
      "margin": null,
      "max_height": null,
      "max_width": null,
      "min_height": null,
      "min_width": null,
      "object_fit": null,
      "object_position": null,
      "order": null,
      "overflow": null,
      "overflow_x": null,
      "overflow_y": null,
      "padding": null,
      "right": null,
      "top": null,
      "visibility": null,
      "width": null
     }
    },
    "98675f0205524129a50fe5c25e7abac4": {
     "model_module": "@jupyter-widgets/base",
     "model_module_version": "1.2.0",
     "model_name": "LayoutModel",
     "state": {
      "_model_module": "@jupyter-widgets/base",
      "_model_module_version": "1.2.0",
      "_model_name": "LayoutModel",
      "_view_count": null,
      "_view_module": "@jupyter-widgets/base",
      "_view_module_version": "1.2.0",
      "_view_name": "LayoutView",
      "align_content": null,
      "align_items": null,
      "align_self": null,
      "border": null,
      "bottom": null,
      "display": "inline-flex",
      "flex": null,
      "flex_flow": "row wrap",
      "grid_area": null,
      "grid_auto_columns": null,
      "grid_auto_flow": null,
      "grid_auto_rows": null,
      "grid_column": null,
      "grid_gap": null,
      "grid_row": null,
      "grid_template_areas": null,
      "grid_template_columns": null,
      "grid_template_rows": null,
      "height": null,
      "justify_content": null,
      "justify_items": null,
      "left": null,
      "margin": null,
      "max_height": null,
      "max_width": null,
      "min_height": null,
      "min_width": null,
      "object_fit": null,
      "object_position": null,
      "order": null,
      "overflow": null,
      "overflow_x": null,
      "overflow_y": null,
      "padding": null,
      "right": null,
      "top": null,
      "visibility": "hidden",
      "width": "100%"
     }
    },
    "ad240a78cc924e2cab868f1471cb082e": {
     "model_module": "@jupyter-widgets/controls",
     "model_module_version": "1.5.0",
     "model_name": "DescriptionStyleModel",
     "state": {
      "_model_module": "@jupyter-widgets/controls",
      "_model_module_version": "1.5.0",
      "_model_name": "DescriptionStyleModel",
      "_view_count": null,
      "_view_module": "@jupyter-widgets/base",
      "_view_module_version": "1.2.0",
      "_view_name": "StyleView",
      "description_width": ""
     }
    },
    "afdcc30dfdf44957b2470c577e2f6959": {
     "model_module": "@jupyter-widgets/base",
     "model_module_version": "1.2.0",
     "model_name": "LayoutModel",
     "state": {
      "_model_module": "@jupyter-widgets/base",
      "_model_module_version": "1.2.0",
      "_model_name": "LayoutModel",
      "_view_count": null,
      "_view_module": "@jupyter-widgets/base",
      "_view_module_version": "1.2.0",
      "_view_name": "LayoutView",
      "align_content": null,
      "align_items": null,
      "align_self": null,
      "border": null,
      "bottom": null,
      "display": null,
      "flex": null,
      "flex_flow": null,
      "grid_area": null,
      "grid_auto_columns": null,
      "grid_auto_flow": null,
      "grid_auto_rows": null,
      "grid_column": null,
      "grid_gap": null,
      "grid_row": null,
      "grid_template_areas": null,
      "grid_template_columns": null,
      "grid_template_rows": null,
      "height": null,
      "justify_content": null,
      "justify_items": null,
      "left": null,
      "margin": null,
      "max_height": null,
      "max_width": null,
      "min_height": null,
      "min_width": null,
      "object_fit": null,
      "object_position": null,
      "order": null,
      "overflow": null,
      "overflow_x": null,
      "overflow_y": null,
      "padding": null,
      "right": null,
      "top": null,
      "visibility": null,
      "width": null
     }
    },
    "bf48a6ce35e0407b92d79cacba3085a4": {
     "model_module": "@jupyter-widgets/controls",
     "model_module_version": "1.5.0",
     "model_name": "HTMLModel",
     "state": {
      "_dom_classes": [],
      "_model_module": "@jupyter-widgets/controls",
      "_model_module_version": "1.5.0",
      "_model_name": "HTMLModel",
      "_view_count": null,
      "_view_module": "@jupyter-widgets/controls",
      "_view_module_version": "1.5.0",
      "_view_name": "HTMLView",
      "description": "",
      "description_tooltip": null,
      "layout": "IPY_MODEL_8adf7d005dc74be0bc2ae1ff27ddd693",
      "placeholder": "​",
      "style": "IPY_MODEL_09bc99d38a7f4007a57b216320837c7e",
      "value": "Epoch 3:   2%"
     }
    },
    "c420d184c2aa425bae5cceebe4b62569": {
     "model_module": "@jupyter-widgets/base",
     "model_module_version": "1.2.0",
     "model_name": "LayoutModel",
     "state": {
      "_model_module": "@jupyter-widgets/base",
      "_model_module_version": "1.2.0",
      "_model_name": "LayoutModel",
      "_view_count": null,
      "_view_module": "@jupyter-widgets/base",
      "_view_module_version": "1.2.0",
      "_view_name": "LayoutView",
      "align_content": null,
      "align_items": null,
      "align_self": null,
      "border": null,
      "bottom": null,
      "display": null,
      "flex": null,
      "flex_flow": null,
      "grid_area": null,
      "grid_auto_columns": null,
      "grid_auto_flow": null,
      "grid_auto_rows": null,
      "grid_column": null,
      "grid_gap": null,
      "grid_row": null,
      "grid_template_areas": null,
      "grid_template_columns": null,
      "grid_template_rows": null,
      "height": null,
      "justify_content": null,
      "justify_items": null,
      "left": null,
      "margin": null,
      "max_height": null,
      "max_width": null,
      "min_height": null,
      "min_width": null,
      "object_fit": null,
      "object_position": null,
      "order": null,
      "overflow": null,
      "overflow_x": null,
      "overflow_y": null,
      "padding": null,
      "right": null,
      "top": null,
      "visibility": null,
      "width": null
     }
    },
    "c7e1929af27647bfa59dcb04354f6e86": {
     "model_module": "@jupyter-widgets/controls",
     "model_module_version": "1.5.0",
     "model_name": "DescriptionStyleModel",
     "state": {
      "_model_module": "@jupyter-widgets/controls",
      "_model_module_version": "1.5.0",
      "_model_name": "DescriptionStyleModel",
      "_view_count": null,
      "_view_module": "@jupyter-widgets/base",
      "_view_module_version": "1.2.0",
      "_view_name": "StyleView",
      "description_width": ""
     }
    },
    "e7f116b3740e4574a12642b54b4f4502": {
     "model_module": "@jupyter-widgets/base",
     "model_module_version": "1.2.0",
     "model_name": "LayoutModel",
     "state": {
      "_model_module": "@jupyter-widgets/base",
      "_model_module_version": "1.2.0",
      "_model_name": "LayoutModel",
      "_view_count": null,
      "_view_module": "@jupyter-widgets/base",
      "_view_module_version": "1.2.0",
      "_view_name": "LayoutView",
      "align_content": null,
      "align_items": null,
      "align_self": null,
      "border": null,
      "bottom": null,
      "display": null,
      "flex": "2",
      "flex_flow": null,
      "grid_area": null,
      "grid_auto_columns": null,
      "grid_auto_flow": null,
      "grid_auto_rows": null,
      "grid_column": null,
      "grid_gap": null,
      "grid_row": null,
      "grid_template_areas": null,
      "grid_template_columns": null,
      "grid_template_rows": null,
      "height": null,
      "justify_content": null,
      "justify_items": null,
      "left": null,
      "margin": null,
      "max_height": null,
      "max_width": null,
      "min_height": null,
      "min_width": null,
      "object_fit": null,
      "object_position": null,
      "order": null,
      "overflow": null,
      "overflow_x": null,
      "overflow_y": null,
      "padding": null,
      "right": null,
      "top": null,
      "visibility": null,
      "width": null
     }
    },
    "f2aba4c574584a998edb875fc3654781": {
     "model_module": "@jupyter-widgets/controls",
     "model_module_version": "1.5.0",
     "model_name": "HTMLModel",
     "state": {
      "_dom_classes": [],
      "_model_module": "@jupyter-widgets/controls",
      "_model_module_version": "1.5.0",
      "_model_name": "HTMLModel",
      "_view_count": null,
      "_view_module": "@jupyter-widgets/controls",
      "_view_module_version": "1.5.0",
      "_view_name": "HTMLView",
      "description": "",
      "description_tooltip": null,
      "layout": "IPY_MODEL_c420d184c2aa425bae5cceebe4b62569",
      "placeholder": "​",
      "style": "IPY_MODEL_c7e1929af27647bfa59dcb04354f6e86",
      "value": "Sanity Checking DataLoader 0: 100%"
     }
    },
    "f3d1f28242fb4e7ca361eea71428a4f7": {
     "model_module": "@jupyter-widgets/base",
     "model_module_version": "1.2.0",
     "model_name": "LayoutModel",
     "state": {
      "_model_module": "@jupyter-widgets/base",
      "_model_module_version": "1.2.0",
      "_model_name": "LayoutModel",
      "_view_count": null,
      "_view_module": "@jupyter-widgets/base",
      "_view_module_version": "1.2.0",
      "_view_name": "LayoutView",
      "align_content": null,
      "align_items": null,
      "align_self": null,
      "border": null,
      "bottom": null,
      "display": null,
      "flex": null,
      "flex_flow": null,
      "grid_area": null,
      "grid_auto_columns": null,
      "grid_auto_flow": null,
      "grid_auto_rows": null,
      "grid_column": null,
      "grid_gap": null,
      "grid_row": null,
      "grid_template_areas": null,
      "grid_template_columns": null,
      "grid_template_rows": null,
      "height": null,
      "justify_content": null,
      "justify_items": null,
      "left": null,
      "margin": null,
      "max_height": null,
      "max_width": null,
      "min_height": null,
      "min_width": null,
      "object_fit": null,
      "object_position": null,
      "order": null,
      "overflow": null,
      "overflow_x": null,
      "overflow_y": null,
      "padding": null,
      "right": null,
      "top": null,
      "visibility": null,
      "width": null
     }
    },
    "f7291a62de414f72b7cf3a53e9a9681d": {
     "model_module": "@jupyter-widgets/base",
     "model_module_version": "1.2.0",
     "model_name": "LayoutModel",
     "state": {
      "_model_module": "@jupyter-widgets/base",
      "_model_module_version": "1.2.0",
      "_model_name": "LayoutModel",
      "_view_count": null,
      "_view_module": "@jupyter-widgets/base",
      "_view_module_version": "1.2.0",
      "_view_name": "LayoutView",
      "align_content": null,
      "align_items": null,
      "align_self": null,
      "border": null,
      "bottom": null,
      "display": null,
      "flex": "2",
      "flex_flow": null,
      "grid_area": null,
      "grid_auto_columns": null,
      "grid_auto_flow": null,
      "grid_auto_rows": null,
      "grid_column": null,
      "grid_gap": null,
      "grid_row": null,
      "grid_template_areas": null,
      "grid_template_columns": null,
      "grid_template_rows": null,
      "height": null,
      "justify_content": null,
      "justify_items": null,
      "left": null,
      "margin": null,
      "max_height": null,
      "max_width": null,
      "min_height": null,
      "min_width": null,
      "object_fit": null,
      "object_position": null,
      "order": null,
      "overflow": null,
      "overflow_x": null,
      "overflow_y": null,
      "padding": null,
      "right": null,
      "top": null,
      "visibility": null,
      "width": null
     }
    },
    "f8d27187032e44aa852b0e1a73fa6a15": {
     "model_module": "@jupyter-widgets/controls",
     "model_module_version": "1.5.0",
     "model_name": "ProgressStyleModel",
     "state": {
      "_model_module": "@jupyter-widgets/controls",
      "_model_module_version": "1.5.0",
      "_model_name": "ProgressStyleModel",
      "_view_count": null,
      "_view_module": "@jupyter-widgets/base",
      "_view_module_version": "1.2.0",
      "_view_name": "StyleView",
      "bar_color": null,
      "description_width": ""
     }
    }
   }
  }
 },
 "nbformat": 4,
 "nbformat_minor": 0
}
